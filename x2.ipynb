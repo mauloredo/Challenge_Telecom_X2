{
  "nbformat": 4,
  "nbformat_minor": 0,
  "metadata": {
    "colab": {
      "provenance": [],
      "authorship_tag": "ABX9TyPqRrJdbgFwxjwNkvx8s9dp",
      "include_colab_link": true
    },
    "kernelspec": {
      "name": "python3",
      "display_name": "Python 3"
    },
    "language_info": {
      "name": "python"
    }
  },
  "cells": [
    {
      "cell_type": "markdown",
      "metadata": {
        "id": "view-in-github",
        "colab_type": "text"
      },
      "source": [
        "<a href=\"https://colab.research.google.com/github/mauloredo/Challenge_Telecom_X2/blob/main/x2.ipynb\" target=\"_parent\"><img src=\"https://colab.research.google.com/assets/colab-badge.svg\" alt=\"Open In Colab\"/></a>"
      ]
    },
    {
      "cell_type": "markdown",
      "source": [
        "# PRODUCCIÓN"
      ],
      "metadata": {
        "id": "96duXZO-f3K8"
      }
    },
    {
      "cell_type": "markdown",
      "source": [
        "## CONTROL DE VERSIONES DEL DATAFRAME"
      ],
      "metadata": {
        "id": "8-FWNZIe0HkZ"
      }
    },
    {
      "cell_type": "markdown",
      "source": [
        "**datos_x2**  Dataframe importado del projecto anterior\n",
        "\n",
        "**datos** Dataframe con columnas object a category, como estaban originalmente\n",
        "\n",
        "**datos_v1** Dataframe sin las columnas TotalCharges, Cuentas_Diarias y PhoneServices\n",
        "\n",
        "**datos_v2** Se transforma nuevamente de object a categories\n",
        "\n",
        "**data** Datframe despues de One-Hot Encoding y LabelEncoder\n",
        "\n",
        "**data_2** Dataframe después de StandardScaler"
      ],
      "metadata": {
        "id": "-vhG1u-90fev"
      }
    },
    {
      "cell_type": "markdown",
      "source": [
        "## CONTROL DE OBJETOS"
      ],
      "metadata": {
        "id": "4UR3GJKY0UiW"
      }
    },
    {
      "cell_type": "markdown",
      "source": [
        "FASE O\n",
        "\n",
        "Tipo\t              Nombre del archivo\n",
        "\n",
        "Histograma\t        hist_tenure_churn.png\n",
        "\n",
        "Histograma\t        hist_monthlycharges_churn.png\n",
        "\n",
        "Histograma\t        hist_totalcharges_churn.png\n",
        "\n",
        "Boxplot\t            boxplot_tenure_churn.png\n",
        "\n",
        "Boxplot\t            boxplot_monthlycharges_churn.png\n",
        "\n",
        "Boxplot\t            boxplot_totalcharges_churn.png\n",
        "\n",
        "gender\t            catplot_gender_churn.png\n",
        "\n",
        "SeniorCitizen\t      catplot_seniorcitizen_churn.png\n",
        "\n",
        "Partner\t            catplot_partner_churn.png\n",
        "\n",
        "Dependents\t        catplot_dependents_churn.png\n",
        "\n",
        "Contract\t          catplot_contract_churn.png\n",
        "\n",
        "PaymentMethod\t      catplot_paymentmethod_churn.png\n",
        "\n",
        "InternetService\t    catplot_internetservice_churn.png\n",
        "\n",
        "PhoneService\t      catplot_phoneservice_churn.png\n",
        "\n",
        "MultipleLines\tcatplot_multiplelines_churn.png\n",
        "\n",
        "OnlineSecurity\tcatplot_onlinesecurity_churn.png\n",
        "\n",
        "OnlineBackup\tcatplot_onlinebackup_churn.png\n",
        "\n",
        "\n",
        "DeviceProtection\tcatplot_deviceprotection_churn.png\n",
        "\n",
        "TechSupport\tcatplot_techsupport_churn.png\n",
        "\n",
        "StreamingTV\tcatplot_streamingtv_churn.png\n",
        "\n",
        "StreamingMovies\tcatplot_streamingmovies_churn.png\n",
        "\n",
        "PaperlessBilling\tcatplot_paperlessbilling_churn.png"
      ],
      "metadata": {
        "id": "PFX_Vr71otZw"
      }
    },
    {
      "cell_type": "markdown",
      "source": [
        "## DESCRIPCIÓN DEL DESAFÍO"
      ],
      "metadata": {
        "id": "O8FIUBIjcOQm"
      }
    },
    {
      "cell_type": "markdown",
      "source": [
        "\n",
        "\n",
        "Telecom X – Parte 2: Predicción de Cancelación (Churn)\n",
        "\n",
        "📣 Historia del Desafío\n",
        "\n",
        "¡Felicidades! 🎉 Has sido promovido después de tu excelente desempeño en el análisis exploratorio de la cancelación de clientes en Telecom X. Tu dedicación, claridad al comunicar los datos y visión estratégica marcaron la diferencia.\n",
        "\n",
        "Ahora, ¡has sido invitado oficialmente a formar parte del equipo de Machine Learning de la empresa!\n",
        "\n",
        "🎯 Misión\n",
        "\n",
        "Tu nueva misión es desarrollar modelos predictivos capaces de prever qué clientes tienen mayor probabilidad de cancelar sus servicios.\n",
        "\n",
        "La empresa quiere anticiparse al problema de la cancelación, y te corresponde a ti construir un pipeline robusto para esta etapa inicial de modelado.\n",
        "\n",
        "🧠 Objetivos del Desafío\n",
        "\n",
        "    Preparar los datos para el modelado (tratamiento, codificación, normalización).\n",
        "\n",
        "    Realizar análisis de correlación y selección de variables.\n",
        "\n",
        "    Entrenar dos o más modelos de clasificación.\n",
        "\n",
        "    Evaluar el rendimiento de los modelos con métricas.\n",
        "\n",
        "    Interpretar los resultados, incluyendo la importancia de las variables.\n",
        "\n",
        "    Crear una conclusión estratégica señalando los principales factores que influyen en la cancelación.\n",
        "\n",
        "🧰 Lo que vas a practicar\n",
        "\n",
        "✅ Preprocesamiento de datos para Machine Learning\n",
        "✅ Construcción y evaluación de modelos predictivos\n",
        "✅ Interpretación de resultados y entrega de insights\n",
        "✅ Comunicación técnica con enfoque estratégico\n",
        "\n",
        "🚀 Ahora eres: Analista Junior de Machine Learning\n",
        "\n",
        "Telecom X confía en tu entrega para dar los próximos pasos hacia una solución de inteligencia predictiva eficaz. ¡Buena suerte!\n",
        "Comentarios y Actividad"
      ],
      "metadata": {
        "id": "Uh8IXd4UcEKc"
      }
    },
    {
      "cell_type": "markdown",
      "source": [
        "## 1. CARGA Y EXPLORACIÓN INICIAL DE DATOS"
      ],
      "metadata": {
        "id": "OpKr_G99gKKY"
      }
    },
    {
      "cell_type": "markdown",
      "source": [
        "### Importar el dataset desde el repositorio."
      ],
      "metadata": {
        "id": "UosVfSjuze3e"
      }
    },
    {
      "cell_type": "code",
      "source": [
        "import requests\n",
        "from io import BytesIO\n",
        "import pandas as pd\n",
        "\n",
        "raw_url = 'https://raw.githubusercontent.com/mauloredo/Challenge_Telecom_X2/refs/heads/main/data_x2.csv'\n",
        "\n",
        "print(f\"Attempting to download data from: {raw_url}\")\n",
        "\n",
        "try:\n",
        "    response = requests.get(raw_url)\n",
        "    response.raise_for_status()\n",
        "\n",
        "    datos_x2 = pd.read_csv(BytesIO(response.content))\n",
        "\n",
        "    print(\"File downloaded and loaded successfully!\")\n",
        "    print(\"DataFrame shape:\", datos_x2.shape)\n",
        "    print(\"\\nDataFrame head:\")\n",
        "    print(datos_x2.head())\n",
        "\n",
        "except requests.exceptions.RequestException as e:\n",
        "    print(f\"Error downloading the file: {e}\")\n",
        "    print(\"Please ensure the raw URL is correct and the file exists in the repository.\")"
      ],
      "metadata": {
        "colab": {
          "base_uri": "https://localhost:8080/"
        },
        "id": "aV8DwSQcgSOL",
        "outputId": "b917e231-cf18-4163-a1d7-9b44b4287668"
      },
      "execution_count": 2,
      "outputs": [
        {
          "output_type": "stream",
          "name": "stdout",
          "text": [
            "Attempting to download data from: https://raw.githubusercontent.com/mauloredo/Challenge_Telecom_X2/refs/heads/main/data_x2.csv\n",
            "File downloaded and loaded successfully!\n",
            "DataFrame shape: (7043, 21)\n",
            "\n",
            "DataFrame head:\n",
            "   Churn  gender  SeniorCitizen Partner Dependents  tenure PhoneService  \\\n",
            "0  False  Female          False     Yes        Yes       9          Yes   \n",
            "1  False    Male          False      No         No       9          Yes   \n",
            "2   True    Male          False      No         No       4          Yes   \n",
            "3   True    Male           True     Yes         No      13          Yes   \n",
            "4   True  Female           True     Yes         No       3          Yes   \n",
            "\n",
            "  MultipleLines InternetService OnlineSecurity  ... DeviceProtection  \\\n",
            "0            No             DSL             No  ...               No   \n",
            "1           Yes             DSL             No  ...               No   \n",
            "2            No     Fiber optic             No  ...              Yes   \n",
            "3            No     Fiber optic             No  ...              Yes   \n",
            "4            No     Fiber optic             No  ...               No   \n",
            "\n",
            "  TechSupport StreamingTV StreamingMovies        Contract PaperlessBilling  \\\n",
            "0         Yes         Yes              No        One year              Yes   \n",
            "1          No          No             Yes  Month-to-month               No   \n",
            "2          No          No              No  Month-to-month              Yes   \n",
            "3          No         Yes             Yes  Month-to-month              Yes   \n",
            "4         Yes         Yes              No  Month-to-month              Yes   \n",
            "\n",
            "      PaymentMethod MonthlyCharges  TotalCharges  Cuentas_diarias  \n",
            "0      Mailed check           65.6        593.30         2.186667  \n",
            "1      Mailed check           59.9        542.40         1.996667  \n",
            "2  Electronic check           73.9        280.85         2.463333  \n",
            "3  Electronic check           98.0       1237.85         3.266667  \n",
            "4      Mailed check           83.9        267.40         2.796667  \n",
            "\n",
            "[5 rows x 21 columns]\n"
          ]
        }
      ]
    },
    {
      "cell_type": "markdown",
      "source": [
        "### Verificar dimensiones, tipos de datos y valores nulos.\n"
      ],
      "metadata": {
        "id": "fs065Woxz2C9"
      }
    },
    {
      "cell_type": "markdown",
      "source": [],
      "metadata": {
        "id": "Rkb6S3Qz2WXR"
      }
    },
    {
      "cell_type": "code",
      "source": [
        "# Verificar dimensiones del DataFrame\n",
        "print(f\"Filas: {datos_x2.shape[0]} | Columnas: {datos_x2.shape[1]}\")\n",
        "\n",
        "# Mostrar nombres de columnas\n",
        "print(\"\\n📋 Lista de columnas:\")\n",
        "print(datos_x2.columns.tolist())\n",
        "\n",
        "# Tipos de datos por columna\n",
        "print(\"\\n🔧 Tipos de datos:\")\n",
        "print(datos_x2.dtypes)\n",
        "\n",
        "# Recuento de valores nulos por columna\n",
        "print(\"\\n🧯 Valores nulos por columna:\")\n",
        "print(datos_x2.isnull().sum())\n",
        "\n",
        "# Verificar valores únicos por columna (ideal para detectar categóricas)\n",
        "print(\"\\n🔎 Valores únicos por columna:\")\n",
        "print(datos_x2.nunique())\n",
        "\n",
        "# Estadísticas descriptivas de columnas numéricas\n",
        "print(\"\\n📊 Estadísticas numéricas:\")\n",
        "print(datos_x2.describe())\n",
        "\n",
        "# Estadísticas para columnas categóricas (si existen)\n",
        "print(\"\\n📊 Estadísticas categóricas:\")\n",
        "print(datos_x2.describe(include='object'))\n",
        "\n"
      ],
      "metadata": {
        "colab": {
          "base_uri": "https://localhost:8080/"
        },
        "id": "pBsLBXzCz8Zm",
        "outputId": "a552ca67-5c76-40fd-c676-f62bf2628521"
      },
      "execution_count": 3,
      "outputs": [
        {
          "output_type": "stream",
          "name": "stdout",
          "text": [
            "Filas: 7043 | Columnas: 21\n",
            "\n",
            "📋 Lista de columnas:\n",
            "['Churn', 'gender', 'SeniorCitizen', 'Partner', 'Dependents', 'tenure', 'PhoneService', 'MultipleLines', 'InternetService', 'OnlineSecurity', 'OnlineBackup', 'DeviceProtection', 'TechSupport', 'StreamingTV', 'StreamingMovies', 'Contract', 'PaperlessBilling', 'PaymentMethod', 'MonthlyCharges', 'TotalCharges', 'Cuentas_diarias']\n",
            "\n",
            "🔧 Tipos de datos:\n",
            "Churn                  bool\n",
            "gender               object\n",
            "SeniorCitizen          bool\n",
            "Partner              object\n",
            "Dependents           object\n",
            "tenure                int64\n",
            "PhoneService         object\n",
            "MultipleLines        object\n",
            "InternetService      object\n",
            "OnlineSecurity       object\n",
            "OnlineBackup         object\n",
            "DeviceProtection     object\n",
            "TechSupport          object\n",
            "StreamingTV          object\n",
            "StreamingMovies      object\n",
            "Contract             object\n",
            "PaperlessBilling     object\n",
            "PaymentMethod        object\n",
            "MonthlyCharges      float64\n",
            "TotalCharges        float64\n",
            "Cuentas_diarias     float64\n",
            "dtype: object\n",
            "\n",
            "🧯 Valores nulos por columna:\n",
            "Churn               0\n",
            "gender              0\n",
            "SeniorCitizen       0\n",
            "Partner             0\n",
            "Dependents          0\n",
            "tenure              0\n",
            "PhoneService        0\n",
            "MultipleLines       0\n",
            "InternetService     0\n",
            "OnlineSecurity      0\n",
            "OnlineBackup        0\n",
            "DeviceProtection    0\n",
            "TechSupport         0\n",
            "StreamingTV         0\n",
            "StreamingMovies     0\n",
            "Contract            0\n",
            "PaperlessBilling    0\n",
            "PaymentMethod       0\n",
            "MonthlyCharges      0\n",
            "TotalCharges        0\n",
            "Cuentas_diarias     0\n",
            "dtype: int64\n",
            "\n",
            "🔎 Valores únicos por columna:\n",
            "Churn                  2\n",
            "gender                 2\n",
            "SeniorCitizen          2\n",
            "Partner                2\n",
            "Dependents             2\n",
            "tenure                73\n",
            "PhoneService           2\n",
            "MultipleLines          3\n",
            "InternetService        3\n",
            "OnlineSecurity         3\n",
            "OnlineBackup           3\n",
            "DeviceProtection       3\n",
            "TechSupport            3\n",
            "StreamingTV            3\n",
            "StreamingMovies        3\n",
            "Contract               3\n",
            "PaperlessBilling       2\n",
            "PaymentMethod          4\n",
            "MonthlyCharges      1585\n",
            "TotalCharges        6531\n",
            "Cuentas_diarias     1585\n",
            "dtype: int64\n",
            "\n",
            "📊 Estadísticas numéricas:\n",
            "            tenure  MonthlyCharges  TotalCharges  Cuentas_diarias\n",
            "count  7043.000000     7043.000000   7043.000000      7043.000000\n",
            "mean     32.371149       64.761692   2279.734304         2.158723\n",
            "std      24.559481       30.090047   2266.794470         1.003002\n",
            "min       0.000000       18.250000      0.000000         0.608333\n",
            "25%       9.000000       35.500000    398.550000         1.183333\n",
            "50%      29.000000       70.350000   1394.550000         2.345000\n",
            "75%      55.000000       89.850000   3786.600000         2.995000\n",
            "max      72.000000      118.750000   8684.800000         3.958333\n",
            "\n",
            "📊 Estadísticas categóricas:\n",
            "       gender Partner Dependents PhoneService MultipleLines InternetService  \\\n",
            "count    7043    7043       7043         7043          7043            7043   \n",
            "unique      2       2          2            2             3               3   \n",
            "top      Male      No         No          Yes            No     Fiber optic   \n",
            "freq     3555    3641       4933         6361          3390            3096   \n",
            "\n",
            "       OnlineSecurity OnlineBackup DeviceProtection TechSupport StreamingTV  \\\n",
            "count            7043         7043             7043        7043        7043   \n",
            "unique              3            3                3           3           3   \n",
            "top                No           No               No          No          No   \n",
            "freq             3498         3088             3095        3473        2810   \n",
            "\n",
            "       StreamingMovies        Contract PaperlessBilling     PaymentMethod  \n",
            "count             7043            7043             7043              7043  \n",
            "unique               3               3                2                 4  \n",
            "top                 No  Month-to-month              Yes  Electronic check  \n",
            "freq              2785            3875             4171              2365  \n"
          ]
        }
      ]
    },
    {
      "cell_type": "markdown",
      "source": [
        "Después del análisis exploratiorio se encuentra que los tipos de variables del dataframe difieren con el archivo original, Puede ser que en la importación\n",
        "\n",
        "Data columns (total 20 columns):\n",
        " ind   Column            Non-Null Count  Dtype   \n",
        "---  ------            --------------  -----   \n",
        " 0   Churn             7043 non-null   bool    \n",
        " 1   gender            7043 non-null   category\n",
        " 2   SeniorCitizen     7043 non-null   bool    \n",
        " 3   Partner           7043 non-null   category\n",
        " 4   Dependents        7043 non-null   category\n",
        " 5   tenure            7043 non-null   int64   \n",
        " 6   PhoneService      7043 non-null   category\n",
        " 7   MultipleLines     7043 non-null   category\n",
        " 8   InternetService   7043 non-null   category\n",
        " 9   OnlineSecurity    7043 non-null   category\n",
        " 10  OnlineBackup      7043 non-null   category\n",
        " 11  DeviceProtection  7043 non-null   category\n",
        " 12  TechSupport       7043 non-null   category\n",
        " 13  StreamingTV       7043 non-null   category\n",
        " 14  StreamingMovies   7043 non-null   category\n",
        " 15  Contract          7043 non-null   category\n",
        " 16  PaperlessBilling  7043 non-null   category\n",
        " 17  PaymentMethod     7043 non-null   category\n",
        " 18  MonthlyCharges    7043 non-null   float64\n",
        " 19  TotalCharges      7043 non-null   object  \n",
        "\n",
        "Churn                  bool\n",
        "gender               object\n",
        "SeniorCitizen          bool\n",
        "Partner              object\n",
        "Dependents           object\n",
        "tenure                int64\n",
        "PhoneService         object\n",
        "MultipleLines        object\n",
        "InternetService      object\n",
        "OnlineSecurity       object\n",
        "OnlineBackup         object\n",
        "DeviceProtection     object\n",
        "TechSupport          object\n",
        "StreamingTV          object\n",
        "StreamingMovies      object\n",
        "Contract             object\n",
        "PaperlessBilling     object\n",
        "PaymentMethod        object\n",
        "MonthlyCharges      float64\n",
        "TotalCharges        float64\n",
        "Cuentas_diarias     float64"
      ],
      "metadata": {
        "id": "DgFRrfG82a2d"
      }
    },
    {
      "cell_type": "markdown",
      "source": [
        "Por el momento, las columnas se quedarán así ya qeu mas adelante, si decidimos incluirlas para el análisis, se convertirán con alguno de los métodos One-Hot o Label Encoder. Sin embargo se revisan los datos de estas columnas a continuación."
      ],
      "metadata": {
        "id": "lXthK1MK4c8U"
      }
    },
    {
      "cell_type": "code",
      "source": [
        "# Obtener columnas categóricas\n",
        "cat_cols = datos_x2.select_dtypes(include='object').columns\n",
        "\n",
        "# Obtener número total de filas\n",
        "total_filas = datos_x2.shape[0]\n",
        "\n",
        "for col in cat_cols:\n",
        "    print(f\"\\n📂 Columna: {col}\")\n",
        "\n",
        "    # Mostrar valores únicos\n",
        "    uniques = datos_x2[col].unique()\n",
        "    print(\"Valores únicos:\", uniques)\n",
        "    print(\"Cantidad de únicos:\", datos_x2[col].nunique())\n",
        "\n",
        "    # Mostrar frecuencia de cada valor\n",
        "    value_counts = datos_x2[col].value_counts(dropna=False)\n",
        "    print(\"\\n📊 Frecuencia de cada valor:\")\n",
        "    print(value_counts)\n",
        "\n",
        "    # Sumar total de frecuencias\n",
        "    suma_total = value_counts.sum()\n",
        "    print(f\"\\n🧾 Suma total de valores: {suma_total}\")\n",
        "\n",
        "    # Validar coincidencia con número de filas\n",
        "    if suma_total == total_filas:\n",
        "        print(\"✅ La suma de frecuencias coincide con el total de filas.\")\n",
        "    else:\n",
        "        print(\"⚠️ La suma NO coincide con el total de filas. Revisar posibles errores o valores perdidos.\")\n",
        "\n",
        "\n"
      ],
      "metadata": {
        "id": "_0lzScnDcAdd",
        "colab": {
          "base_uri": "https://localhost:8080/"
        },
        "outputId": "54097b9e-ea05-45a4-8f1c-d2b5f720e054"
      },
      "execution_count": 4,
      "outputs": [
        {
          "output_type": "stream",
          "name": "stdout",
          "text": [
            "\n",
            "📂 Columna: gender\n",
            "Valores únicos: ['Female' 'Male']\n",
            "Cantidad de únicos: 2\n",
            "\n",
            "📊 Frecuencia de cada valor:\n",
            "gender\n",
            "Male      3555\n",
            "Female    3488\n",
            "Name: count, dtype: int64\n",
            "\n",
            "🧾 Suma total de valores: 7043\n",
            "✅ La suma de frecuencias coincide con el total de filas.\n",
            "\n",
            "📂 Columna: Partner\n",
            "Valores únicos: ['Yes' 'No']\n",
            "Cantidad de únicos: 2\n",
            "\n",
            "📊 Frecuencia de cada valor:\n",
            "Partner\n",
            "No     3641\n",
            "Yes    3402\n",
            "Name: count, dtype: int64\n",
            "\n",
            "🧾 Suma total de valores: 7043\n",
            "✅ La suma de frecuencias coincide con el total de filas.\n",
            "\n",
            "📂 Columna: Dependents\n",
            "Valores únicos: ['Yes' 'No']\n",
            "Cantidad de únicos: 2\n",
            "\n",
            "📊 Frecuencia de cada valor:\n",
            "Dependents\n",
            "No     4933\n",
            "Yes    2110\n",
            "Name: count, dtype: int64\n",
            "\n",
            "🧾 Suma total de valores: 7043\n",
            "✅ La suma de frecuencias coincide con el total de filas.\n",
            "\n",
            "📂 Columna: PhoneService\n",
            "Valores únicos: ['Yes' 'No']\n",
            "Cantidad de únicos: 2\n",
            "\n",
            "📊 Frecuencia de cada valor:\n",
            "PhoneService\n",
            "Yes    6361\n",
            "No      682\n",
            "Name: count, dtype: int64\n",
            "\n",
            "🧾 Suma total de valores: 7043\n",
            "✅ La suma de frecuencias coincide con el total de filas.\n",
            "\n",
            "📂 Columna: MultipleLines\n",
            "Valores únicos: ['No' 'Yes' 'No phone service']\n",
            "Cantidad de únicos: 3\n",
            "\n",
            "📊 Frecuencia de cada valor:\n",
            "MultipleLines\n",
            "No                  3390\n",
            "Yes                 2971\n",
            "No phone service     682\n",
            "Name: count, dtype: int64\n",
            "\n",
            "🧾 Suma total de valores: 7043\n",
            "✅ La suma de frecuencias coincide con el total de filas.\n",
            "\n",
            "📂 Columna: InternetService\n",
            "Valores únicos: ['DSL' 'Fiber optic' 'No']\n",
            "Cantidad de únicos: 3\n",
            "\n",
            "📊 Frecuencia de cada valor:\n",
            "InternetService\n",
            "Fiber optic    3096\n",
            "DSL            2421\n",
            "No             1526\n",
            "Name: count, dtype: int64\n",
            "\n",
            "🧾 Suma total de valores: 7043\n",
            "✅ La suma de frecuencias coincide con el total de filas.\n",
            "\n",
            "📂 Columna: OnlineSecurity\n",
            "Valores únicos: ['No' 'Yes' 'No internet service']\n",
            "Cantidad de únicos: 3\n",
            "\n",
            "📊 Frecuencia de cada valor:\n",
            "OnlineSecurity\n",
            "No                     3498\n",
            "Yes                    2019\n",
            "No internet service    1526\n",
            "Name: count, dtype: int64\n",
            "\n",
            "🧾 Suma total de valores: 7043\n",
            "✅ La suma de frecuencias coincide con el total de filas.\n",
            "\n",
            "📂 Columna: OnlineBackup\n",
            "Valores únicos: ['Yes' 'No' 'No internet service']\n",
            "Cantidad de únicos: 3\n",
            "\n",
            "📊 Frecuencia de cada valor:\n",
            "OnlineBackup\n",
            "No                     3088\n",
            "Yes                    2429\n",
            "No internet service    1526\n",
            "Name: count, dtype: int64\n",
            "\n",
            "🧾 Suma total de valores: 7043\n",
            "✅ La suma de frecuencias coincide con el total de filas.\n",
            "\n",
            "📂 Columna: DeviceProtection\n",
            "Valores únicos: ['No' 'Yes' 'No internet service']\n",
            "Cantidad de únicos: 3\n",
            "\n",
            "📊 Frecuencia de cada valor:\n",
            "DeviceProtection\n",
            "No                     3095\n",
            "Yes                    2422\n",
            "No internet service    1526\n",
            "Name: count, dtype: int64\n",
            "\n",
            "🧾 Suma total de valores: 7043\n",
            "✅ La suma de frecuencias coincide con el total de filas.\n",
            "\n",
            "📂 Columna: TechSupport\n",
            "Valores únicos: ['Yes' 'No' 'No internet service']\n",
            "Cantidad de únicos: 3\n",
            "\n",
            "📊 Frecuencia de cada valor:\n",
            "TechSupport\n",
            "No                     3473\n",
            "Yes                    2044\n",
            "No internet service    1526\n",
            "Name: count, dtype: int64\n",
            "\n",
            "🧾 Suma total de valores: 7043\n",
            "✅ La suma de frecuencias coincide con el total de filas.\n",
            "\n",
            "📂 Columna: StreamingTV\n",
            "Valores únicos: ['Yes' 'No' 'No internet service']\n",
            "Cantidad de únicos: 3\n",
            "\n",
            "📊 Frecuencia de cada valor:\n",
            "StreamingTV\n",
            "No                     2810\n",
            "Yes                    2707\n",
            "No internet service    1526\n",
            "Name: count, dtype: int64\n",
            "\n",
            "🧾 Suma total de valores: 7043\n",
            "✅ La suma de frecuencias coincide con el total de filas.\n",
            "\n",
            "📂 Columna: StreamingMovies\n",
            "Valores únicos: ['No' 'Yes' 'No internet service']\n",
            "Cantidad de únicos: 3\n",
            "\n",
            "📊 Frecuencia de cada valor:\n",
            "StreamingMovies\n",
            "No                     2785\n",
            "Yes                    2732\n",
            "No internet service    1526\n",
            "Name: count, dtype: int64\n",
            "\n",
            "🧾 Suma total de valores: 7043\n",
            "✅ La suma de frecuencias coincide con el total de filas.\n",
            "\n",
            "📂 Columna: Contract\n",
            "Valores únicos: ['One year' 'Month-to-month' 'Two year']\n",
            "Cantidad de únicos: 3\n",
            "\n",
            "📊 Frecuencia de cada valor:\n",
            "Contract\n",
            "Month-to-month    3875\n",
            "Two year          1695\n",
            "One year          1473\n",
            "Name: count, dtype: int64\n",
            "\n",
            "🧾 Suma total de valores: 7043\n",
            "✅ La suma de frecuencias coincide con el total de filas.\n",
            "\n",
            "📂 Columna: PaperlessBilling\n",
            "Valores únicos: ['Yes' 'No']\n",
            "Cantidad de únicos: 2\n",
            "\n",
            "📊 Frecuencia de cada valor:\n",
            "PaperlessBilling\n",
            "Yes    4171\n",
            "No     2872\n",
            "Name: count, dtype: int64\n",
            "\n",
            "🧾 Suma total de valores: 7043\n",
            "✅ La suma de frecuencias coincide con el total de filas.\n",
            "\n",
            "📂 Columna: PaymentMethod\n",
            "Valores únicos: ['Mailed check' 'Electronic check' 'Credit card (automatic)'\n",
            " 'Bank transfer (automatic)']\n",
            "Cantidad de únicos: 4\n",
            "\n",
            "📊 Frecuencia de cada valor:\n",
            "PaymentMethod\n",
            "Electronic check             2365\n",
            "Mailed check                 1612\n",
            "Bank transfer (automatic)    1544\n",
            "Credit card (automatic)      1522\n",
            "Name: count, dtype: int64\n",
            "\n",
            "🧾 Suma total de valores: 7043\n",
            "✅ La suma de frecuencias coincide con el total de filas.\n"
          ]
        }
      ]
    },
    {
      "cell_type": "code",
      "source": [
        "print(type(datos_x2))"
      ],
      "metadata": {
        "colab": {
          "base_uri": "https://localhost:8080/"
        },
        "id": "8xxADH0NEEA2",
        "outputId": "5e6b1886-3fc1-4463-bffd-fa183a64ba9b"
      },
      "execution_count": 5,
      "outputs": [
        {
          "output_type": "stream",
          "name": "stdout",
          "text": [
            "<class 'pandas.core.frame.DataFrame'>\n"
          ]
        }
      ]
    },
    {
      "cell_type": "code",
      "source": [
        "print(\"Shape:\", datos_x2.shape)\n",
        "print(\"¿Está vacío?:\", datos_x2.empty)"
      ],
      "metadata": {
        "colab": {
          "base_uri": "https://localhost:8080/"
        },
        "id": "j_xW_6G9Evmq",
        "outputId": "3703e466-2b99-46bf-f60b-1eb22a3d9886"
      },
      "execution_count": 6,
      "outputs": [
        {
          "output_type": "stream",
          "name": "stdout",
          "text": [
            "Shape: (7043, 21)\n",
            "¿Está vacío?: False\n"
          ]
        }
      ]
    },
    {
      "cell_type": "code",
      "source": [
        "# Transformación de tipos y renombrado del DataFrame\n",
        "\n",
        "# 1. Convertir columnas object a category en datos_x2\n",
        "object_columns = datos_x2.select_dtypes(include=['object']).columns\n",
        "for col in object_columns:\n",
        "    datos_x2[col] = datos_x2[col].astype('category')\n",
        "\n",
        "# 2. Renombrar el DataFrame a 'datos'\n",
        "datos = datos_x2.copy()\n",
        "\n",
        "# Verificación\n",
        "print(\"\\nTipos de datos después de la conversión:\")\n",
        "print(datos.dtypes)\n",
        "print(\"\\nNombre del DataFrame:\", [name for name in globals() if globals()[name] is datos])\n",
        "\n",
        "# 3. Guardar el DataFrame procesado\n",
        "output_filename = 'datos.csv'\n",
        "datos.to_csv(output_filename, index=False)\n",
        "print(f\"\\nDataFrame guardado como '{output_filename}'\")\n",
        "\n"
      ],
      "metadata": {
        "colab": {
          "base_uri": "https://localhost:8080/"
        },
        "id": "rdr97YOM3f8s",
        "outputId": "c1c8c2b3-46dd-4ad5-e84c-ad91265d1572"
      },
      "execution_count": 7,
      "outputs": [
        {
          "output_type": "stream",
          "name": "stdout",
          "text": [
            "\n",
            "Tipos de datos después de la conversión:\n",
            "Churn                   bool\n",
            "gender              category\n",
            "SeniorCitizen           bool\n",
            "Partner             category\n",
            "Dependents          category\n",
            "tenure                 int64\n",
            "PhoneService        category\n",
            "MultipleLines       category\n",
            "InternetService     category\n",
            "OnlineSecurity      category\n",
            "OnlineBackup        category\n",
            "DeviceProtection    category\n",
            "TechSupport         category\n",
            "StreamingTV         category\n",
            "StreamingMovies     category\n",
            "Contract            category\n",
            "PaperlessBilling    category\n",
            "PaymentMethod       category\n",
            "MonthlyCharges       float64\n",
            "TotalCharges         float64\n",
            "Cuentas_diarias      float64\n",
            "dtype: object\n",
            "\n",
            "Nombre del DataFrame: ['datos']\n",
            "\n",
            "DataFrame guardado como 'datos.csv'\n"
          ]
        }
      ]
    },
    {
      "cell_type": "markdown",
      "source": [
        "###  Estadísticas descriptivas"
      ],
      "metadata": {
        "id": "53ViS3Pj7vVH"
      }
    },
    {
      "cell_type": "code",
      "source": [
        "# Estadísticas descriptivas para variables numéricas\n",
        "print(datos[['tenure', 'MonthlyCharges', 'TotalCharges', 'Cuentas_diarias']].describe())\n",
        "\n",
        "# Estadísticas para variables categóricas\n",
        "print(\"\\nDistribución de categorías:\")\n",
        "for col in datos.select_dtypes(include=['category', 'bool']).columns:\n",
        "    print(f\"\\n{col}:\")\n",
        "    print(datos[col].value_counts(normalize=True))\n"
      ],
      "metadata": {
        "colab": {
          "base_uri": "https://localhost:8080/"
        },
        "id": "yLbR2fDE71cw",
        "outputId": "1470f695-49b6-4d48-876d-6caf28a5ab62"
      },
      "execution_count": 8,
      "outputs": [
        {
          "output_type": "stream",
          "name": "stdout",
          "text": [
            "            tenure  MonthlyCharges  TotalCharges  Cuentas_diarias\n",
            "count  7043.000000     7043.000000   7043.000000      7043.000000\n",
            "mean     32.371149       64.761692   2279.734304         2.158723\n",
            "std      24.559481       30.090047   2266.794470         1.003002\n",
            "min       0.000000       18.250000      0.000000         0.608333\n",
            "25%       9.000000       35.500000    398.550000         1.183333\n",
            "50%      29.000000       70.350000   1394.550000         2.345000\n",
            "75%      55.000000       89.850000   3786.600000         2.995000\n",
            "max      72.000000      118.750000   8684.800000         3.958333\n",
            "\n",
            "Distribución de categorías:\n",
            "\n",
            "Churn:\n",
            "Churn\n",
            "False    0.73463\n",
            "True     0.26537\n",
            "Name: proportion, dtype: float64\n",
            "\n",
            "gender:\n",
            "gender\n",
            "Male      0.504756\n",
            "Female    0.495244\n",
            "Name: proportion, dtype: float64\n",
            "\n",
            "SeniorCitizen:\n",
            "SeniorCitizen\n",
            "False    0.837853\n",
            "True     0.162147\n",
            "Name: proportion, dtype: float64\n",
            "\n",
            "Partner:\n",
            "Partner\n",
            "No     0.516967\n",
            "Yes    0.483033\n",
            "Name: proportion, dtype: float64\n",
            "\n",
            "Dependents:\n",
            "Dependents\n",
            "No     0.700412\n",
            "Yes    0.299588\n",
            "Name: proportion, dtype: float64\n",
            "\n",
            "PhoneService:\n",
            "PhoneService\n",
            "Yes    0.903166\n",
            "No     0.096834\n",
            "Name: proportion, dtype: float64\n",
            "\n",
            "MultipleLines:\n",
            "MultipleLines\n",
            "No                  0.481329\n",
            "Yes                 0.421837\n",
            "No phone service    0.096834\n",
            "Name: proportion, dtype: float64\n",
            "\n",
            "InternetService:\n",
            "InternetService\n",
            "Fiber optic    0.439585\n",
            "DSL            0.343746\n",
            "No             0.216669\n",
            "Name: proportion, dtype: float64\n",
            "\n",
            "OnlineSecurity:\n",
            "OnlineSecurity\n",
            "No                     0.496663\n",
            "Yes                    0.286668\n",
            "No internet service    0.216669\n",
            "Name: proportion, dtype: float64\n",
            "\n",
            "OnlineBackup:\n",
            "OnlineBackup\n",
            "No                     0.438450\n",
            "Yes                    0.344881\n",
            "No internet service    0.216669\n",
            "Name: proportion, dtype: float64\n",
            "\n",
            "DeviceProtection:\n",
            "DeviceProtection\n",
            "No                     0.439443\n",
            "Yes                    0.343888\n",
            "No internet service    0.216669\n",
            "Name: proportion, dtype: float64\n",
            "\n",
            "TechSupport:\n",
            "TechSupport\n",
            "No                     0.493114\n",
            "Yes                    0.290217\n",
            "No internet service    0.216669\n",
            "Name: proportion, dtype: float64\n",
            "\n",
            "StreamingTV:\n",
            "StreamingTV\n",
            "No                     0.398978\n",
            "Yes                    0.384353\n",
            "No internet service    0.216669\n",
            "Name: proportion, dtype: float64\n",
            "\n",
            "StreamingMovies:\n",
            "StreamingMovies\n",
            "No                     0.395428\n",
            "Yes                    0.387903\n",
            "No internet service    0.216669\n",
            "Name: proportion, dtype: float64\n",
            "\n",
            "Contract:\n",
            "Contract\n",
            "Month-to-month    0.550192\n",
            "Two year          0.240664\n",
            "One year          0.209144\n",
            "Name: proportion, dtype: float64\n",
            "\n",
            "PaperlessBilling:\n",
            "PaperlessBilling\n",
            "Yes    0.592219\n",
            "No     0.407781\n",
            "Name: proportion, dtype: float64\n",
            "\n",
            "PaymentMethod:\n",
            "PaymentMethod\n",
            "Electronic check             0.335794\n",
            "Mailed check                 0.228880\n",
            "Bank transfer (automatic)    0.219225\n",
            "Credit card (automatic)      0.216101\n",
            "Name: proportion, dtype: float64\n"
          ]
        }
      ]
    },
    {
      "cell_type": "markdown",
      "source": [
        "## FASE 0: Análisis Exploratorio Básico (Antes de la Limpieza)"
      ],
      "metadata": {
        "id": "YtizSzw7EsBc"
      }
    },
    {
      "cell_type": "markdown",
      "source": [
        "Objetivo: Realizar un análisis exploratorio para entender las distribuciones, detectar outliers, y obtener estadísticas descriptivas de los datos.\n",
        "\n",
        "🪜 Pasos:\n",
        "\n",
        "**Estadísticas descriptivas iniciales:**\n",
        "\n",
        "Obtener resumen de las estadísticas básicas (mean, std, min, max, etc.) para todas las variables numéricas, con especial atención a las variables como MonthlyCharges, TotalCharges, tenure, etc.\n",
        "\n",
        "Distribuciones de las variables numéricas\n",
        "Graficar distribuciones de las variables numéricas:\n",
        "\n",
        "    - tenure\n",
        "\n",
        "    - MonthlyCharges\n",
        "\n",
        "    - TotalCharges\n",
        "\n",
        "**Buscar outliers y patrones inusuales:**\n",
        "\n",
        "Boxplots para detectar outliers:\n",
        "Crear boxplots para identificar valores atípicos en las variables numéricas.\n",
        "\n",
        "**Distribuciones de variables categóricas:**\n",
        "Graficar la distribución de las variables categóricas:\n",
        "\n",
        "    - gender, SeniorCitizen, Partner, Dependents, etc.\n",
        "    - Contar los valores únicos y sus frecuencias.\n",
        "\n",
        "**Correlación de variables numéricas:**\n",
        "Generar un mapa de calor de correlación para observar qué variables numéricas están más correlacionadas entre sí."
      ],
      "metadata": {
        "id": "4BTxSI3tE6Bu"
      }
    },
    {
      "cell_type": "code",
      "source": [
        "# Estadísticas descriptivas de las variables numéricas\n",
        "print(datos.describe())\n"
      ],
      "metadata": {
        "id": "_tHcwHsyBXbi",
        "outputId": "1f0009c1-4c96-4d55-b72f-03ec4cacd58f",
        "colab": {
          "base_uri": "https://localhost:8080/"
        }
      },
      "execution_count": 9,
      "outputs": [
        {
          "output_type": "stream",
          "name": "stdout",
          "text": [
            "            tenure  MonthlyCharges  TotalCharges  Cuentas_diarias\n",
            "count  7043.000000     7043.000000   7043.000000      7043.000000\n",
            "mean     32.371149       64.761692   2279.734304         2.158723\n",
            "std      24.559481       30.090047   2266.794470         1.003002\n",
            "min       0.000000       18.250000      0.000000         0.608333\n",
            "25%       9.000000       35.500000    398.550000         1.183333\n",
            "50%      29.000000       70.350000   1394.550000         2.345000\n",
            "75%      55.000000       89.850000   3786.600000         2.995000\n",
            "max      72.000000      118.750000   8684.800000         3.958333\n"
          ]
        }
      ]
    },
    {
      "cell_type": "markdown",
      "source": [
        "### Variables Numéricas"
      ],
      "metadata": {
        "id": "YBJ_5WztUAEK"
      }
    },
    {
      "cell_type": "markdown",
      "source": [
        "Customized Histogram for tenure\n",
        "\n",
        "    - Bins: Use ~24 bins to reflect customer lifecycle (every ~3 months)\n",
        "\n",
        "    - Goal: See if churn is more frequent among newer customers"
      ],
      "metadata": {
        "id": "R8ocA3v9h5oz"
      }
    },
    {
      "cell_type": "code",
      "source": [
        "import pandas as pd\n",
        "import seaborn as sns\n",
        "import matplotlib.pyplot as plt\n",
        "\n",
        "# Cargar el DataFrame\n",
        "datos = pd.read_csv('datos.csv')\n",
        "\n",
        "sns.histplot(data=datos, x='tenure', hue='Churn', multiple='stack', bins=24, palette='Set2')\n",
        "plt.title(\"Distribución de Tenure según Churn\")\n",
        "plt.xlabel(\"Meses de permanencia\")\n",
        "plt.ylabel(\"Número de clientes\")\n",
        "plt.savefig(\"hist_tenure_churn.png\")\n",
        "plt.show()\n"
      ],
      "metadata": {
        "colab": {
          "base_uri": "https://localhost:8080/",
          "height": 472
        },
        "id": "YV9iPi3vHXza",
        "outputId": "022eba81-86f8-4a34-fc57-76b746881904"
      },
      "execution_count": 10,
      "outputs": [
        {
          "output_type": "display_data",
          "data": {
            "text/plain": [
              "<Figure size 640x480 with 1 Axes>"
            ],
            "image/png": "[encoded data removed]"
          },
          "metadata": {}
        }
      ]
    },
    {
      "cell_type": "markdown",
      "source": [
        "Customized Histogram for MonthlyCharges\n",
        "\n",
        "    - Bins: Use ~20 bins to reflect billing brackets (e.g., $5 or $10 increments)\n",
        "\n",
        "    - Goal: Are customers with higher/lower charges more likely to churn?\n",
        "\n"
      ],
      "metadata": {
        "id": "Fzf5y3ujiVPl"
      }
    },
    {
      "cell_type": "code",
      "source": [
        "import seaborn as sns\n",
        "import matplotlib.pyplot as plt\n",
        "\n",
        "sns.histplot(data=datos, x='MonthlyCharges', hue='Churn', multiple='stack', bins=20, palette='Set1')\n",
        "plt.title(\"Distribución de MonthlyCharges según Churn\")\n",
        "plt.xlabel(\"Cargos mensuales ($)\")\n",
        "plt.ylabel(\"Número de clientes\")\n",
        "plt.savefig(\"hist_monthlycharges_churn.png\")\n",
        "plt.show()\n"
      ],
      "metadata": {
        "id": "aBITqmR1imjo",
        "colab": {
          "base_uri": "https://localhost:8080/",
          "height": 472
        },
        "outputId": "4065e57b-6588-480c-ffe6-5f982fdae823"
      },
      "execution_count": 11,
      "outputs": [
        {
          "output_type": "display_data",
          "data": {
            "text/plain": [
              "<Figure size 640x480 with 1 Axes>"
            ],
            "image/png": "[encoded data removed]"
          },
          "metadata": {}
        }
      ]
    },
    {
      "cell_type": "markdown",
      "source": [
        "Customized Histogram for TotalCharges\n",
        "\n",
        "    - Bins: Fewer bins (~30) due to wide range\n",
        "\n",
        "    - Extra: Log scale helps reduce right-skew effect\n",
        "\n",
        "    - Goal: Is churn higher for lower total lifetime value?"
      ],
      "metadata": {
        "id": "x5-lnB-gi5BG"
      }
    },
    {
      "cell_type": "code",
      "source": [
        "sns.histplot(data=datos, x='TotalCharges', hue='Churn', multiple='stack', bins=30, palette='Set3')\n",
        "plt.yscale('log')  # Optional: use log scale to see low-frequency zones\n",
        "plt.title(\"Distribución de TotalCharges según Churn\")\n",
        "plt.xlabel(\"Cargos acumulados ($)\")\n",
        "plt.ylabel(\"Número de clientes (escala log)\")\n",
        "plt.savefig(\"hist_totalcharges_churn.png\")\n",
        "plt.show()\n"
      ],
      "metadata": {
        "id": "25CR43PxjCRZ",
        "colab": {
          "base_uri": "https://localhost:8080/",
          "height": 472
        },
        "outputId": "bee8cb1c-1a25-41db-ced3-0c917de15248"
      },
      "execution_count": 12,
      "outputs": [
        {
          "output_type": "display_data",
          "data": {
            "text/plain": [
              "<Figure size 640x480 with 1 Axes>"
            ],
            "image/png": "[encoded data removed]"
          },
          "metadata": {}
        }
      ]
    },
    {
      "cell_type": "markdown",
      "source": [
        "Boxplot Tenure vs Churn"
      ],
      "metadata": {
        "id": "WtkQce9VlS1m"
      }
    },
    {
      "cell_type": "code",
      "source": [
        "sns.boxplot(data=datos, x='Churn', y='tenure', hue='Churn', palette='Set2', legend=False)\n",
        "plt.title(\"Boxplot de Tenure según Churn\")\n",
        "plt.savefig(\"boxplot_tenure_churn.png\")\n",
        "plt.show()\n"
      ],
      "metadata": {
        "id": "I0FipWc-lb9x",
        "colab": {
          "base_uri": "https://localhost:8080/",
          "height": 472
        },
        "outputId": "b6be1cc3-875c-47e3-d4b5-e39725d8f1de"
      },
      "execution_count": 13,
      "outputs": [
        {
          "output_type": "display_data",
          "data": {
            "text/plain": [
              "<Figure size 640x480 with 1 Axes>"
            ],
            "image/png": "[encoded data removed]"
          },
          "metadata": {}
        }
      ]
    },
    {
      "cell_type": "markdown",
      "source": [
        "Boxplot MonthlyCharges vs Churn"
      ],
      "metadata": {
        "id": "PJPhbZy-lSbF"
      }
    },
    {
      "cell_type": "code",
      "source": [
        "sns.boxplot(data=datos, x='Churn', y='MonthlyCharges', hue='Churn', palette='Set1', legend=False)\n",
        "plt.title(\"Boxplot de MonthlyCharges según Churn\")\n",
        "plt.savefig(\"boxplot_monthlycharges_churn.png\")\n",
        "plt.show()\n"
      ],
      "metadata": {
        "id": "i6dk-8Qclx4D",
        "colab": {
          "base_uri": "https://localhost:8080/",
          "height": 472
        },
        "outputId": "44352b22-e71d-4d0a-9626-5ede8158cea4"
      },
      "execution_count": 14,
      "outputs": [
        {
          "output_type": "display_data",
          "data": {
            "text/plain": [
              "<Figure size 640x480 with 1 Axes>"
            ],
            "image/png": "[encoded data removed]"
          },
          "metadata": {}
        }
      ]
    },
    {
      "cell_type": "markdown",
      "source": [
        "Boxplot TotalCharges vs Churn"
      ],
      "metadata": {
        "id": "xq8CFWIWmZWc"
      }
    },
    {
      "cell_type": "code",
      "source": [
        "sns.boxplot(data=datos, x='Churn', y='TotalCharges', hue='Churn', palette='Set3', legend=False)\n",
        "plt.title(\"Boxplot de TotalCharges según Churn\")\n",
        "plt.savefig(\"boxplot_totalcharges_churn.png\")\n",
        "plt.show()\n"
      ],
      "metadata": {
        "id": "wDCZ5HgRmORI",
        "colab": {
          "base_uri": "https://localhost:8080/",
          "height": 472
        },
        "outputId": "9610295a-046f-4e33-fc15-66f24564d761"
      },
      "execution_count": 15,
      "outputs": [
        {
          "output_type": "display_data",
          "data": {
            "text/plain": [
              "<Figure size 640x480 with 1 Axes>"
            ],
            "image/png": "[encoded data removed]"
          },
          "metadata": {}
        }
      ]
    },
    {
      "cell_type": "markdown",
      "source": [
        "Recap Variables Numéricas:\n",
        "\n",
        "    - tenure mostró una alta concentración de clientes con pocos meses de servicio.\n",
        "\n",
        "    - Insight: Muchos clientes que cancelan lo hacen temprano.\n",
        "\n",
        "    - MonthlyCharges presentó una posible relación entre precios altos y mayor churn.\n",
        "\n",
        "    - Clientes con cargos altos tienden a cancelar más.\n",
        "\n",
        "    - TotalCharges estuvo altamente sesgado hacia valores bajos.\n",
        "\n",
        "    - Clientes con poca inversión total tienden a cancelar más.\n",
        "\n",
        "    - Boxplot Tenure vs Churn: Clientes que cancelan tienen menor permanencia.\n",
        "\n",
        "    - MonthlyCharges vs Churn: Distribución más amplia en clientes que cancelan.\n",
        "\n",
        "    - TotalCharges vs Churn: Clientes con mayor gasto tienden a quedarse.\n",
        "\n",
        "💡 Insights generales hasta ahora:\n",
        "\n",
        "    La permanencia (tenure) parece ser uno de los factores más fuertes relacionados con la cancelación.\n",
        "\n",
        "    Clientes con cargos mensuales altos muestran mayor propensión al churn.\n",
        "\n",
        "    TotalCharges también refleja esto: clientes con historial de gasto bajo son más propensos a cancelar.\n",
        "\n",
        "    El comportamiento observado respalda la idea de que churn ocurre temprano en el ciclo del cliente, y es más común en segmentos de alto costo y bajo valor acumulado.\n",
        "\n",
        "\n"
      ],
      "metadata": {
        "id": "o4hBDRyMnNiV"
      }
    },
    {
      "cell_type": "markdown",
      "source": [
        "### Variables Categóricas Principales"
      ],
      "metadata": {
        "id": "fxfpI-v0UTVe"
      }
    },
    {
      "cell_type": "markdown",
      "source": [
        "Como punto de partida se evalúan las siguients categorías\n",
        "   \n",
        "    - gender\n",
        "\n",
        "    - SeniorCitizen\n",
        "\n",
        "    - Partner\n",
        "\n",
        "    - Dependents\n",
        "\n",
        "    - Contract\n",
        "\n",
        "    - PaymentMethod\n",
        "\n",
        "    - InternetService"
      ],
      "metadata": {
        "id": "domOHJtfVWK2"
      }
    },
    {
      "cell_type": "markdown",
      "source": [
        "Distribución de gender según churn"
      ],
      "metadata": {
        "id": "CEO2A6QLV2XB"
      }
    },
    {
      "cell_type": "code",
      "source": [
        "sns.countplot(data=datos, x='gender', hue='Churn', palette='Set2')\n",
        "plt.title(\"Distribución de gender según Churn\")\n",
        "plt.xlabel(\"Género\")\n",
        "plt.ylabel(\"Número de clientes\")\n",
        "plt.savefig(\"catplot_gender_churn.png\")\n",
        "plt.show()\n"
      ],
      "metadata": {
        "id": "qa6ceb5KUa97",
        "colab": {
          "base_uri": "https://localhost:8080/",
          "height": 472
        },
        "outputId": "990c4765-f3e8-4160-ee93-43a50ab0bd68"
      },
      "execution_count": 16,
      "outputs": [
        {
          "output_type": "display_data",
          "data": {
            "text/plain": [
              "<Figure size 640x480 with 1 Axes>"
            ],
            "image/png": "[encoded data removed]"
          },
          "metadata": {}
        }
      ]
    },
    {
      "cell_type": "markdown",
      "source": [
        "Distribución de SeniorCitizen según Churn"
      ],
      "metadata": {
        "id": "vrdbIvLlWBTa"
      }
    },
    {
      "cell_type": "code",
      "source": [
        "sns.countplot(data=datos, x='SeniorCitizen', hue='Churn', palette='Set1')\n",
        "plt.title(\"Distribución de SeniorCitizen según Churn\")\n",
        "plt.xlabel(\"¿Es ciudadano senior?\")\n",
        "plt.ylabel(\"Número de clientes\")\n",
        "plt.savefig(\"catplot_seniorcitizen_churn.png\")\n",
        "plt.show()\n"
      ],
      "metadata": {
        "id": "qpaFQzzDWGtA",
        "colab": {
          "base_uri": "https://localhost:8080/",
          "height": 472
        },
        "outputId": "66cda155-4864-4396-f597-d3be02deb999"
      },
      "execution_count": 17,
      "outputs": [
        {
          "output_type": "display_data",
          "data": {
            "text/plain": [
              "<Figure size 640x480 with 1 Axes>"
            ],
            "image/png": "[encoded data removed]"
          },
          "metadata": {}
        }
      ]
    },
    {
      "cell_type": "markdown",
      "source": [
        "Distribución de Partner según Churn"
      ],
      "metadata": {
        "id": "G8VMb4jqWM_X"
      }
    },
    {
      "cell_type": "code",
      "source": [
        "sns.countplot(data=datos, x='Partner', hue='Churn', palette='Pastel1')\n",
        "plt.title(\"Distribución de Partner según Churn\")\n",
        "plt.xlabel(\"¿Tiene pareja?\")\n",
        "plt.ylabel(\"Número de clientes\")\n",
        "plt.savefig(\"catplot_partner_churn.png\")\n",
        "plt.show()\n"
      ],
      "metadata": {
        "id": "crwj4cybWRzu",
        "colab": {
          "base_uri": "https://localhost:8080/",
          "height": 472
        },
        "outputId": "3f398bb8-5353-45ab-e030-a99ae5620c2a"
      },
      "execution_count": 18,
      "outputs": [
        {
          "output_type": "display_data",
          "data": {
            "text/plain": [
              "<Figure size 640x480 with 1 Axes>"
            ],
            "image/png": "[encoded data removed]"
          },
          "metadata": {}
        }
      ]
    },
    {
      "cell_type": "markdown",
      "source": [
        "Distribución de Dependents según Churn"
      ],
      "metadata": {
        "id": "5PsbTlubWYc4"
      }
    },
    {
      "cell_type": "code",
      "source": [
        "sns.countplot(data=datos, x='Dependents', hue='Churn', palette='Pastel2')\n",
        "plt.title(\"Distribución de Dependents según Churn\")\n",
        "plt.xlabel(\"¿Tiene dependientes?\")\n",
        "plt.ylabel(\"Número de clientes\")\n",
        "plt.savefig(\"catplot_dependents_churn.png\")\n",
        "plt.show()\n"
      ],
      "metadata": {
        "id": "0cTyDb9dWeVq",
        "colab": {
          "base_uri": "https://localhost:8080/",
          "height": 472
        },
        "outputId": "e96c6d5a-2759-4a92-d571-10a603cad547"
      },
      "execution_count": 19,
      "outputs": [
        {
          "output_type": "display_data",
          "data": {
            "text/plain": [
              "<Figure size 640x480 with 1 Axes>"
            ],
            "image/png": "[encoded data removed]"
          },
          "metadata": {}
        }
      ]
    },
    {
      "cell_type": "markdown",
      "source": [
        "Distribución de Contract según Churn"
      ],
      "metadata": {
        "id": "YuVsWYOQWoPV"
      }
    },
    {
      "cell_type": "code",
      "source": [
        "sns.countplot(data=datos, x='Contract', hue='Churn', palette='Set3')\n",
        "plt.title(\"Distribución de tipo de contrato según Churn\")\n",
        "plt.xlabel(\"Tipo de contrato\")\n",
        "plt.ylabel(\"Número de clientes\")\n",
        "plt.savefig(\"catplot_contract_churn.png\")\n",
        "plt.show()\n"
      ],
      "metadata": {
        "id": "7E3qujTmWpYC",
        "colab": {
          "base_uri": "https://localhost:8080/",
          "height": 472
        },
        "outputId": "70352b93-04df-4f05-efc0-b8d09ee15ae6"
      },
      "execution_count": 20,
      "outputs": [
        {
          "output_type": "display_data",
          "data": {
            "text/plain": [
              "<Figure size 640x480 with 1 Axes>"
            ],
            "image/png": "[encoded data removed]"
          },
          "metadata": {}
        }
      ]
    },
    {
      "cell_type": "markdown",
      "source": [
        "Distribución de PaymentMethod según Churn"
      ],
      "metadata": {
        "id": "5bKuz5SkW5xl"
      }
    },
    {
      "cell_type": "code",
      "source": [
        "plt.figure(figsize=(10,5))\n",
        "sns.countplot(data=datos, x='PaymentMethod', hue='Churn', palette='coolwarm')\n",
        "plt.title(\"Distribución de método de pago según Churn\")\n",
        "plt.xlabel(\"Método de pago\")\n",
        "plt.ylabel(\"Número de clientes\")\n",
        "plt.xticks(rotation=15)\n",
        "plt.savefig(\"catplot_paymentmethod_churn.png\")\n",
        "plt.show()\n"
      ],
      "metadata": {
        "id": "cnp1loABXD_1",
        "colab": {
          "base_uri": "https://localhost:8080/",
          "height": 534
        },
        "outputId": "0d85cf59-1f14-4448-e063-723a6a55711f"
      },
      "execution_count": 21,
      "outputs": [
        {
          "output_type": "display_data",
          "data": {
            "text/plain": [
              "<Figure size 1000x500 with 1 Axes>"
            ],
            "image/png": "[encoded data removed]"
          },
          "metadata": {}
        }
      ]
    },
    {
      "cell_type": "markdown",
      "source": [
        "Distribución de InternetService según Churn"
      ],
      "metadata": {
        "id": "wGmYk_S4XOhE"
      }
    },
    {
      "cell_type": "code",
      "source": [
        "sns.countplot(data=datos, x='InternetService', hue='Churn', palette='Accent')\n",
        "plt.title(\"Distribución de tipo de internet según Churn\")\n",
        "plt.xlabel(\"Tipo de servicio de internet\")\n",
        "plt.ylabel(\"Número de clientes\")\n",
        "plt.savefig(\"catplot_internetservice_churn.png\")\n",
        "plt.show()\n"
      ],
      "metadata": {
        "id": "eLRrBJ5UXQJ4",
        "colab": {
          "base_uri": "https://localhost:8080/",
          "height": 472
        },
        "outputId": "0231e3a1-d756-4105-cc47-e281c24e1917"
      },
      "execution_count": 22,
      "outputs": [
        {
          "output_type": "display_data",
          "data": {
            "text/plain": [
              "<Figure size 640x480 with 1 Axes>"
            ],
            "image/png": "[encoded data removed]"
          },
          "metadata": {}
        }
      ]
    },
    {
      "cell_type": "markdown",
      "source": [
        "plt.figure(figsize=(10,5))\n",
        "sns.countplot(data=datos, x='PaymentMethod', hue='Churn', palette='coolwarm')\n",
        "plt.title(\"Distribución de método de pago según Churn\")\n",
        "plt.xlabel(\"Método de pago\")\n",
        "plt.ylabel(\"Número de clientes\")\n",
        "plt.xticks(rotation=15)\n",
        "plt.savefig(\"catplot_paymentmethod_churn.png\")\n",
        "plt.show()\n"
      ],
      "metadata": {
        "id": "9jkbNpFkW3rm"
      }
    },
    {
      "cell_type": "markdown",
      "source": [
        " **Variables Categóricas de Perfil Demográfico y Contratación**\n",
        "\n",
        "(antes llamadas “principales”)\n",
        "\n",
        "Estas variables están asociadas al perfil del cliente y forma de contratación:\n",
        "\n",
        "- gender:\tNo hay diferencias relevantes de churn entre hombres y mujeres.\n",
        "\n",
        "- SeniorCitizen:\tLos adultos mayores (SeniorCitizen=1) tienen tasas de cancelación más altas.\n",
        "\n",
        "- Partner:\tTener pareja está ligeramente asociado a menor churn, posiblemente por estabilidad.\n",
        "\n",
        "- Dependents:\tTener dependientes se relaciona con menor probabilidad de cancelar.\n",
        "\n",
        "- Contract:\tLos contratos mensuales tienen mayor churn, mientras que contratos a 1 o 2 años retienen más.\n",
        "\n",
        "- PaymentMethod:\tEl Electronic Check muestra la mayor tasa de cancelación. Otros métodos (tarjeta o transferencia) presentan menos churn.\n",
        "\n",
        "- InternetService:\tClientes con Fiber optic presentan churn significativamente más alto que los de DSL o sin servicio."
      ],
      "metadata": {
        "id": "D9Bo_kyw74OM"
      }
    },
    {
      "cell_type": "markdown",
      "source": [
        "**Interpretación general:**\n",
        "\n",
        "Clientes con mayor estabilidad familiar (pareja, dependientes) y contratos a plazo fijo tienden a permanecer más tiempo.\n",
        "\n",
        "En contraste, los clientes de servicios más rápidos (Fiber) o con pagos menos automáticos son más propensos a cancelar."
      ],
      "metadata": {
        "id": "9yJbYs2Q8Vmq"
      }
    },
    {
      "cell_type": "markdown",
      "source": [
        "### Variables Categóricas Secundarias"
      ],
      "metadata": {
        "id": "qRrXkxVokFyi"
      }
    },
    {
      "cell_type": "markdown",
      "source": [
        "Casi todas estas variables tienen 3 categorías, y están relacionadas con servicios contratados:\n",
        "\n",
        "- PhoneService:\tSi tiene servicio telefónico\n",
        "\n",
        "- MultipleLines:\tSi tiene múltiples líneas telefónicas\n",
        "\n",
        "- OnlineSecurity:\tSi tiene seguridad en línea\n",
        "\n",
        "- OnlineBackup:\tSi tiene respaldo en línea\n",
        "\n",
        "- DeviceProtection:\tSi tiene protección de dispositivos\n",
        "\n",
        "- TechSupport:\tSi tiene soporte técnico\n",
        "\n",
        "- StreamingTV:\tSi tiene TV por streaming\n",
        "\n",
        "- StreamingMovies:\tSi tiene películas por streaming\n",
        "\n",
        "- PaperlessBilling:\tSi utiliza facturación electrónica"
      ],
      "metadata": {
        "id": "QDAR3xgwkKxb"
      }
    },
    {
      "cell_type": "markdown",
      "source": [
        "PhoneService vs. Churn"
      ],
      "metadata": {
        "id": "KBkWwKP4kove"
      }
    },
    {
      "cell_type": "code",
      "source": [
        "sns.countplot(data=datos, x='PhoneService', hue='Churn', palette='Set2')\n",
        "plt.title(\"Distribución de PhoneService según Churn\")\n",
        "plt.xlabel(\"¿Tiene servicio telefónico?\")\n",
        "plt.ylabel(\"Número de clientes\")\n",
        "plt.savefig(\"catplot_phoneservice_churn.png\")\n",
        "plt.show()\n"
      ],
      "metadata": {
        "id": "WbV0wZL-ktj2",
        "colab": {
          "base_uri": "https://localhost:8080/",
          "height": 473
        },
        "outputId": "9d45e6fa-57f0-459d-9617-5e9d4c466deb"
      },
      "execution_count": 23,
      "outputs": [
        {
          "output_type": "display_data",
          "data": {
            "text/plain": [
              "<Figure size 640x480 with 1 Axes>"
            ],
            "image/png": "[encoded data removed]"
          },
          "metadata": {}
        }
      ]
    },
    {
      "cell_type": "markdown",
      "source": [
        "MultipleLines vs. Churn"
      ],
      "metadata": {
        "id": "ZjGOHcU5k457"
      }
    },
    {
      "cell_type": "code",
      "source": [
        "sns.countplot(data=datos, x='MultipleLines', hue='Churn', palette='Set1')\n",
        "plt.title(\"Distribución de MultipleLines según Churn\")\n",
        "plt.xlabel(\"¿Tiene múltiples líneas?\")\n",
        "plt.ylabel(\"Número de clientes\")\n",
        "plt.savefig(\"catplot_multiplelines_churn.png\")\n",
        "plt.show()\n"
      ],
      "metadata": {
        "id": "G7bo1vc6k-t8",
        "colab": {
          "base_uri": "https://localhost:8080/",
          "height": 473
        },
        "outputId": "64269e73-7ff4-4f92-9cd3-4ba7d78a4e87"
      },
      "execution_count": 24,
      "outputs": [
        {
          "output_type": "display_data",
          "data": {
            "text/plain": [
              "<Figure size 640x480 with 1 Axes>"
            ],
            "image/png": "[encoded data removed]"
          },
          "metadata": {}
        }
      ]
    },
    {
      "cell_type": "markdown",
      "source": [
        "OnlineSecurity vs. Churn"
      ],
      "metadata": {
        "id": "ugwtt1eslESb"
      }
    },
    {
      "cell_type": "code",
      "source": [
        "sns.countplot(data=datos, x='OnlineSecurity', hue='Churn', palette='Pastel1')\n",
        "plt.title(\"Distribución de OnlineSecurity según Churn\")\n",
        "plt.xlabel(\"¿Tiene seguridad en línea?\")\n",
        "plt.ylabel(\"Número de clientes\")\n",
        "plt.savefig(\"catplot_onlinesecurity_churn.png\")\n",
        "plt.show()\n"
      ],
      "metadata": {
        "id": "dDmZYPB7lJsl",
        "colab": {
          "base_uri": "https://localhost:8080/",
          "height": 473
        },
        "outputId": "a8ade48c-792d-487e-d6d0-e2d436ee1ba0"
      },
      "execution_count": 25,
      "outputs": [
        {
          "output_type": "display_data",
          "data": {
            "text/plain": [
              "<Figure size 640x480 with 1 Axes>"
            ],
            "image/png": "[encoded data removed]"
          },
          "metadata": {}
        }
      ]
    },
    {
      "cell_type": "markdown",
      "source": [
        "OnlineBackup vs. Churn"
      ],
      "metadata": {
        "id": "8tXv9g60lPEc"
      }
    },
    {
      "cell_type": "code",
      "source": [
        "sns.countplot(data=datos, x='OnlineBackup', hue='Churn', palette='Pastel2')\n",
        "plt.title(\"Distribución de OnlineBackup según Churn\")\n",
        "plt.xlabel(\"¿Tiene respaldo en línea?\")\n",
        "plt.ylabel(\"Número de clientes\")\n",
        "plt.savefig(\"catplot_onlinebackup_churn.png\")\n",
        "plt.show()\n"
      ],
      "metadata": {
        "id": "Hhwdu58BlUdk",
        "colab": {
          "base_uri": "https://localhost:8080/",
          "height": 473
        },
        "outputId": "88ba24b9-9956-4204-c640-eb5e33abceab"
      },
      "execution_count": 26,
      "outputs": [
        {
          "output_type": "display_data",
          "data": {
            "text/plain": [
              "<Figure size 640x480 with 1 Axes>"
            ],
            "image/png": "[encoded data removed]"
          },
          "metadata": {}
        }
      ]
    },
    {
      "cell_type": "markdown",
      "source": [
        "DeviceProtection vs. Churn"
      ],
      "metadata": {
        "id": "XB5-SRnklimD"
      }
    },
    {
      "cell_type": "code",
      "source": [
        "sns.countplot(data=datos, x='DeviceProtection', hue='Churn', palette='Set3')\n",
        "plt.title(\"Distribución de DeviceProtection según Churn\")\n",
        "plt.xlabel(\"¿Tiene protección de dispositivos?\")\n",
        "plt.ylabel(\"Número de clientes\")\n",
        "plt.savefig(\"catplot_deviceprotection_churn.png\")\n",
        "plt.show()\n"
      ],
      "metadata": {
        "id": "LaFP_UiLlmnN",
        "colab": {
          "base_uri": "https://localhost:8080/",
          "height": 473
        },
        "outputId": "b739524c-0edf-429b-f41e-bb7057308f47"
      },
      "execution_count": 27,
      "outputs": [
        {
          "output_type": "display_data",
          "data": {
            "text/plain": [
              "<Figure size 640x480 with 1 Axes>"
            ],
            "image/png": "[encoded data removed]"
          },
          "metadata": {}
        }
      ]
    },
    {
      "cell_type": "markdown",
      "source": [
        "TechSupport vs. Churn"
      ],
      "metadata": {
        "id": "JJVcZscelsrO"
      }
    },
    {
      "cell_type": "code",
      "source": [
        "sns.countplot(data=datos, x='TechSupport', hue='Churn', palette='Set2')\n",
        "plt.title(\"Distribución de TechSupport según Churn\")\n",
        "plt.xlabel(\"¿Tiene soporte técnico?\")\n",
        "plt.ylabel(\"Número de clientes\")\n",
        "plt.savefig(\"catplot_techsupport_churn.png\")\n",
        "plt.show()\n"
      ],
      "metadata": {
        "id": "aO2ytmsflzIm",
        "colab": {
          "base_uri": "https://localhost:8080/",
          "height": 473
        },
        "outputId": "f2d960b2-d95b-417d-8db0-f0ff3174d7be"
      },
      "execution_count": 28,
      "outputs": [
        {
          "output_type": "display_data",
          "data": {
            "text/plain": [
              "<Figure size 640x480 with 1 Axes>"
            ],
            "image/png": "[encoded data removed]"
          },
          "metadata": {}
        }
      ]
    },
    {
      "cell_type": "markdown",
      "source": [
        "StreamingTV vs. Churn"
      ],
      "metadata": {
        "id": "pbX4gsX7mEsu"
      }
    },
    {
      "cell_type": "code",
      "source": [
        "sns.countplot(data=datos, x='StreamingTV', hue='Churn', palette='Set1')\n",
        "plt.title(\"Distribución de StreamingTV según Churn\")\n",
        "plt.xlabel(\"¿Tiene TV por streaming?\")\n",
        "plt.ylabel(\"Número de clientes\")\n",
        "plt.savefig(\"catplot_streamingtv_churn.png\")\n",
        "plt.show()\n"
      ],
      "metadata": {
        "id": "m2qmPoicmGVI",
        "colab": {
          "base_uri": "https://localhost:8080/",
          "height": 472
        },
        "outputId": "cf119d26-76d6-4090-f6e4-1ec0b9e892d0"
      },
      "execution_count": 29,
      "outputs": [
        {
          "output_type": "display_data",
          "data": {
            "text/plain": [
              "<Figure size 640x480 with 1 Axes>"
            ],
            "image/png": "[encoded data removed]"
          },
          "metadata": {}
        }
      ]
    },
    {
      "cell_type": "markdown",
      "source": [
        "StreamingMovies vs. Churn"
      ],
      "metadata": {
        "id": "GqeMhHGTnrA7"
      }
    },
    {
      "cell_type": "code",
      "source": [
        "sns.countplot(data=datos, x='StreamingMovies', hue='Churn', palette='Set3')\n",
        "plt.title(\"Distribución de StreamingMovies según Churn\")\n",
        "plt.xlabel(\"¿Tiene películas por streaming?\")\n",
        "plt.ylabel(\"Número de clientes\")\n",
        "plt.savefig(\"catplot_streamingmovies_churn.png\")\n",
        "plt.show()\n"
      ],
      "metadata": {
        "id": "DW7HjO3lnsRD",
        "colab": {
          "base_uri": "https://localhost:8080/",
          "height": 473
        },
        "outputId": "1c113698-1866-43ce-a944-83d7ca24a4ad"
      },
      "execution_count": 30,
      "outputs": [
        {
          "output_type": "display_data",
          "data": {
            "text/plain": [
              "<Figure size 640x480 with 1 Axes>"
            ],
            "image/png": "[encoded data removed]"
          },
          "metadata": {}
        }
      ]
    },
    {
      "cell_type": "markdown",
      "source": [],
      "metadata": {
        "id": "UBADeFkqn1FZ"
      }
    },
    {
      "cell_type": "markdown",
      "source": [
        "PaperlessBilling vs. Churn"
      ],
      "metadata": {
        "id": "U4du89lUn_5W"
      }
    },
    {
      "cell_type": "code",
      "source": [
        "sns.countplot(data=datos, x='PaperlessBilling', hue='Churn', palette='coolwarm')\n",
        "plt.title(\"Distribución de PaperlessBilling según Churn\")\n",
        "plt.xlabel(\"¿Tiene facturación electrónica?\")\n",
        "plt.ylabel(\"Número de clientes\")\n",
        "plt.savefig(\"catplot_paperlessbilling_churn.png\")\n",
        "plt.show()\n"
      ],
      "metadata": {
        "id": "jOhFlNjJoA0x",
        "colab": {
          "base_uri": "https://localhost:8080/",
          "height": 473
        },
        "outputId": "de181c16-537e-4cb7-886c-ebd8b714c2d2"
      },
      "execution_count": 31,
      "outputs": [
        {
          "output_type": "display_data",
          "data": {
            "text/plain": [
              "<Figure size 640x480 with 1 Axes>"
            ],
            "image/png": "[encoded data removed]"
          },
          "metadata": {}
        }
      ]
    },
    {
      "cell_type": "markdown",
      "source": [
        "**Variables de Servicios Contratados**\n",
        "\n",
        "(antes llamadas “secundarias”, pero tienen insights clave sobre comportamiento)\n",
        "\n",
        "Estas variables reflejan qué servicios adicionales contrata el cliente:\n",
        "\n",
        "- PhoneService\tCasi todos los clientes lo tienen; no muestra variación relevante con churn.\n",
        "\n",
        "- MultipleLines\tClientes con múltiples líneas tienen ligeramente más churn que los que no.\n",
        "\n",
        "- OnlineSecurity\tNo tener seguridad en línea está fuertemente asociado con mayor churn.\n",
        "\n",
        "- OnlineBackup\tTendencia similar: no contratarlo se asocia a mayor churn.\n",
        "\n",
        "- DeviceProtection\tClientes sin protección de dispositivos tienen más churn, aunque con menos diferencia.\n",
        "\n",
        "- TechSupport\tNo tener soporte técnico es un gran predictor de churn.\n",
        "\n",
        "- StreamingTV\tTener o no TV por streaming no marca una gran diferencia, aunque los que no lo tienen cancelan más.\n",
        "\n",
        "- StreamingMovies\tTendencia similar a StreamingTV, pero más neutral.\n",
        "\n",
        "- PaperlessBilling\tClientes con facturación electrónica tienen más churn. Puede estar asociado a usuarios más activos/digital"
      ],
      "metadata": {
        "id": "IjBePKmE9NGH"
      }
    },
    {
      "cell_type": "markdown",
      "source": [
        "**Interpretación general:**\n",
        "\n",
        "Las variables de servicios adicionales son excelentes predictores de churn.\n",
        "Especialmente:\n",
        "\n",
        "    Falta de OnlineSecurity\n",
        "\n",
        "    Falta de TechSupport\n",
        "\n",
        "    No tener OnlineBackup\n",
        "\n",
        "Estas variables podrían reflejar un menor compromiso con los servicios o descontento por la falta de valor agregado."
      ],
      "metadata": {
        "id": "Np3jcMtj9gr-"
      }
    },
    {
      "cell_type": "markdown",
      "source": [
        "**Clasificación de variables propuesta**"
      ],
      "metadata": {
        "id": "tSw6tPPU98GG"
      }
    },
    {
      "cell_type": "markdown",
      "source": [
        "| Grupo                               | Contenido                                                   |\n",
        "| ----------------------------------- | ----------------------------------------------------------- |\n",
        "| 🧑‍💼 **Perfil del cliente**        | gender, SeniorCitizen, Partner, Dependents                  |\n",
        "| 📄 **Modelo de contrato**           | Contract, PaymentMethod, PaperlessBilling                   |\n",
        "| 🌐 **Tipo de servicio base**        | InternetService, PhoneService, MultipleLines                |\n",
        "| 🛡️ **Servicios adicionales**       | OnlineSecurity, OnlineBackup, DeviceProtection, TechSupport |\n",
        "| 📺 **Servicios de entretenimiento** | StreamingTV, StreamingMovies                                |\n"
      ],
      "metadata": {
        "id": "5mTpTzkIoIcS"
      }
    },
    {
      "cell_type": "markdown",
      "source": [
        "### Conclusión Fase 0"
      ],
      "metadata": {
        "id": "9Wwjy24O-YW5"
      }
    },
    {
      "cell_type": "markdown",
      "source": [
        "\n",
        "\n",
        "Durante esta etapa inicial se exploraron las características principales del conjunto de datos, incluyendo la distribución y relación de variables numéricas y categóricas con la variable objetivo Churn. Este análisis permitió identificar patrones clave, así como variables con bajo o nulo aporte informativo.\n",
        "\n",
        "Como resultado, se decidió eliminar las siguientes tres columnas:\n",
        "\n",
        "    TotalCharges: Esta variable representa el acumulado total pagado por el cliente y está directamente derivada de MonthlyCharges × tenure. Dado que ambas variables base ya están presentes y activas, TotalCharges se considera redundante.\n",
        "\n",
        "    Cuentas_diarias: Se trata de una variable artificial generada para resolver un proyecto anterior, sin conexión real con la lógica del negocio o el comportamiento del cliente. Por lo tanto, se elimina por no aportar valor al análisis actual.\n",
        "\n",
        "    PhoneService: El análisis gráfico reveló que esta variable presenta una distribución altamente sesgada, con la mayoría de los clientes teniendo el mismo valor (“Yes”). Su baja variabilidad y escasa relación con el Churn justifican su exclusión en esta etapa.\n",
        "\n",
        "Estas eliminaciones no solo simplifican el modelo de datos, sino que refuerzan el principio de parsimony, manteniendo únicamente aquellas variables con potencial valor predictivo o estratégico.\n",
        "\n",
        "El conjunto de datos limpio se almacena como datos_v1 y servirá como base para la siguiente fase del proyecto."
      ],
      "metadata": {
        "id": "eGhRp8t8-een"
      }
    },
    {
      "cell_type": "code",
      "source": [
        "# Eliminamos columnas irrelevantes\n",
        "columnas_a_eliminar = ['TotalCharges', 'Cuentas_diarias', 'PhoneService']\n",
        "datos_v1 = datos.drop(columns=columnas_a_eliminar)\n",
        "\n",
        "# Verificamos las columnas resultantes\n",
        "print(\"Columnas restantes:\", datos_v1.columns.tolist())\n",
        "print(\"Shape del nuevo dataframe:\", datos_v1.shape)\n"
      ],
      "metadata": {
        "id": "d1oy2bsg_MW0",
        "colab": {
          "base_uri": "https://localhost:8080/"
        },
        "outputId": "cce0e94c-a06e-4ed5-86aa-2937509b71c1"
      },
      "execution_count": 32,
      "outputs": [
        {
          "output_type": "stream",
          "name": "stdout",
          "text": [
            "Columnas restantes: ['Churn', 'gender', 'SeniorCitizen', 'Partner', 'Dependents', 'tenure', 'MultipleLines', 'InternetService', 'OnlineSecurity', 'OnlineBackup', 'DeviceProtection', 'TechSupport', 'StreamingTV', 'StreamingMovies', 'Contract', 'PaperlessBilling', 'PaymentMethod', 'MonthlyCharges']\n",
            "Shape del nuevo dataframe: (7043, 18)\n"
          ]
        }
      ]
    },
    {
      "cell_type": "markdown",
      "source": [
        "## FASE 1: Preparación de los Datos (Limpieza y Codificación)"
      ],
      "metadata": {
        "id": "G6FMSWeJBQnk"
      }
    },
    {
      "cell_type": "markdown",
      "source": [
        "### 1.1 Verificación de tipos de datos"
      ],
      "metadata": {
        "id": "CTbLVBTfX0hq"
      }
    },
    {
      "cell_type": "code",
      "source": [
        "datos_v1.dtypes"
      ],
      "metadata": {
        "id": "1fWYDfitYskE",
        "colab": {
          "base_uri": "https://localhost:8080/",
          "height": 649
        },
        "outputId": "dec03641-bca6-4d50-8586-984a72e04671"
      },
      "execution_count": 33,
      "outputs": [
        {
          "output_type": "execute_result",
          "data": {
            "text/plain": [
              "Churn                  bool\n",
              "gender               object\n",
              "SeniorCitizen          bool\n",
              "Partner              object\n",
              "Dependents           object\n",
              "tenure                int64\n",
              "MultipleLines        object\n",
              "InternetService      object\n",
              "OnlineSecurity       object\n",
              "OnlineBackup         object\n",
              "DeviceProtection     object\n",
              "TechSupport          object\n",
              "StreamingTV          object\n",
              "StreamingMovies      object\n",
              "Contract             object\n",
              "PaperlessBilling     object\n",
              "PaymentMethod        object\n",
              "MonthlyCharges      float64\n",
              "dtype: object"
            ],
            "text/html": [
              "<div>\n",
              "<style scoped>\n",
              "    .dataframe tbody tr th:only-of-type {\n",
              "        vertical-align: middle;\n",
              "    }\n",
              "\n",
              "    .dataframe tbody tr th {\n",
              "        vertical-align: top;\n",
              "    }\n",
              "\n",
              "    .dataframe thead th {\n",
              "        text-align: right;\n",
              "    }\n",
              "</style>\n",
              "<table border=\"1\" class=\"dataframe\">\n",
              "  <thead>\n",
              "    <tr style=\"text-align: right;\">\n",
              "      <th></th>\n",
              "      <th>0</th>\n",
              "    </tr>\n",
              "  </thead>\n",
              "  <tbody>\n",
              "    <tr>\n",
              "      <th>Churn</th>\n",
              "      <td>bool</td>\n",
              "    </tr>\n",
              "    <tr>\n",
              "      <th>gender</th>\n",
              "      <td>object</td>\n",
              "    </tr>\n",
              "    <tr>\n",
              "      <th>SeniorCitizen</th>\n",
              "      <td>bool</td>\n",
              "    </tr>\n",
              "    <tr>\n",
              "      <th>Partner</th>\n",
              "      <td>object</td>\n",
              "    </tr>\n",
              "    <tr>\n",
              "      <th>Dependents</th>\n",
              "      <td>object</td>\n",
              "    </tr>\n",
              "    <tr>\n",
              "      <th>tenure</th>\n",
              "      <td>int64</td>\n",
              "    </tr>\n",
              "    <tr>\n",
              "      <th>MultipleLines</th>\n",
              "      <td>object</td>\n",
              "    </tr>\n",
              "    <tr>\n",
              "      <th>InternetService</th>\n",
              "      <td>object</td>\n",
              "    </tr>\n",
              "    <tr>\n",
              "      <th>OnlineSecurity</th>\n",
              "      <td>object</td>\n",
              "    </tr>\n",
              "    <tr>\n",
              "      <th>OnlineBackup</th>\n",
              "      <td>object</td>\n",
              "    </tr>\n",
              "    <tr>\n",
              "      <th>DeviceProtection</th>\n",
              "      <td>object</td>\n",
              "    </tr>\n",
              "    <tr>\n",
              "      <th>TechSupport</th>\n",
              "      <td>object</td>\n",
              "    </tr>\n",
              "    <tr>\n",
              "      <th>StreamingTV</th>\n",
              "      <td>object</td>\n",
              "    </tr>\n",
              "    <tr>\n",
              "      <th>StreamingMovies</th>\n",
              "      <td>object</td>\n",
              "    </tr>\n",
              "    <tr>\n",
              "      <th>Contract</th>\n",
              "      <td>object</td>\n",
              "    </tr>\n",
              "    <tr>\n",
              "      <th>PaperlessBilling</th>\n",
              "      <td>object</td>\n",
              "    </tr>\n",
              "    <tr>\n",
              "      <th>PaymentMethod</th>\n",
              "      <td>object</td>\n",
              "    </tr>\n",
              "    <tr>\n",
              "      <th>MonthlyCharges</th>\n",
              "      <td>float64</td>\n",
              "    </tr>\n",
              "  </tbody>\n",
              "</table>\n",
              "</div><br><label><b>dtype:</b> object</label>"
            ]
          },
          "metadata": {},
          "execution_count": 33
        }
      ]
    },
    {
      "cell_type": "markdown",
      "source": [
        "### 1.2 Confirmación de valores nulos"
      ],
      "metadata": {
        "id": "XU2978lWYuVn"
      }
    },
    {
      "cell_type": "code",
      "source": [
        "datos_v1.isnull().sum()"
      ],
      "metadata": {
        "id": "WoFQfLg0Y9X2",
        "colab": {
          "base_uri": "https://localhost:8080/",
          "height": 649
        },
        "outputId": "1131398e-7569-424a-8239-142bf87a65cf"
      },
      "execution_count": 34,
      "outputs": [
        {
          "output_type": "execute_result",
          "data": {
            "text/plain": [
              "Churn               0\n",
              "gender              0\n",
              "SeniorCitizen       0\n",
              "Partner             0\n",
              "Dependents          0\n",
              "tenure              0\n",
              "MultipleLines       0\n",
              "InternetService     0\n",
              "OnlineSecurity      0\n",
              "OnlineBackup        0\n",
              "DeviceProtection    0\n",
              "TechSupport         0\n",
              "StreamingTV         0\n",
              "StreamingMovies     0\n",
              "Contract            0\n",
              "PaperlessBilling    0\n",
              "PaymentMethod       0\n",
              "MonthlyCharges      0\n",
              "dtype: int64"
            ],
            "text/html": [
              "<div>\n",
              "<style scoped>\n",
              "    .dataframe tbody tr th:only-of-type {\n",
              "        vertical-align: middle;\n",
              "    }\n",
              "\n",
              "    .dataframe tbody tr th {\n",
              "        vertical-align: top;\n",
              "    }\n",
              "\n",
              "    .dataframe thead th {\n",
              "        text-align: right;\n",
              "    }\n",
              "</style>\n",
              "<table border=\"1\" class=\"dataframe\">\n",
              "  <thead>\n",
              "    <tr style=\"text-align: right;\">\n",
              "      <th></th>\n",
              "      <th>0</th>\n",
              "    </tr>\n",
              "  </thead>\n",
              "  <tbody>\n",
              "    <tr>\n",
              "      <th>Churn</th>\n",
              "      <td>0</td>\n",
              "    </tr>\n",
              "    <tr>\n",
              "      <th>gender</th>\n",
              "      <td>0</td>\n",
              "    </tr>\n",
              "    <tr>\n",
              "      <th>SeniorCitizen</th>\n",
              "      <td>0</td>\n",
              "    </tr>\n",
              "    <tr>\n",
              "      <th>Partner</th>\n",
              "      <td>0</td>\n",
              "    </tr>\n",
              "    <tr>\n",
              "      <th>Dependents</th>\n",
              "      <td>0</td>\n",
              "    </tr>\n",
              "    <tr>\n",
              "      <th>tenure</th>\n",
              "      <td>0</td>\n",
              "    </tr>\n",
              "    <tr>\n",
              "      <th>MultipleLines</th>\n",
              "      <td>0</td>\n",
              "    </tr>\n",
              "    <tr>\n",
              "      <th>InternetService</th>\n",
              "      <td>0</td>\n",
              "    </tr>\n",
              "    <tr>\n",
              "      <th>OnlineSecurity</th>\n",
              "      <td>0</td>\n",
              "    </tr>\n",
              "    <tr>\n",
              "      <th>OnlineBackup</th>\n",
              "      <td>0</td>\n",
              "    </tr>\n",
              "    <tr>\n",
              "      <th>DeviceProtection</th>\n",
              "      <td>0</td>\n",
              "    </tr>\n",
              "    <tr>\n",
              "      <th>TechSupport</th>\n",
              "      <td>0</td>\n",
              "    </tr>\n",
              "    <tr>\n",
              "      <th>StreamingTV</th>\n",
              "      <td>0</td>\n",
              "    </tr>\n",
              "    <tr>\n",
              "      <th>StreamingMovies</th>\n",
              "      <td>0</td>\n",
              "    </tr>\n",
              "    <tr>\n",
              "      <th>Contract</th>\n",
              "      <td>0</td>\n",
              "    </tr>\n",
              "    <tr>\n",
              "      <th>PaperlessBilling</th>\n",
              "      <td>0</td>\n",
              "    </tr>\n",
              "    <tr>\n",
              "      <th>PaymentMethod</th>\n",
              "      <td>0</td>\n",
              "    </tr>\n",
              "    <tr>\n",
              "      <th>MonthlyCharges</th>\n",
              "      <td>0</td>\n",
              "    </tr>\n",
              "  </tbody>\n",
              "</table>\n",
              "</div><br><label><b>dtype:</b> int64</label>"
            ]
          },
          "metadata": {},
          "execution_count": 34
        }
      ]
    },
    {
      "cell_type": "markdown",
      "source": [
        "### 1.3 Codificación de variables categóricas y separación de las \"features\" con el \"targetr\""
      ],
      "metadata": {
        "id": "C2atdkrAZBsx"
      }
    },
    {
      "cell_type": "markdown",
      "source": [
        "Al hacer el dropped de las columnas, las variables de typo Category se transformaron en objeto nuevamente. Antes de la codificación para el modelo se revierten a categoría."
      ],
      "metadata": {
        "id": "Vhn4odgIw4uq"
      }
    },
    {
      "cell_type": "code",
      "metadata": {
        "colab": {
          "base_uri": "https://localhost:8080/"
        },
        "id": "492e0ae5",
        "outputId": "2d31f32e-78fc-4f56-cdfa-16c2ba1c131c"
      },
      "source": [
        "# Convertir columnas object a category en datos_v1\n",
        "object_columns_v1 = datos_v1.select_dtypes(include=['object']).columns\n",
        "for col in object_columns_v1:\n",
        "    datos_v1[col] = datos_v1[col].astype('category')\n",
        "\n",
        "# Crear datos_v2 como una copia de datos_v1\n",
        "datos_v2 = datos_v1.copy()\n",
        "\n",
        "# Verificación de tipos de datos en datos_v2\n",
        "print(\"Tipos de datos en datos_v2 después de la conversión:\")\n",
        "print(datos_v2.dtypes)\n",
        "\n",
        "# Guardar el DataFrame datos_v2\n",
        "output_filename_v2 = 'datos_v2.csv'\n",
        "datos_v2.to_csv(output_filename_v2, index=False)\n",
        "print(f\"\\nDataFrame guardado como '{output_filename_v2}'\")"
      ],
      "execution_count": 36,
      "outputs": [
        {
          "output_type": "stream",
          "name": "stdout",
          "text": [
            "Tipos de datos en datos_v2 después de la conversión:\n",
            "Churn                   bool\n",
            "gender              category\n",
            "SeniorCitizen           bool\n",
            "Partner             category\n",
            "Dependents          category\n",
            "tenure                 int64\n",
            "MultipleLines       category\n",
            "InternetService     category\n",
            "OnlineSecurity      category\n",
            "OnlineBackup        category\n",
            "DeviceProtection    category\n",
            "TechSupport         category\n",
            "StreamingTV         category\n",
            "StreamingMovies     category\n",
            "Contract            category\n",
            "PaperlessBilling    category\n",
            "PaymentMethod       category\n",
            "MonthlyCharges       float64\n",
            "dtype: object\n",
            "\n",
            "DataFrame guardado como 'datos_v2.csv'\n"
          ]
        }
      ]
    },
    {
      "cell_type": "code",
      "metadata": {
        "colab": {
          "base_uri": "https://localhost:8080/"
        },
        "id": "f1e78bd7",
        "outputId": "342386bc-80bc-4ecb-8eb8-2f9ea6d1617c"
      },
      "source": [
        "# Identify columns with exactly two categories\n",
        "two_category_cols = [col for col in datos_v2.columns if datos_v2[col].nunique() == 2]\n",
        "\n",
        "# Add 'SeniorCitizen' if it's not already in the list (it should be)\n",
        "if 'SeniorCitizen' not in two_category_cols:\n",
        "    two_category_cols.append('SeniorCitizen')\n",
        "\n",
        "print(\"Variables with exactly two categories (including SeniorCitizen):\")\n",
        "print(two_category_cols)"
      ],
      "execution_count": 39,
      "outputs": [
        {
          "output_type": "stream",
          "name": "stdout",
          "text": [
            "Variables with exactly two categories (including SeniorCitizen):\n",
            "['Churn', 'gender', 'SeniorCitizen', 'Partner', 'Dependents', 'PaperlessBilling']\n"
          ]
        }
      ]
    },
    {
      "cell_type": "code",
      "metadata": {
        "colab": {
          "base_uri": "https://localhost:8080/"
        },
        "id": "172c2717",
        "outputId": "23e76e81-d0d0-467a-acef-534553f01ab4"
      },
      "source": [
        "# Identify categorical columns in datos_v2\n",
        "categorical_cols_v2 = datos_v2.select_dtypes(include=['category']).columns\n",
        "\n",
        "# Filter for columns with 3 or more unique categories\n",
        "three_plus_categories = [col for col in categorical_cols_v2 if datos_v2[col].nunique() >= 3]\n",
        "\n",
        "print(\"Variables with 3 or more categories:\")\n",
        "print(three_plus_categories)"
      ],
      "execution_count": 38,
      "outputs": [
        {
          "output_type": "stream",
          "name": "stdout",
          "text": [
            "Variables with 3 or more categories:\n",
            "['MultipleLines', 'InternetService', 'OnlineSecurity', 'OnlineBackup', 'DeviceProtection', 'TechSupport', 'StreamingTV', 'StreamingMovies', 'Contract', 'PaymentMethod']\n"
          ]
        }
      ]
    },
    {
      "cell_type": "markdown",
      "source": [
        "Tenemos múltiples variables categóricas (tipo category o object) que necesitan transformarse para alimentar los modelos.\n",
        "Estrategia:\n",
        "\n",
        "    Si la variable tiene 2 categorías → LabelEncoder\n",
        "\n",
        "    Si tiene 3 o más → One-hot encoding (sin crear columna dummy para evitar multicolinealidad)\n",
        "\n",
        "Variables con 2 categorías (label encoding):\n",
        "\n",
        "    gender\n",
        "\n",
        "    Partner\n",
        "\n",
        "    Dependents\n",
        "\n",
        "    OnlineSecurity\n",
        "\n",
        "    OnlineBackup\n",
        "\n",
        "    DeviceProtection\n",
        "\n",
        "    TechSupport\n",
        "\n",
        "    StreamingTV\n",
        "\n",
        "    StreamingMovies\n",
        "\n",
        "    PaperlessBilling\n",
        "\n",
        "\n",
        "Variables con 3 o más categorías (one-hot encoding):\n",
        "\n",
        "    MultipleLines\n",
        "    \n",
        "    InternetService\n",
        "    \n",
        "    OnlineSecurity\n",
        "    \n",
        "    OnlineBackup\n",
        "    \n",
        "    DeviceProtection\n",
        "    \n",
        "    TechSupport\n",
        "    \n",
        "    StreamingTV\n",
        "    \n",
        "    StreamingMovies\n",
        "    \n",
        "    Contract\n",
        "    \n",
        "    PaymentMethod"
      ],
      "metadata": {
        "id": "nHCfC87TZuZv"
      }
    },
    {
      "cell_type": "code",
      "metadata": {
        "colab": {
          "base_uri": "https://localhost:8080/",
          "height": 1000
        },
        "id": "f7c53ce0",
        "outputId": "962a1b96-452c-4bb8-c449-2ab1d60083a5"
      },
      "source": [
        "from sklearn.preprocessing import LabelEncoder, OneHotEncoder\n",
        "import numpy as np\n",
        "\n",
        "# Separate target variable\n",
        "y = datos_v2['Churn']\n",
        "X = datos_v2.drop('Churn', axis=1)\n",
        "\n",
        "# Identify categorical columns\n",
        "categorical_cols = X.select_dtypes(include=['category']).columns\n",
        "\n",
        "# Apply Label Encoding for binary categorical columns\n",
        "label_encode_cols = [col for col in categorical_cols if X[col].nunique() == 2]\n",
        "for col in label_encode_cols:\n",
        "    le = LabelEncoder()\n",
        "    X[col] = le.fit_transform(X[col])\n",
        "\n",
        "# Apply One-Hot Encoding for categorical columns with more than 2 categories\n",
        "one_hot_encode_cols = [col for col in categorical_cols if X[col].nunique() > 2]\n",
        "X = pd.get_dummies(X, columns=one_hot_encode_cols, drop_first=True)\n",
        "\n",
        "# Convert boolean columns (SeniorCitizen) to int if not already handled by LabelEncoder\n",
        "# LabelEncoder handles boolean, but double check\n",
        "bool_cols = X.select_dtypes(include=['bool']).columns\n",
        "for col in bool_cols:\n",
        "    X[col] = X[col].astype(int)\n",
        "\n",
        "\n",
        "# Display the first few rows and the data types of the transformed DataFrame\n",
        "print(\"Transformed DataFrame (X) head:\")\n",
        "display(X.head())\n",
        "print(\"\\nTransformed DataFrame (X) dtypes:\")\n",
        "print(X.dtypes)\n",
        "print(\"\\nTarget variable (y) head:\")\n",
        "display(y.head())\n",
        "print(\"\\nTarget variable (y) dtypes:\")\n",
        "print(y.dtypes)"
      ],
      "execution_count": 37,
      "outputs": [
        {
          "output_type": "stream",
          "name": "stdout",
          "text": [
            "Transformed DataFrame (X) head:\n"
          ]
        },
        {
          "output_type": "display_data",
          "data": {
            "text/plain": [
              "   gender  SeniorCitizen  Partner  Dependents  tenure  PaperlessBilling  \\\n",
              "0       0              0        1           1       9                 1   \n",
              "1       1              0        0           0       9                 0   \n",
              "2       1              0        0           0       4                 1   \n",
              "3       1              1        1           0      13                 1   \n",
              "4       0              1        1           0       3                 1   \n",
              "\n",
              "   MonthlyCharges  MultipleLines_No phone service  MultipleLines_Yes  \\\n",
              "0            65.6                               0                  0   \n",
              "1            59.9                               0                  1   \n",
              "2            73.9                               0                  0   \n",
              "3            98.0                               0                  0   \n",
              "4            83.9                               0                  0   \n",
              "\n",
              "   InternetService_Fiber optic  ...  TechSupport_Yes  \\\n",
              "0                            0  ...                1   \n",
              "1                            0  ...                0   \n",
              "2                            1  ...                0   \n",
              "3                            1  ...                0   \n",
              "4                            1  ...                1   \n",
              "\n",
              "   StreamingTV_No internet service  StreamingTV_Yes  \\\n",
              "0                                0                1   \n",
              "1                                0                0   \n",
              "2                                0                0   \n",
              "3                                0                1   \n",
              "4                                0                1   \n",
              "\n",
              "   StreamingMovies_No internet service  StreamingMovies_Yes  \\\n",
              "0                                    0                    0   \n",
              "1                                    0                    1   \n",
              "2                                    0                    0   \n",
              "3                                    0                    1   \n",
              "4                                    0                    0   \n",
              "\n",
              "   Contract_One year  Contract_Two year  \\\n",
              "0                  1                  0   \n",
              "1                  0                  0   \n",
              "2                  0                  0   \n",
              "3                  0                  0   \n",
              "4                  0                  0   \n",
              "\n",
              "   PaymentMethod_Credit card (automatic)  PaymentMethod_Electronic check  \\\n",
              "0                                      0                               0   \n",
              "1                                      0                               0   \n",
              "2                                      0                               1   \n",
              "3                                      0                               1   \n",
              "4                                      0                               0   \n",
              "\n",
              "   PaymentMethod_Mailed check  \n",
              "0                           1  \n",
              "1                           1  \n",
              "2                           0  \n",
              "3                           0  \n",
              "4                           1  \n",
              "\n",
              "[5 rows x 28 columns]"
            ],
            "text/html": [
              "\n",
              "  <div id=\"df-17c1765f-2d9c-4ba5-b61f-37c5612420f2\" class=\"colab-df-container\">\n",
              "    <div>\n",
              "<style scoped>\n",
              "    .dataframe tbody tr th:only-of-type {\n",
              "        vertical-align: middle;\n",
              "    }\n",
              "\n",
              "    .dataframe tbody tr th {\n",
              "        vertical-align: top;\n",
              "    }\n",
              "\n",
              "    .dataframe thead th {\n",
              "        text-align: right;\n",
              "    }\n",
              "</style>\n",
              "<table border=\"1\" class=\"dataframe\">\n",
              "  <thead>\n",
              "    <tr style=\"text-align: right;\">\n",
              "      <th></th>\n",
              "      <th>gender</th>\n",
              "      <th>SeniorCitizen</th>\n",
              "      <th>Partner</th>\n",
              "      <th>Dependents</th>\n",
              "      <th>tenure</th>\n",
              "      <th>PaperlessBilling</th>\n",
              "      <th>MonthlyCharges</th>\n",
              "      <th>MultipleLines_No phone service</th>\n",
              "      <th>MultipleLines_Yes</th>\n",
              "      <th>InternetService_Fiber optic</th>\n",
              "      <th>...</th>\n",
              "      <th>TechSupport_Yes</th>\n",
              "      <th>StreamingTV_No internet service</th>\n",
              "      <th>StreamingTV_Yes</th>\n",
              "      <th>StreamingMovies_No internet service</th>\n",
              "      <th>StreamingMovies_Yes</th>\n",
              "      <th>Contract_One year</th>\n",
              "      <th>Contract_Two year</th>\n",
              "      <th>PaymentMethod_Credit card (automatic)</th>\n",
              "      <th>PaymentMethod_Electronic check</th>\n",
              "      <th>PaymentMethod_Mailed check</th>\n",
              "    </tr>\n",
              "  </thead>\n",
              "  <tbody>\n",
              "    <tr>\n",
              "      <th>0</th>\n",
              "      <td>0</td>\n",
              "      <td>0</td>\n",
              "      <td>1</td>\n",
              "      <td>1</td>\n",
              "      <td>9</td>\n",
              "      <td>1</td>\n",
              "      <td>65.6</td>\n",
              "      <td>0</td>\n",
              "      <td>0</td>\n",
              "      <td>0</td>\n",
              "      <td>...</td>\n",
              "      <td>1</td>\n",
              "      <td>0</td>\n",
              "      <td>1</td>\n",
              "      <td>0</td>\n",
              "      <td>0</td>\n",
              "      <td>1</td>\n",
              "      <td>0</td>\n",
              "      <td>0</td>\n",
              "      <td>0</td>\n",
              "      <td>1</td>\n",
              "    </tr>\n",
              "    <tr>\n",
              "      <th>1</th>\n",
              "      <td>1</td>\n",
              "      <td>0</td>\n",
              "      <td>0</td>\n",
              "      <td>0</td>\n",
              "      <td>9</td>\n",
              "      <td>0</td>\n",
              "      <td>59.9</td>\n",
              "      <td>0</td>\n",
              "      <td>1</td>\n",
              "      <td>0</td>\n",
              "      <td>...</td>\n",
              "      <td>0</td>\n",
              "      <td>0</td>\n",
              "      <td>0</td>\n",
              "      <td>0</td>\n",
              "      <td>1</td>\n",
              "      <td>0</td>\n",
              "      <td>0</td>\n",
              "      <td>0</td>\n",
              "      <td>0</td>\n",
              "      <td>1</td>\n",
              "    </tr>\n",
              "    <tr>\n",
              "      <th>2</th>\n",
              "      <td>1</td>\n",
              "      <td>0</td>\n",
              "      <td>0</td>\n",
              "      <td>0</td>\n",
              "      <td>4</td>\n",
              "      <td>1</td>\n",
              "      <td>73.9</td>\n",
              "      <td>0</td>\n",
              "      <td>0</td>\n",
              "      <td>1</td>\n",
              "      <td>...</td>\n",
              "      <td>0</td>\n",
              "      <td>0</td>\n",
              "      <td>0</td>\n",
              "      <td>0</td>\n",
              "      <td>0</td>\n",
              "      <td>0</td>\n",
              "      <td>0</td>\n",
              "      <td>0</td>\n",
              "      <td>1</td>\n",
              "      <td>0</td>\n",
              "    </tr>\n",
              "    <tr>\n",
              "      <th>3</th>\n",
              "      <td>1</td>\n",
              "      <td>1</td>\n",
              "      <td>1</td>\n",
              "      <td>0</td>\n",
              "      <td>13</td>\n",
              "      <td>1</td>\n",
              "      <td>98.0</td>\n",
              "      <td>0</td>\n",
              "      <td>0</td>\n",
              "      <td>1</td>\n",
              "      <td>...</td>\n",
              "      <td>0</td>\n",
              "      <td>0</td>\n",
              "      <td>1</td>\n",
              "      <td>0</td>\n",
              "      <td>1</td>\n",
              "      <td>0</td>\n",
              "      <td>0</td>\n",
              "      <td>0</td>\n",
              "      <td>1</td>\n",
              "      <td>0</td>\n",
              "    </tr>\n",
              "    <tr>\n",
              "      <th>4</th>\n",
              "      <td>0</td>\n",
              "      <td>1</td>\n",
              "      <td>1</td>\n",
              "      <td>0</td>\n",
              "      <td>3</td>\n",
              "      <td>1</td>\n",
              "      <td>83.9</td>\n",
              "      <td>0</td>\n",
              "      <td>0</td>\n",
              "      <td>1</td>\n",
              "      <td>...</td>\n",
              "      <td>1</td>\n",
              "      <td>0</td>\n",
              "      <td>1</td>\n",
              "      <td>0</td>\n",
              "      <td>0</td>\n",
              "      <td>0</td>\n",
              "      <td>0</td>\n",
              "      <td>0</td>\n",
              "      <td>0</td>\n",
              "      <td>1</td>\n",
              "    </tr>\n",
              "  </tbody>\n",
              "</table>\n",
              "<p>5 rows × 28 columns</p>\n",
              "</div>\n",
              "    <div class=\"colab-df-buttons\">\n",
              "\n",
              "  <div class=\"colab-df-container\">\n",
              "    <button class=\"colab-df-convert\" onclick=\"convertToInteractive('df-17c1765f-2d9c-4ba5-b61f-37c5612420f2')\"\n",
              "            title=\"Convert this dataframe to an interactive table.\"\n",
              "            style=\"display:none;\">\n",
              "\n",
              "  <svg xmlns=\"http://www.w3.org/2000/svg\" height=\"24px\" viewBox=\"0 -960 960 960\">\n",
              "    <path d=\"M120-120v-720h720v720H120Zm60-500h600v-160H180v160Zm220 220h160v-160H400v160Zm0 220h160v-160H400v160ZM180-400h160v-160H180v160Zm440 0h160v-160H620v160ZM180-180h160v-160H180v160Zm440 0h160v-160H620v160Z\"/>\n",
              "  </svg>\n",
              "    </button>\n",
              "\n",
              "  <style>\n",
              "    .colab-df-container {\n",
              "      display:flex;\n",
              "      gap: 12px;\n",
              "    }\n",
              "\n",
              "    .colab-df-convert {\n",
              "      background-color: #E8F0FE;\n",
              "      border: none;\n",
              "      border-radius: 50%;\n",
              "      cursor: pointer;\n",
              "      display: none;\n",
              "      fill: #1967D2;\n",
              "      height: 32px;\n",
              "      padding: 0 0 0 0;\n",
              "      width: 32px;\n",
              "    }\n",
              "\n",
              "    .colab-df-convert:hover {\n",
              "      background-color: #E2EBFA;\n",
              "      box-shadow: 0px 1px 2px rgba(60, 64, 67, 0.3), 0px 1px 3px 1px rgba(60, 64, 67, 0.15);\n",
              "      fill: #174EA6;\n",
              "    }\n",
              "\n",
              "    .colab-df-buttons div {\n",
              "      margin-bottom: 4px;\n",
              "    }\n",
              "\n",
              "    [theme=dark] .colab-df-convert {\n",
              "      background-color: #3B4455;\n",
              "      fill: #D2E3FC;\n",
              "    }\n",
              "\n",
              "    [theme=dark] .colab-df-convert:hover {\n",
              "      background-color: #434B5C;\n",
              "      box-shadow: 0px 1px 3px 1px rgba(0, 0, 0, 0.15);\n",
              "      filter: drop-shadow(0px 1px 2px rgba(0, 0, 0, 0.3));\n",
              "      fill: #FFFFFF;\n",
              "    }\n",
              "  </style>\n",
              "\n",
              "    <script>\n",
              "      const buttonEl =\n",
              "        document.querySelector('#df-17c1765f-2d9c-4ba5-b61f-37c5612420f2 button.colab-df-convert');\n",
              "      buttonEl.style.display =\n",
              "        google.colab.kernel.accessAllowed ? 'block' : 'none';\n",
              "\n",
              "      async function convertToInteractive(key) {\n",
              "        const element = document.querySelector('#df-17c1765f-2d9c-4ba5-b61f-37c5612420f2');\n",
              "        const dataTable =\n",
              "          await google.colab.kernel.invokeFunction('convertToInteractive',\n",
              "                                                    [key], {});\n",
              "        if (!dataTable) return;\n",
              "\n",
              "        const docLinkHtml = 'Like what you see? Visit the ' +\n",
              "          '<a target=\"_blank\" href=https://colab.research.google.com/notebooks/data_table.ipynb>data table notebook</a>'\n",
              "          + ' to learn more about interactive tables.';\n",
              "        element.innerHTML = '';\n",
              "        dataTable['output_type'] = 'display_data';\n",
              "        await google.colab.output.renderOutput(dataTable, element);\n",
              "        const docLink = document.createElement('div');\n",
              "        docLink.innerHTML = docLinkHtml;\n",
              "        element.appendChild(docLink);\n",
              "      }\n",
              "    </script>\n",
              "  </div>\n",
              "\n",
              "\n",
              "    <div id=\"df-dad017da-dbc5-4810-8a73-165a9c198266\">\n",
              "      <button class=\"colab-df-quickchart\" onclick=\"quickchart('df-dad017da-dbc5-4810-8a73-165a9c198266')\"\n",
              "                title=\"Suggest charts\"\n",
              "                style=\"display:none;\">\n",
              "\n",
              "<svg xmlns=\"http://www.w3.org/2000/svg\" height=\"24px\"viewBox=\"0 0 24 24\"\n",
              "     width=\"24px\">\n",
              "    <g>\n",
              "        <path d=\"M19 3H5c-1.1 0-2 .9-2 2v14c0 1.1.9 2 2 2h14c1.1 0 2-.9 2-2V5c0-1.1-.9-2-2-2zM9 17H7v-7h2v7zm4 0h-2V7h2v10zm4 0h-2v-4h2v4z\"/>\n",
              "    </g>\n",
              "</svg>\n",
              "      </button>\n",
              "\n",
              "<style>\n",
              "  .colab-df-quickchart {\n",
              "      --bg-color: #E8F0FE;\n",
              "      --fill-color: #1967D2;\n",
              "      --hover-bg-color: #E2EBFA;\n",
              "      --hover-fill-color: #174EA6;\n",
              "      --disabled-fill-color: #AAA;\n",
              "      --disabled-bg-color: #DDD;\n",
              "  }\n",
              "\n",
              "  [theme=dark] .colab-df-quickchart {\n",
              "      --bg-color: #3B4455;\n",
              "      --fill-color: #D2E3FC;\n",
              "      --hover-bg-color: #434B5C;\n",
              "      --hover-fill-color: #FFFFFF;\n",
              "      --disabled-bg-color: #3B4455;\n",
              "      --disabled-fill-color: #666;\n",
              "  }\n",
              "\n",
              "  .colab-df-quickchart {\n",
              "    background-color: var(--bg-color);\n",
              "    border: none;\n",
              "    border-radius: 50%;\n",
              "    cursor: pointer;\n",
              "    display: none;\n",
              "    fill: var(--fill-color);\n",
              "    height: 32px;\n",
              "    padding: 0;\n",
              "    width: 32px;\n",
              "  }\n",
              "\n",
              "  .colab-df-quickchart:hover {\n",
              "    background-color: var(--hover-bg-color);\n",
              "    box-shadow: 0 1px 2px rgba(60, 64, 67, 0.3), 0 1px 3px 1px rgba(60, 64, 67, 0.15);\n",
              "    fill: var(--button-hover-fill-color);\n",
              "  }\n",
              "\n",
              "  .colab-df-quickchart-complete:disabled,\n",
              "  .colab-df-quickchart-complete:disabled:hover {\n",
              "    background-color: var(--disabled-bg-color);\n",
              "    fill: var(--disabled-fill-color);\n",
              "    box-shadow: none;\n",
              "  }\n",
              "\n",
              "  .colab-df-spinner {\n",
              "    border: 2px solid var(--fill-color);\n",
              "    border-color: transparent;\n",
              "    border-bottom-color: var(--fill-color);\n",
              "    animation:\n",
              "      spin 1s steps(1) infinite;\n",
              "  }\n",
              "\n",
              "  @keyframes spin {\n",
              "    0% {\n",
              "      border-color: transparent;\n",
              "      border-bottom-color: var(--fill-color);\n",
              "      border-left-color: var(--fill-color);\n",
              "    }\n",
              "    20% {\n",
              "      border-color: transparent;\n",
              "      border-left-color: var(--fill-color);\n",
              "      border-top-color: var(--fill-color);\n",
              "    }\n",
              "    30% {\n",
              "      border-color: transparent;\n",
              "      border-left-color: var(--fill-color);\n",
              "      border-top-color: var(--fill-color);\n",
              "      border-right-color: var(--fill-color);\n",
              "    }\n",
              "    40% {\n",
              "      border-color: transparent;\n",
              "      border-right-color: var(--fill-color);\n",
              "      border-top-color: var(--fill-color);\n",
              "    }\n",
              "    60% {\n",
              "      border-color: transparent;\n",
              "      border-right-color: var(--fill-color);\n",
              "    }\n",
              "    80% {\n",
              "      border-color: transparent;\n",
              "      border-right-color: var(--fill-color);\n",
              "      border-bottom-color: var(--fill-color);\n",
              "    }\n",
              "    90% {\n",
              "      border-color: transparent;\n",
              "      border-bottom-color: var(--fill-color);\n",
              "    }\n",
              "  }\n",
              "</style>\n",
              "\n",
              "      <script>\n",
              "        async function quickchart(key) {\n",
              "          const quickchartButtonEl =\n",
              "            document.querySelector('#' + key + ' button');\n",
              "          quickchartButtonEl.disabled = true;  // To prevent multiple clicks.\n",
              "          quickchartButtonEl.classList.add('colab-df-spinner');\n",
              "          try {\n",
              "            const charts = await google.colab.kernel.invokeFunction(\n",
              "                'suggestCharts', [key], {});\n",
              "          } catch (error) {\n",
              "            console.error('Error during call to suggestCharts:', error);\n",
              "          }\n",
              "          quickchartButtonEl.classList.remove('colab-df-spinner');\n",
              "          quickchartButtonEl.classList.add('colab-df-quickchart-complete');\n",
              "        }\n",
              "        (() => {\n",
              "          let quickchartButtonEl =\n",
              "            document.querySelector('#df-dad017da-dbc5-4810-8a73-165a9c198266 button');\n",
              "          quickchartButtonEl.style.display =\n",
              "            google.colab.kernel.accessAllowed ? 'block' : 'none';\n",
              "        })();\n",
              "      </script>\n",
              "    </div>\n",
              "\n",
              "    </div>\n",
              "  </div>\n"
            ],
            "application/vnd.google.colaboratory.intrinsic+json": {
              "type": "dataframe"
            }
          },
          "metadata": {}
        },
        {
          "output_type": "stream",
          "name": "stdout",
          "text": [
            "\n",
            "Transformed DataFrame (X) dtypes:\n",
            "gender                                     int64\n",
            "SeniorCitizen                              int64\n",
            "Partner                                    int64\n",
            "Dependents                                 int64\n",
            "tenure                                     int64\n",
            "PaperlessBilling                           int64\n",
            "MonthlyCharges                           float64\n",
            "MultipleLines_No phone service             int64\n",
            "MultipleLines_Yes                          int64\n",
            "InternetService_Fiber optic                int64\n",
            "InternetService_No                         int64\n",
            "OnlineSecurity_No internet service         int64\n",
            "OnlineSecurity_Yes                         int64\n",
            "OnlineBackup_No internet service           int64\n",
            "OnlineBackup_Yes                           int64\n",
            "DeviceProtection_No internet service       int64\n",
            "DeviceProtection_Yes                       int64\n",
            "TechSupport_No internet service            int64\n",
            "TechSupport_Yes                            int64\n",
            "StreamingTV_No internet service            int64\n",
            "StreamingTV_Yes                            int64\n",
            "StreamingMovies_No internet service        int64\n",
            "StreamingMovies_Yes                        int64\n",
            "Contract_One year                          int64\n",
            "Contract_Two year                          int64\n",
            "PaymentMethod_Credit card (automatic)      int64\n",
            "PaymentMethod_Electronic check             int64\n",
            "PaymentMethod_Mailed check                 int64\n",
            "dtype: object\n",
            "\n",
            "Target variable (y) head:\n"
          ]
        },
        {
          "output_type": "display_data",
          "data": {
            "text/plain": [
              "0    False\n",
              "1    False\n",
              "2     True\n",
              "3     True\n",
              "4     True\n",
              "Name: Churn, dtype: bool"
            ],
            "text/html": [
              "<div>\n",
              "<style scoped>\n",
              "    .dataframe tbody tr th:only-of-type {\n",
              "        vertical-align: middle;\n",
              "    }\n",
              "\n",
              "    .dataframe tbody tr th {\n",
              "        vertical-align: top;\n",
              "    }\n",
              "\n",
              "    .dataframe thead th {\n",
              "        text-align: right;\n",
              "    }\n",
              "</style>\n",
              "<table border=\"1\" class=\"dataframe\">\n",
              "  <thead>\n",
              "    <tr style=\"text-align: right;\">\n",
              "      <th></th>\n",
              "      <th>Churn</th>\n",
              "    </tr>\n",
              "  </thead>\n",
              "  <tbody>\n",
              "    <tr>\n",
              "      <th>0</th>\n",
              "      <td>False</td>\n",
              "    </tr>\n",
              "    <tr>\n",
              "      <th>1</th>\n",
              "      <td>False</td>\n",
              "    </tr>\n",
              "    <tr>\n",
              "      <th>2</th>\n",
              "      <td>True</td>\n",
              "    </tr>\n",
              "    <tr>\n",
              "      <th>3</th>\n",
              "      <td>True</td>\n",
              "    </tr>\n",
              "    <tr>\n",
              "      <th>4</th>\n",
              "      <td>True</td>\n",
              "    </tr>\n",
              "  </tbody>\n",
              "</table>\n",
              "</div><br><label><b>dtype:</b> bool</label>"
            ]
          },
          "metadata": {}
        },
        {
          "output_type": "stream",
          "name": "stdout",
          "text": [
            "\n",
            "Target variable (y) dtypes:\n",
            "bool\n"
          ]
        }
      ]
    },
    {
      "cell_type": "code",
      "metadata": {
        "colab": {
          "base_uri": "https://localhost:8080/"
        },
        "id": "63d42680",
        "outputId": "97bc5686-008f-4c73-f778-c07b692f3592"
      },
      "source": [
        "# Save the transformed DataFrame X to a CSV file\n",
        "output_filename_X = 'data.csv'\n",
        "X.to_csv(output_filename_X, index=False)\n",
        "\n",
        "print(f\"Transformed DataFrame X saved as '{output_filename_X}'\")"
      ],
      "execution_count": 40,
      "outputs": [
        {
          "output_type": "stream",
          "name": "stdout",
          "text": [
            "Transformed DataFrame X saved as 'data.csv'\n"
          ]
        }
      ]
    },
    {
      "cell_type": "markdown",
      "source": [
        "### 1.4 Normalizando MonthlyCharges y tenure"
      ],
      "metadata": {
        "id": "lLI3iEPi8aJO"
      }
    },
    {
      "cell_type": "code",
      "metadata": {
        "colab": {
          "base_uri": "https://localhost:8080/",
          "height": 482
        },
        "id": "786926b9",
        "outputId": "0f220f74-ea7a-49d8-e8a9-222eacfd8ae9"
      },
      "source": [
        "from sklearn.preprocessing import StandardScaler\n",
        "import pandas as pd\n",
        "\n",
        "# Load the DataFrame X (assuming it was saved as 'data.csv')\n",
        "X = pd.read_csv('data.csv')\n",
        "\n",
        "# Initialize the StandardScaler\n",
        "scaler = StandardScaler()\n",
        "\n",
        "# Identify the numerical columns to normalize\n",
        "numerical_cols = ['tenure', 'MonthlyCharges']\n",
        "\n",
        "# Apply StandardScaler to the numerical columns\n",
        "# We fit and transform the selected columns and then replace them in the original DataFrame X\n",
        "X[numerical_cols] = scaler.fit_transform(X[numerical_cols])\n",
        "\n",
        "# Display the first few rows of the transformed DataFrame X to verify\n",
        "print(\"Transformed DataFrame (X) head after normalization:\")\n",
        "display(X.head())\n",
        "\n",
        "# Verify the mean and standard deviation of the normalized columns\n",
        "print(\"\\nMean of normalized numerical columns:\")\n",
        "print(X[numerical_cols].mean())\n",
        "print(\"\\nStandard deviation of normalized numerical columns:\")\n",
        "print(X[numerical_cols].std())"
      ],
      "execution_count": 41,
      "outputs": [
        {
          "output_type": "stream",
          "name": "stdout",
          "text": [
            "Transformed DataFrame (X) head after normalization:\n"
          ]
        },
        {
          "output_type": "display_data",
          "data": {
            "text/plain": [
              "   gender  SeniorCitizen  Partner  Dependents    tenure  PaperlessBilling  \\\n",
              "0       0              0        1           1 -0.951682                 1   \n",
              "1       1              0        0           0 -0.951682                 0   \n",
              "2       1              0        0           0 -1.155283                 1   \n",
              "3       1              1        1           0 -0.788800                 1   \n",
              "4       0              1        1           0 -1.196004                 1   \n",
              "\n",
              "   MonthlyCharges  MultipleLines_No phone service  MultipleLines_Yes  \\\n",
              "0        0.027862                               0                  0   \n",
              "1       -0.161583                               0                  1   \n",
              "2        0.303720                               0                  0   \n",
              "3        1.104706                               0                  0   \n",
              "4        0.636080                               0                  0   \n",
              "\n",
              "   InternetService_Fiber optic  ...  TechSupport_Yes  \\\n",
              "0                            0  ...                1   \n",
              "1                            0  ...                0   \n",
              "2                            1  ...                0   \n",
              "3                            1  ...                0   \n",
              "4                            1  ...                1   \n",
              "\n",
              "   StreamingTV_No internet service  StreamingTV_Yes  \\\n",
              "0                                0                1   \n",
              "1                                0                0   \n",
              "2                                0                0   \n",
              "3                                0                1   \n",
              "4                                0                1   \n",
              "\n",
              "   StreamingMovies_No internet service  StreamingMovies_Yes  \\\n",
              "0                                    0                    0   \n",
              "1                                    0                    1   \n",
              "2                                    0                    0   \n",
              "3                                    0                    1   \n",
              "4                                    0                    0   \n",
              "\n",
              "   Contract_One year  Contract_Two year  \\\n",
              "0                  1                  0   \n",
              "1                  0                  0   \n",
              "2                  0                  0   \n",
              "3                  0                  0   \n",
              "4                  0                  0   \n",
              "\n",
              "   PaymentMethod_Credit card (automatic)  PaymentMethod_Electronic check  \\\n",
              "0                                      0                               0   \n",
              "1                                      0                               0   \n",
              "2                                      0                               1   \n",
              "3                                      0                               1   \n",
              "4                                      0                               0   \n",
              "\n",
              "   PaymentMethod_Mailed check  \n",
              "0                           1  \n",
              "1                           1  \n",
              "2                           0  \n",
              "3                           0  \n",
              "4                           1  \n",
              "\n",
              "[5 rows x 28 columns]"
            ],
            "text/html": [
              "\n",
              "  <div id=\"df-da682d96-80bb-4244-b72a-66cd69c960ba\" class=\"colab-df-container\">\n",
              "    <div>\n",
              "<style scoped>\n",
              "    .dataframe tbody tr th:only-of-type {\n",
              "        vertical-align: middle;\n",
              "    }\n",
              "\n",
              "    .dataframe tbody tr th {\n",
              "        vertical-align: top;\n",
              "    }\n",
              "\n",
              "    .dataframe thead th {\n",
              "        text-align: right;\n",
              "    }\n",
              "</style>\n",
              "<table border=\"1\" class=\"dataframe\">\n",
              "  <thead>\n",
              "    <tr style=\"text-align: right;\">\n",
              "      <th></th>\n",
              "      <th>gender</th>\n",
              "      <th>SeniorCitizen</th>\n",
              "      <th>Partner</th>\n",
              "      <th>Dependents</th>\n",
              "      <th>tenure</th>\n",
              "      <th>PaperlessBilling</th>\n",
              "      <th>MonthlyCharges</th>\n",
              "      <th>MultipleLines_No phone service</th>\n",
              "      <th>MultipleLines_Yes</th>\n",
              "      <th>InternetService_Fiber optic</th>\n",
              "      <th>...</th>\n",
              "      <th>TechSupport_Yes</th>\n",
              "      <th>StreamingTV_No internet service</th>\n",
              "      <th>StreamingTV_Yes</th>\n",
              "      <th>StreamingMovies_No internet service</th>\n",
              "      <th>StreamingMovies_Yes</th>\n",
              "      <th>Contract_One year</th>\n",
              "      <th>Contract_Two year</th>\n",
              "      <th>PaymentMethod_Credit card (automatic)</th>\n",
              "      <th>PaymentMethod_Electronic check</th>\n",
              "      <th>PaymentMethod_Mailed check</th>\n",
              "    </tr>\n",
              "  </thead>\n",
              "  <tbody>\n",
              "    <tr>\n",
              "      <th>0</th>\n",
              "      <td>0</td>\n",
              "      <td>0</td>\n",
              "      <td>1</td>\n",
              "      <td>1</td>\n",
              "      <td>-0.951682</td>\n",
              "      <td>1</td>\n",
              "      <td>0.027862</td>\n",
              "      <td>0</td>\n",
              "      <td>0</td>\n",
              "      <td>0</td>\n",
              "      <td>...</td>\n",
              "      <td>1</td>\n",
              "      <td>0</td>\n",
              "      <td>1</td>\n",
              "      <td>0</td>\n",
              "      <td>0</td>\n",
              "      <td>1</td>\n",
              "      <td>0</td>\n",
              "      <td>0</td>\n",
              "      <td>0</td>\n",
              "      <td>1</td>\n",
              "    </tr>\n",
              "    <tr>\n",
              "      <th>1</th>\n",
              "      <td>1</td>\n",
              "      <td>0</td>\n",
              "      <td>0</td>\n",
              "      <td>0</td>\n",
              "      <td>-0.951682</td>\n",
              "      <td>0</td>\n",
              "      <td>-0.161583</td>\n",
              "      <td>0</td>\n",
              "      <td>1</td>\n",
              "      <td>0</td>\n",
              "      <td>...</td>\n",
              "      <td>0</td>\n",
              "      <td>0</td>\n",
              "      <td>0</td>\n",
              "      <td>0</td>\n",
              "      <td>1</td>\n",
              "      <td>0</td>\n",
              "      <td>0</td>\n",
              "      <td>0</td>\n",
              "      <td>0</td>\n",
              "      <td>1</td>\n",
              "    </tr>\n",
              "    <tr>\n",
              "      <th>2</th>\n",
              "      <td>1</td>\n",
              "      <td>0</td>\n",
              "      <td>0</td>\n",
              "      <td>0</td>\n",
              "      <td>-1.155283</td>\n",
              "      <td>1</td>\n",
              "      <td>0.303720</td>\n",
              "      <td>0</td>\n",
              "      <td>0</td>\n",
              "      <td>1</td>\n",
              "      <td>...</td>\n",
              "      <td>0</td>\n",
              "      <td>0</td>\n",
              "      <td>0</td>\n",
              "      <td>0</td>\n",
              "      <td>0</td>\n",
              "      <td>0</td>\n",
              "      <td>0</td>\n",
              "      <td>0</td>\n",
              "      <td>1</td>\n",
              "      <td>0</td>\n",
              "    </tr>\n",
              "    <tr>\n",
              "      <th>3</th>\n",
              "      <td>1</td>\n",
              "      <td>1</td>\n",
              "      <td>1</td>\n",
              "      <td>0</td>\n",
              "      <td>-0.788800</td>\n",
              "      <td>1</td>\n",
              "      <td>1.104706</td>\n",
              "      <td>0</td>\n",
              "      <td>0</td>\n",
              "      <td>1</td>\n",
              "      <td>...</td>\n",
              "      <td>0</td>\n",
              "      <td>0</td>\n",
              "      <td>1</td>\n",
              "      <td>0</td>\n",
              "      <td>1</td>\n",
              "      <td>0</td>\n",
              "      <td>0</td>\n",
              "      <td>0</td>\n",
              "      <td>1</td>\n",
              "      <td>0</td>\n",
              "    </tr>\n",
              "    <tr>\n",
              "      <th>4</th>\n",
              "      <td>0</td>\n",
              "      <td>1</td>\n",
              "      <td>1</td>\n",
              "      <td>0</td>\n",
              "      <td>-1.196004</td>\n",
              "      <td>1</td>\n",
              "      <td>0.636080</td>\n",
              "      <td>0</td>\n",
              "      <td>0</td>\n",
              "      <td>1</td>\n",
              "      <td>...</td>\n",
              "      <td>1</td>\n",
              "      <td>0</td>\n",
              "      <td>1</td>\n",
              "      <td>0</td>\n",
              "      <td>0</td>\n",
              "      <td>0</td>\n",
              "      <td>0</td>\n",
              "      <td>0</td>\n",
              "      <td>0</td>\n",
              "      <td>1</td>\n",
              "    </tr>\n",
              "  </tbody>\n",
              "</table>\n",
              "<p>5 rows × 28 columns</p>\n",
              "</div>\n",
              "    <div class=\"colab-df-buttons\">\n",
              "\n",
              "  <div class=\"colab-df-container\">\n",
              "    <button class=\"colab-df-convert\" onclick=\"convertToInteractive('df-da682d96-80bb-4244-b72a-66cd69c960ba')\"\n",
              "            title=\"Convert this dataframe to an interactive table.\"\n",
              "            style=\"display:none;\">\n",
              "\n",
              "  <svg xmlns=\"http://www.w3.org/2000/svg\" height=\"24px\" viewBox=\"0 -960 960 960\">\n",
              "    <path d=\"M120-120v-720h720v720H120Zm60-500h600v-160H180v160Zm220 220h160v-160H400v160Zm0 220h160v-160H400v160ZM180-400h160v-160H180v160Zm440 0h160v-160H620v160ZM180-180h160v-160H180v160Zm440 0h160v-160H620v160Z\"/>\n",
              "  </svg>\n",
              "    </button>\n",
              "\n",
              "  <style>\n",
              "    .colab-df-container {\n",
              "      display:flex;\n",
              "      gap: 12px;\n",
              "    }\n",
              "\n",
              "    .colab-df-convert {\n",
              "      background-color: #E8F0FE;\n",
              "      border: none;\n",
              "      border-radius: 50%;\n",
              "      cursor: pointer;\n",
              "      display: none;\n",
              "      fill: #1967D2;\n",
              "      height: 32px;\n",
              "      padding: 0 0 0 0;\n",
              "      width: 32px;\n",
              "    }\n",
              "\n",
              "    .colab-df-convert:hover {\n",
              "      background-color: #E2EBFA;\n",
              "      box-shadow: 0px 1px 2px rgba(60, 64, 67, 0.3), 0px 1px 3px 1px rgba(60, 64, 67, 0.15);\n",
              "      fill: #174EA6;\n",
              "    }\n",
              "\n",
              "    .colab-df-buttons div {\n",
              "      margin-bottom: 4px;\n",
              "    }\n",
              "\n",
              "    [theme=dark] .colab-df-convert {\n",
              "      background-color: #3B4455;\n",
              "      fill: #D2E3FC;\n",
              "    }\n",
              "\n",
              "    [theme=dark] .colab-df-convert:hover {\n",
              "      background-color: #434B5C;\n",
              "      box-shadow: 0px 1px 3px 1px rgba(0, 0, 0, 0.15);\n",
              "      filter: drop-shadow(0px 1px 2px rgba(0, 0, 0, 0.3));\n",
              "      fill: #FFFFFF;\n",
              "    }\n",
              "  </style>\n",
              "\n",
              "    <script>\n",
              "      const buttonEl =\n",
              "        document.querySelector('#df-da682d96-80bb-4244-b72a-66cd69c960ba button.colab-df-convert');\n",
              "      buttonEl.style.display =\n",
              "        google.colab.kernel.accessAllowed ? 'block' : 'none';\n",
              "\n",
              "      async function convertToInteractive(key) {\n",
              "        const element = document.querySelector('#df-da682d96-80bb-4244-b72a-66cd69c960ba');\n",
              "        const dataTable =\n",
              "          await google.colab.kernel.invokeFunction('convertToInteractive',\n",
              "                                                    [key], {});\n",
              "        if (!dataTable) return;\n",
              "\n",
              "        const docLinkHtml = 'Like what you see? Visit the ' +\n",
              "          '<a target=\"_blank\" href=https://colab.research.google.com/notebooks/data_table.ipynb>data table notebook</a>'\n",
              "          + ' to learn more about interactive tables.';\n",
              "        element.innerHTML = '';\n",
              "        dataTable['output_type'] = 'display_data';\n",
              "        await google.colab.output.renderOutput(dataTable, element);\n",
              "        const docLink = document.createElement('div');\n",
              "        docLink.innerHTML = docLinkHtml;\n",
              "        element.appendChild(docLink);\n",
              "      }\n",
              "    </script>\n",
              "  </div>\n",
              "\n",
              "\n",
              "    <div id=\"df-d1823e07-27d3-477e-8d21-e0ab4e3b337b\">\n",
              "      <button class=\"colab-df-quickchart\" onclick=\"quickchart('df-d1823e07-27d3-477e-8d21-e0ab4e3b337b')\"\n",
              "                title=\"Suggest charts\"\n",
              "                style=\"display:none;\">\n",
              "\n",
              "<svg xmlns=\"http://www.w3.org/2000/svg\" height=\"24px\"viewBox=\"0 0 24 24\"\n",
              "     width=\"24px\">\n",
              "    <g>\n",
              "        <path d=\"M19 3H5c-1.1 0-2 .9-2 2v14c0 1.1.9 2 2 2h14c1.1 0 2-.9 2-2V5c0-1.1-.9-2-2-2zM9 17H7v-7h2v7zm4 0h-2V7h2v10zm4 0h-2v-4h2v4z\"/>\n",
              "    </g>\n",
              "</svg>\n",
              "      </button>\n",
              "\n",
              "<style>\n",
              "  .colab-df-quickchart {\n",
              "      --bg-color: #E8F0FE;\n",
              "      --fill-color: #1967D2;\n",
              "      --hover-bg-color: #E2EBFA;\n",
              "      --hover-fill-color: #174EA6;\n",
              "      --disabled-fill-color: #AAA;\n",
              "      --disabled-bg-color: #DDD;\n",
              "  }\n",
              "\n",
              "  [theme=dark] .colab-df-quickchart {\n",
              "      --bg-color: #3B4455;\n",
              "      --fill-color: #D2E3FC;\n",
              "      --hover-bg-color: #434B5C;\n",
              "      --hover-fill-color: #FFFFFF;\n",
              "      --disabled-bg-color: #3B4455;\n",
              "      --disabled-fill-color: #666;\n",
              "  }\n",
              "\n",
              "  .colab-df-quickchart {\n",
              "    background-color: var(--bg-color);\n",
              "    border: none;\n",
              "    border-radius: 50%;\n",
              "    cursor: pointer;\n",
              "    display: none;\n",
              "    fill: var(--fill-color);\n",
              "    height: 32px;\n",
              "    padding: 0;\n",
              "    width: 32px;\n",
              "  }\n",
              "\n",
              "  .colab-df-quickchart:hover {\n",
              "    background-color: var(--hover-bg-color);\n",
              "    box-shadow: 0 1px 2px rgba(60, 64, 67, 0.3), 0 1px 3px 1px rgba(60, 64, 67, 0.15);\n",
              "    fill: var(--button-hover-fill-color);\n",
              "  }\n",
              "\n",
              "  .colab-df-quickchart-complete:disabled,\n",
              "  .colab-df-quickchart-complete:disabled:hover {\n",
              "    background-color: var(--disabled-bg-color);\n",
              "    fill: var(--disabled-fill-color);\n",
              "    box-shadow: none;\n",
              "  }\n",
              "\n",
              "  .colab-df-spinner {\n",
              "    border: 2px solid var(--fill-color);\n",
              "    border-color: transparent;\n",
              "    border-bottom-color: var(--fill-color);\n",
              "    animation:\n",
              "      spin 1s steps(1) infinite;\n",
              "  }\n",
              "\n",
              "  @keyframes spin {\n",
              "    0% {\n",
              "      border-color: transparent;\n",
              "      border-bottom-color: var(--fill-color);\n",
              "      border-left-color: var(--fill-color);\n",
              "    }\n",
              "    20% {\n",
              "      border-color: transparent;\n",
              "      border-left-color: var(--fill-color);\n",
              "      border-top-color: var(--fill-color);\n",
              "    }\n",
              "    30% {\n",
              "      border-color: transparent;\n",
              "      border-left-color: var(--fill-color);\n",
              "      border-top-color: var(--fill-color);\n",
              "      border-right-color: var(--fill-color);\n",
              "    }\n",
              "    40% {\n",
              "      border-color: transparent;\n",
              "      border-right-color: var(--fill-color);\n",
              "      border-top-color: var(--fill-color);\n",
              "    }\n",
              "    60% {\n",
              "      border-color: transparent;\n",
              "      border-right-color: var(--fill-color);\n",
              "    }\n",
              "    80% {\n",
              "      border-color: transparent;\n",
              "      border-right-color: var(--fill-color);\n",
              "      border-bottom-color: var(--fill-color);\n",
              "    }\n",
              "    90% {\n",
              "      border-color: transparent;\n",
              "      border-bottom-color: var(--fill-color);\n",
              "    }\n",
              "  }\n",
              "</style>\n",
              "\n",
              "      <script>\n",
              "        async function quickchart(key) {\n",
              "          const quickchartButtonEl =\n",
              "            document.querySelector('#' + key + ' button');\n",
              "          quickchartButtonEl.disabled = true;  // To prevent multiple clicks.\n",
              "          quickchartButtonEl.classList.add('colab-df-spinner');\n",
              "          try {\n",
              "            const charts = await google.colab.kernel.invokeFunction(\n",
              "                'suggestCharts', [key], {});\n",
              "          } catch (error) {\n",
              "            console.error('Error during call to suggestCharts:', error);\n",
              "          }\n",
              "          quickchartButtonEl.classList.remove('colab-df-spinner');\n",
              "          quickchartButtonEl.classList.add('colab-df-quickchart-complete');\n",
              "        }\n",
              "        (() => {\n",
              "          let quickchartButtonEl =\n",
              "            document.querySelector('#df-d1823e07-27d3-477e-8d21-e0ab4e3b337b button');\n",
              "          quickchartButtonEl.style.display =\n",
              "            google.colab.kernel.accessAllowed ? 'block' : 'none';\n",
              "        })();\n",
              "      </script>\n",
              "    </div>\n",
              "\n",
              "    </div>\n",
              "  </div>\n"
            ],
            "application/vnd.google.colaboratory.intrinsic+json": {
              "type": "dataframe"
            }
          },
          "metadata": {}
        },
        {
          "output_type": "stream",
          "name": "stdout",
          "text": [
            "\n",
            "Mean of normalized numerical columns:\n",
            "tenure           -2.824818e-17\n",
            "MonthlyCharges   -6.658501e-17\n",
            "dtype: float64\n",
            "\n",
            "Standard deviation of normalized numerical columns:\n",
            "tenure            1.000071\n",
            "MonthlyCharges    1.000071\n",
            "dtype: float64\n"
          ]
        }
      ]
    },
    {
      "cell_type": "code",
      "metadata": {
        "colab": {
          "base_uri": "https://localhost:8080/"
        },
        "id": "8432f3f7",
        "outputId": "9e91c1c9-dd40-4850-c222-52d472e3b83a"
      },
      "source": [
        "# Save the transformed DataFrame X to a CSV file with the specified name\n",
        "output_filename = 'data_2.csv'\n",
        "X.to_csv(output_filename, index=False)\n",
        "\n",
        "print(f\"DataFrame with normalized numerical columns saved as '{output_filename}'\")"
      ],
      "execution_count": 42,
      "outputs": [
        {
          "output_type": "stream",
          "name": "stdout",
          "text": [
            "DataFrame with normalized numerical columns saved as 'data_2.csv'\n"
          ]
        }
      ]
    },
    {
      "cell_type": "markdown",
      "source": [
        "# PRESENTACIÓN"
      ],
      "metadata": {
        "id": "87TNy0yCf_hk"
      }
    },
    {
      "cell_type": "markdown",
      "source": [
        "## ESTRUCTURA DEL PROYECTO"
      ],
      "metadata": {
        "id": "QkrXwDmCyptX"
      }
    },
    {
      "cell_type": "markdown",
      "source": [
        "**Carga y Exploración Inicial de Datos**\n",
        "\n",
        "    - Importar el dataset desde el repositorio.\n",
        "\n",
        "    - Verificar dimensiones, tipos de datos y valores nulos.\n",
        "\n",
        "**Fase 0: Análisis Exploratorio Básico (Antes de la Limpieza)**\n",
        "\n",
        "Objetivo: Realizar un análisis exploratorio para entender las distribuciones, detectar outliers, y obtener estadísticas descriptivas de los datos.\n",
        "\n",
        "🪜 Pasos:\n",
        "\n",
        "    Estadísticas descriptivas iniciales\n",
        "    Obtener resumen de las estadísticas básicas (mean, std, min, max, etc.) para todas las variables numéricas, con especial atención a las variables como MonthlyCharges, TotalCharges, tenure, etc.\n",
        "\n",
        "    Distribuciones de las variables numéricas\n",
        "    Graficar distribuciones de las variables numéricas:\n",
        "\n",
        "        - tenure\n",
        "\n",
        "        - MonthlyCharges\n",
        "\n",
        "        - TotalCharges\n",
        "        \n",
        "    Buscar outliers y patrones inusuales.\n",
        "\n",
        "    Boxplots para detectar outliers\n",
        "    Crear boxplots para identificar valores atípicos en las variables numéricas.\n",
        "\n",
        "    Distribuciones de variables categóricas\n",
        "    Graficar la distribución de las variables categóricas:\n",
        "\n",
        "        - gender, SeniorCitizen, Partner, Dependents, etc.\n",
        "        - Contar los valores únicos y sus frecuencias.\n",
        "\n",
        "    Correlación de variables numéricas\n",
        "    Generar un mapa de calor de correlación para observar qué variables numéricas están más correlacionadas entre sí.\n",
        "\n",
        "**Fase 1: Preparación de los Datos (Limpieza y Codificación)**\n",
        "\n",
        "Objetivo: Limpiar y transformar los datos para el análisis y modelado.\n",
        "🪜 Pasos:\n",
        "\n",
        "    Eliminar columnas innecesarias\n",
        "\n",
        "        - Eliminar Cuentas_diarias\n",
        "\n",
        "        - Eliminar TotalCharges por redundancia\n",
        "\n",
        "    Conversión de variables categóricas\n",
        "\n",
        "        - Convertir las variables tipo category en variables dummy (One-Hot Encoding)\n",
        "\n",
        "    Separar variable objetivo y variables predictoras\n",
        "\n",
        "        - Separar X (features) y y (target: Churn)\n",
        "\n",
        "    Normalización de variables numéricas\n",
        "\n",
        "        - Normalizar tenure y MonthlyCharges con StandardScaler\n",
        "\n",
        "📁 Resultado:\n",
        "\n",
        "    DataFrame resultante: datos_v3\n",
        "\n",
        "    X e y preparados para el modelo\n",
        "\n",
        "📊 Fase 2: Análisis Exploratorio y Correlación\n",
        "\n",
        "Objetivo: Comprender el comportamiento de las variables y su relación con la cancelación.\n",
        "\n",
        "\n",
        "🪜 Pasos:\n",
        "\n",
        "    Gráfico de correlación numérica\n",
        "    Generar un mapa de calor para ver la correlación entre las variables numéricas y la variable Churn.\n",
        "\n",
        "    Distribuciones por Churn\n",
        "    Graficar distribuciones de variables como MonthlyCharges, tenure, y Contract separadas por Churn.\n",
        "\n",
        "    Correlación con variable objetivo\n",
        "    Crear una tabla que muestre la correlación de cada variable con Churn.\n",
        "\n",
        "🤖 Fase 3: Modelado\n",
        "\n",
        "Objetivo: Entrenar y comparar al menos dos modelos de clasificación.\n",
        "\n",
        "\n",
        "🪜 Pasos:\n",
        "\n",
        "    División de datos\n",
        "    Dividir los datos en conjunto de entrenamiento y prueba (80% entrenamiento, 20% prueba).\n",
        "\n",
        "    Entrenamiento de modelos\n",
        "    Entrenar al menos dos modelos de clasificación:\n",
        "\n",
        "        - RandomForestClassifier\n",
        "\n",
        "        - LogisticRegression\n",
        "\n",
        "📐 Fase 4: Evaluación de Modelos\n",
        "\n",
        "Objetivo: Evaluar el desempeño de los modelos mediante métricas de clasificación.\n",
        "\n",
        "🪜 Pasos:\n",
        "\n",
        "    Evaluación métrica\n",
        "    Evaluar los modelos utilizando métricas como Accuracy, Precision, Recall, F1, ROC-AUC.\n",
        "\n",
        "    Gráficos de evaluación\n",
        "    Crear gráficos de evaluación como:\n",
        "\n",
        "        - Matrices de confusión para ambos modelos.\n",
        "\n",
        "        - Curvas ROC para ambos modelos.\n",
        "\n",
        "🧠 Fase 5: Interpretación y Conclusiones Estratégicas\n",
        "\n",
        "Objetivo: Identificar las variables clave que impactan en la cancelación de clientes y proponer acciones estratégicas.\n",
        "\n",
        "🪜 Pasos:\n",
        "\n",
        "    Importancia de variables\n",
        "    Visualizar las características más influyentes para la predicción de churn, usando la importancia de las variables en el modelo Random Forest.\n",
        "\n",
        "    Redacción de insights estratégicos\n",
        "    Analizar qué variables son más relevantes y qué estrategias se pueden proponer para reducir el churn.\n",
        "\n"
      ],
      "metadata": {
        "id": "bN_ttqyxyvF3"
      }
    }
  ]
}