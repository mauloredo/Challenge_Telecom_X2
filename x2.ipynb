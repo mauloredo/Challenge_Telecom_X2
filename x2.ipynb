{
  "nbformat": 4,
  "nbformat_minor": 0,
  "metadata": {
    "colab": {
      "provenance": [],
      "authorship_tag": "ABX9TyORFS4a/8dZME+UlFhtrxjN",
      "include_colab_link": true
    },
    "kernelspec": {
      "name": "python3",
      "display_name": "Python 3"
    },
    "language_info": {
      "name": "python"
    }
  },
  "cells": [
    {
      "cell_type": "markdown",
      "metadata": {
        "id": "view-in-github",
        "colab_type": "text"
      },
      "source": [
        "<a href=\"https://colab.research.google.com/github/mauloredo/Challenge_Telecom_X2/blob/main/x2.ipynb\" target=\"_parent\"><img src=\"https://colab.research.google.com/assets/colab-badge.svg\" alt=\"Open In Colab\"/></a>"
      ]
    },
    {
      "cell_type": "markdown",
      "source": [
        "# PRODUCCIÓN"
      ],
      "metadata": {
        "id": "96duXZO-f3K8"
      }
    },
    {
      "cell_type": "markdown",
      "source": [
        "## CONTROL DE VERSIONES DEL DATAFRAME"
      ],
      "metadata": {
        "id": "8-FWNZIe0HkZ"
      }
    },
    {
      "cell_type": "markdown",
      "source": [
        "**datos_x2**  Dataframe importado del projecto anterior\n",
        "\n",
        "**datos** Dataframe con columnas object a category, como estaban originalmente"
      ],
      "metadata": {
        "id": "-vhG1u-90fev"
      }
    },
    {
      "cell_type": "markdown",
      "source": [
        "## CONTROL DE OBJETOS"
      ],
      "metadata": {
        "id": "4UR3GJKY0UiW"
      }
    },
    {
      "cell_type": "markdown",
      "source": [
        "## DESCRIPCIÓN DEL DESAFÍO"
      ],
      "metadata": {
        "id": "O8FIUBIjcOQm"
      }
    },
    {
      "cell_type": "markdown",
      "source": [
        "\n",
        "\n",
        "Telecom X – Parte 2: Predicción de Cancelación (Churn)\n",
        "\n",
        "📣 Historia del Desafío\n",
        "\n",
        "¡Felicidades! 🎉 Has sido promovido después de tu excelente desempeño en el análisis exploratorio de la cancelación de clientes en Telecom X. Tu dedicación, claridad al comunicar los datos y visión estratégica marcaron la diferencia.\n",
        "\n",
        "Ahora, ¡has sido invitado oficialmente a formar parte del equipo de Machine Learning de la empresa!\n",
        "\n",
        "🎯 Misión\n",
        "\n",
        "Tu nueva misión es desarrollar modelos predictivos capaces de prever qué clientes tienen mayor probabilidad de cancelar sus servicios.\n",
        "\n",
        "La empresa quiere anticiparse al problema de la cancelación, y te corresponde a ti construir un pipeline robusto para esta etapa inicial de modelado.\n",
        "\n",
        "🧠 Objetivos del Desafío\n",
        "\n",
        "    Preparar los datos para el modelado (tratamiento, codificación, normalización).\n",
        "\n",
        "    Realizar análisis de correlación y selección de variables.\n",
        "\n",
        "    Entrenar dos o más modelos de clasificación.\n",
        "\n",
        "    Evaluar el rendimiento de los modelos con métricas.\n",
        "\n",
        "    Interpretar los resultados, incluyendo la importancia de las variables.\n",
        "\n",
        "    Crear una conclusión estratégica señalando los principales factores que influyen en la cancelación.\n",
        "\n",
        "🧰 Lo que vas a practicar\n",
        "\n",
        "✅ Preprocesamiento de datos para Machine Learning\n",
        "✅ Construcción y evaluación de modelos predictivos\n",
        "✅ Interpretación de resultados y entrega de insights\n",
        "✅ Comunicación técnica con enfoque estratégico\n",
        "\n",
        "🚀 Ahora eres: Analista Junior de Machine Learning\n",
        "\n",
        "Telecom X confía en tu entrega para dar los próximos pasos hacia una solución de inteligencia predictiva eficaz. ¡Buena suerte!\n",
        "Comentarios y Actividad"
      ],
      "metadata": {
        "id": "Uh8IXd4UcEKc"
      }
    },
    {
      "cell_type": "markdown",
      "source": [
        "## 1. CARGA Y EXPLORACIÓN INICIAL DE DATOS"
      ],
      "metadata": {
        "id": "OpKr_G99gKKY"
      }
    },
    {
      "cell_type": "markdown",
      "source": [
        "\n",
        "\n",
        "    \n",
        "\n",
        "\n",
        "    1.3 Realizar un análisis exploratorio básico (distribuciones, outliers, estadísticas descriptivas)."
      ],
      "metadata": {
        "id": "GGTvWe8bzMoV"
      }
    },
    {
      "cell_type": "markdown",
      "source": [
        "### 1.1 Importar el dataset desde el repositorio."
      ],
      "metadata": {
        "id": "UosVfSjuze3e"
      }
    },
    {
      "cell_type": "code",
      "source": [
        "import requests\n",
        "from io import BytesIO\n",
        "import pandas as pd\n",
        "\n",
        "raw_url = 'https://raw.githubusercontent.com/mauloredo/Challenge_Telecom_X2/refs/heads/main/data_x2.csv'\n",
        "\n",
        "print(f\"Attempting to download data from: {raw_url}\")\n",
        "\n",
        "try:\n",
        "    response = requests.get(raw_url)\n",
        "    response.raise_for_status()\n",
        "\n",
        "    datos_x2 = pd.read_csv(BytesIO(response.content))\n",
        "\n",
        "    print(\"File downloaded and loaded successfully!\")\n",
        "    print(\"DataFrame shape:\", datos_x2.shape)\n",
        "    print(\"\\nDataFrame head:\")\n",
        "    print(datos_x2.head())\n",
        "\n",
        "except requests.exceptions.RequestException as e:\n",
        "    print(f\"Error downloading the file: {e}\")\n",
        "    print(\"Please ensure the raw URL is correct and the file exists in the repository.\")"
      ],
      "metadata": {
        "colab": {
          "base_uri": "https://localhost:8080/"
        },
        "id": "aV8DwSQcgSOL",
        "outputId": "70510173-ca77-4177-ea8d-617dacceb688"
      },
      "execution_count": 14,
      "outputs": [
        {
          "output_type": "stream",
          "name": "stdout",
          "text": [
            "Attempting to download data from: https://raw.githubusercontent.com/mauloredo/Challenge_Telecom_X2/refs/heads/main/data_x2.csv\n",
            "File downloaded and loaded successfully!\n",
            "DataFrame shape: (7043, 21)\n",
            "\n",
            "DataFrame head:\n",
            "   Churn  gender  SeniorCitizen Partner Dependents  tenure PhoneService  \\\n",
            "0  False  Female          False     Yes        Yes       9          Yes   \n",
            "1  False    Male          False      No         No       9          Yes   \n",
            "2   True    Male          False      No         No       4          Yes   \n",
            "3   True    Male           True     Yes         No      13          Yes   \n",
            "4   True  Female           True     Yes         No       3          Yes   \n",
            "\n",
            "  MultipleLines InternetService OnlineSecurity  ... DeviceProtection  \\\n",
            "0            No             DSL             No  ...               No   \n",
            "1           Yes             DSL             No  ...               No   \n",
            "2            No     Fiber optic             No  ...              Yes   \n",
            "3            No     Fiber optic             No  ...              Yes   \n",
            "4            No     Fiber optic             No  ...               No   \n",
            "\n",
            "  TechSupport StreamingTV StreamingMovies        Contract PaperlessBilling  \\\n",
            "0         Yes         Yes              No        One year              Yes   \n",
            "1          No          No             Yes  Month-to-month               No   \n",
            "2          No          No              No  Month-to-month              Yes   \n",
            "3          No         Yes             Yes  Month-to-month              Yes   \n",
            "4         Yes         Yes              No  Month-to-month              Yes   \n",
            "\n",
            "      PaymentMethod MonthlyCharges  TotalCharges  Cuentas_diarias  \n",
            "0      Mailed check           65.6        593.30         2.186667  \n",
            "1      Mailed check           59.9        542.40         1.996667  \n",
            "2  Electronic check           73.9        280.85         2.463333  \n",
            "3  Electronic check           98.0       1237.85         3.266667  \n",
            "4      Mailed check           83.9        267.40         2.796667  \n",
            "\n",
            "[5 rows x 21 columns]\n"
          ]
        }
      ]
    },
    {
      "cell_type": "markdown",
      "source": [
        "### 1.2 Verificar dimensiones, tipos de datos y valores nulos.\n"
      ],
      "metadata": {
        "id": "fs065Woxz2C9"
      }
    },
    {
      "cell_type": "markdown",
      "source": [],
      "metadata": {
        "id": "Rkb6S3Qz2WXR"
      }
    },
    {
      "cell_type": "code",
      "source": [
        "# Verificar dimensiones del DataFrame\n",
        "print(f\"Filas: {datos_x2.shape[0]} | Columnas: {datos_x2.shape[1]}\")\n",
        "\n",
        "# Mostrar nombres de columnas\n",
        "print(\"\\n📋 Lista de columnas:\")\n",
        "print(datos_x2.columns.tolist())\n",
        "\n",
        "# Tipos de datos por columna\n",
        "print(\"\\n🔧 Tipos de datos:\")\n",
        "print(datos_x2.dtypes)\n",
        "\n",
        "# Recuento de valores nulos por columna\n",
        "print(\"\\n🧯 Valores nulos por columna:\")\n",
        "print(datos_x2.isnull().sum())\n",
        "\n",
        "# Verificar valores únicos por columna (ideal para detectar categóricas)\n",
        "print(\"\\n🔎 Valores únicos por columna:\")\n",
        "print(datos_x2.nunique())\n",
        "\n",
        "# Estadísticas descriptivas de columnas numéricas\n",
        "print(\"\\n📊 Estadísticas numéricas:\")\n",
        "print(datos_x2.describe())\n",
        "\n",
        "# Estadísticas para columnas categóricas (si existen)\n",
        "print(\"\\n📊 Estadísticas categóricas:\")\n",
        "print(datos_x2.describe(include='object'))\n",
        "\n"
      ],
      "metadata": {
        "colab": {
          "base_uri": "https://localhost:8080/"
        },
        "id": "pBsLBXzCz8Zm",
        "outputId": "7bf8b41b-c041-421b-b0eb-60b9ec92019d"
      },
      "execution_count": 15,
      "outputs": [
        {
          "output_type": "stream",
          "name": "stdout",
          "text": [
            "Filas: 7043 | Columnas: 21\n",
            "\n",
            "📋 Lista de columnas:\n",
            "['Churn', 'gender', 'SeniorCitizen', 'Partner', 'Dependents', 'tenure', 'PhoneService', 'MultipleLines', 'InternetService', 'OnlineSecurity', 'OnlineBackup', 'DeviceProtection', 'TechSupport', 'StreamingTV', 'StreamingMovies', 'Contract', 'PaperlessBilling', 'PaymentMethod', 'MonthlyCharges', 'TotalCharges', 'Cuentas_diarias']\n",
            "\n",
            "🔧 Tipos de datos:\n",
            "Churn                  bool\n",
            "gender               object\n",
            "SeniorCitizen          bool\n",
            "Partner              object\n",
            "Dependents           object\n",
            "tenure                int64\n",
            "PhoneService         object\n",
            "MultipleLines        object\n",
            "InternetService      object\n",
            "OnlineSecurity       object\n",
            "OnlineBackup         object\n",
            "DeviceProtection     object\n",
            "TechSupport          object\n",
            "StreamingTV          object\n",
            "StreamingMovies      object\n",
            "Contract             object\n",
            "PaperlessBilling     object\n",
            "PaymentMethod        object\n",
            "MonthlyCharges      float64\n",
            "TotalCharges        float64\n",
            "Cuentas_diarias     float64\n",
            "dtype: object\n",
            "\n",
            "🧯 Valores nulos por columna:\n",
            "Churn               0\n",
            "gender              0\n",
            "SeniorCitizen       0\n",
            "Partner             0\n",
            "Dependents          0\n",
            "tenure              0\n",
            "PhoneService        0\n",
            "MultipleLines       0\n",
            "InternetService     0\n",
            "OnlineSecurity      0\n",
            "OnlineBackup        0\n",
            "DeviceProtection    0\n",
            "TechSupport         0\n",
            "StreamingTV         0\n",
            "StreamingMovies     0\n",
            "Contract            0\n",
            "PaperlessBilling    0\n",
            "PaymentMethod       0\n",
            "MonthlyCharges      0\n",
            "TotalCharges        0\n",
            "Cuentas_diarias     0\n",
            "dtype: int64\n",
            "\n",
            "🔎 Valores únicos por columna:\n",
            "Churn                  2\n",
            "gender                 2\n",
            "SeniorCitizen          2\n",
            "Partner                2\n",
            "Dependents             2\n",
            "tenure                73\n",
            "PhoneService           2\n",
            "MultipleLines          3\n",
            "InternetService        3\n",
            "OnlineSecurity         3\n",
            "OnlineBackup           3\n",
            "DeviceProtection       3\n",
            "TechSupport            3\n",
            "StreamingTV            3\n",
            "StreamingMovies        3\n",
            "Contract               3\n",
            "PaperlessBilling       2\n",
            "PaymentMethod          4\n",
            "MonthlyCharges      1585\n",
            "TotalCharges        6531\n",
            "Cuentas_diarias     1585\n",
            "dtype: int64\n",
            "\n",
            "📊 Estadísticas numéricas:\n",
            "            tenure  MonthlyCharges  TotalCharges  Cuentas_diarias\n",
            "count  7043.000000     7043.000000   7043.000000      7043.000000\n",
            "mean     32.371149       64.761692   2279.734304         2.158723\n",
            "std      24.559481       30.090047   2266.794470         1.003002\n",
            "min       0.000000       18.250000      0.000000         0.608333\n",
            "25%       9.000000       35.500000    398.550000         1.183333\n",
            "50%      29.000000       70.350000   1394.550000         2.345000\n",
            "75%      55.000000       89.850000   3786.600000         2.995000\n",
            "max      72.000000      118.750000   8684.800000         3.958333\n",
            "\n",
            "📊 Estadísticas categóricas:\n",
            "       gender Partner Dependents PhoneService MultipleLines InternetService  \\\n",
            "count    7043    7043       7043         7043          7043            7043   \n",
            "unique      2       2          2            2             3               3   \n",
            "top      Male      No         No          Yes            No     Fiber optic   \n",
            "freq     3555    3641       4933         6361          3390            3096   \n",
            "\n",
            "       OnlineSecurity OnlineBackup DeviceProtection TechSupport StreamingTV  \\\n",
            "count            7043         7043             7043        7043        7043   \n",
            "unique              3            3                3           3           3   \n",
            "top                No           No               No          No          No   \n",
            "freq             3498         3088             3095        3473        2810   \n",
            "\n",
            "       StreamingMovies        Contract PaperlessBilling     PaymentMethod  \n",
            "count             7043            7043             7043              7043  \n",
            "unique               3               3                2                 4  \n",
            "top                 No  Month-to-month              Yes  Electronic check  \n",
            "freq              2785            3875             4171              2365  \n"
          ]
        }
      ]
    },
    {
      "cell_type": "markdown",
      "source": [
        "Después del análisis exploratiorio se encuentra que los tipos de variables del dataframe difieren con el archivo original, Puede ser que en la importación\n",
        "\n",
        "Data columns (total 20 columns):\n",
        " ind   Column            Non-Null Count  Dtype   \n",
        "---  ------            --------------  -----   \n",
        " 0   Churn             7043 non-null   bool    \n",
        " 1   gender            7043 non-null   category\n",
        " 2   SeniorCitizen     7043 non-null   bool    \n",
        " 3   Partner           7043 non-null   category\n",
        " 4   Dependents        7043 non-null   category\n",
        " 5   tenure            7043 non-null   int64   \n",
        " 6   PhoneService      7043 non-null   category\n",
        " 7   MultipleLines     7043 non-null   category\n",
        " 8   InternetService   7043 non-null   category\n",
        " 9   OnlineSecurity    7043 non-null   category\n",
        " 10  OnlineBackup      7043 non-null   category\n",
        " 11  DeviceProtection  7043 non-null   category\n",
        " 12  TechSupport       7043 non-null   category\n",
        " 13  StreamingTV       7043 non-null   category\n",
        " 14  StreamingMovies   7043 non-null   category\n",
        " 15  Contract          7043 non-null   category\n",
        " 16  PaperlessBilling  7043 non-null   category\n",
        " 17  PaymentMethod     7043 non-null   category\n",
        " 18  MonthlyCharges    7043 non-null   float64\n",
        " 19  TotalCharges      7043 non-null   object  \n",
        "\n",
        "Churn                  bool\n",
        "gender               object\n",
        "SeniorCitizen          bool\n",
        "Partner              object\n",
        "Dependents           object\n",
        "tenure                int64\n",
        "PhoneService         object\n",
        "MultipleLines        object\n",
        "InternetService      object\n",
        "OnlineSecurity       object\n",
        "OnlineBackup         object\n",
        "DeviceProtection     object\n",
        "TechSupport          object\n",
        "StreamingTV          object\n",
        "StreamingMovies      object\n",
        "Contract             object\n",
        "PaperlessBilling     object\n",
        "PaymentMethod        object\n",
        "MonthlyCharges      float64\n",
        "TotalCharges        float64\n",
        "Cuentas_diarias     float64"
      ],
      "metadata": {
        "id": "DgFRrfG82a2d"
      }
    },
    {
      "cell_type": "markdown",
      "source": [
        "Por el momento, las columnas se quedarán así ya qeu mas adelante, si decidimos incluirlas para el análisis, se convertirán con alguno de los métodos One-Hot o Label Encoder. Sin embargo se revisan los datos de estas columnas a continuación."
      ],
      "metadata": {
        "id": "lXthK1MK4c8U"
      }
    },
    {
      "cell_type": "code",
      "source": [
        "# Obtener columnas categóricas\n",
        "cat_cols = datos_x2.select_dtypes(include='object').columns\n",
        "\n",
        "# Obtener número total de filas\n",
        "total_filas = datos_x2.shape[0]\n",
        "\n",
        "for col in cat_cols:\n",
        "    print(f\"\\n📂 Columna: {col}\")\n",
        "\n",
        "    # Mostrar valores únicos\n",
        "    uniques = datos_x2[col].unique()\n",
        "    print(\"Valores únicos:\", uniques)\n",
        "    print(\"Cantidad de únicos:\", datos_x2[col].nunique())\n",
        "\n",
        "    # Mostrar frecuencia de cada valor\n",
        "    value_counts = datos_x2[col].value_counts(dropna=False)\n",
        "    print(\"\\n📊 Frecuencia de cada valor:\")\n",
        "    print(value_counts)\n",
        "\n",
        "    # Sumar total de frecuencias\n",
        "    suma_total = value_counts.sum()\n",
        "    print(f\"\\n🧾 Suma total de valores: {suma_total}\")\n",
        "\n",
        "    # Validar coincidencia con número de filas\n",
        "    if suma_total == total_filas:\n",
        "        print(\"✅ La suma de frecuencias coincide con el total de filas.\")\n",
        "    else:\n",
        "        print(\"⚠️ La suma NO coincide con el total de filas. Revisar posibles errores o valores perdidos.\")\n",
        "\n",
        "\n"
      ],
      "metadata": {
        "id": "_0lzScnDcAdd",
        "colab": {
          "base_uri": "https://localhost:8080/"
        },
        "outputId": "260fcbad-ddd8-4bfc-b2f4-cc3784946df4"
      },
      "execution_count": 16,
      "outputs": [
        {
          "output_type": "stream",
          "name": "stdout",
          "text": [
            "\n",
            "📂 Columna: gender\n",
            "Valores únicos: ['Female' 'Male']\n",
            "Cantidad de únicos: 2\n",
            "\n",
            "📊 Frecuencia de cada valor:\n",
            "gender\n",
            "Male      3555\n",
            "Female    3488\n",
            "Name: count, dtype: int64\n",
            "\n",
            "🧾 Suma total de valores: 7043\n",
            "✅ La suma de frecuencias coincide con el total de filas.\n",
            "\n",
            "📂 Columna: Partner\n",
            "Valores únicos: ['Yes' 'No']\n",
            "Cantidad de únicos: 2\n",
            "\n",
            "📊 Frecuencia de cada valor:\n",
            "Partner\n",
            "No     3641\n",
            "Yes    3402\n",
            "Name: count, dtype: int64\n",
            "\n",
            "🧾 Suma total de valores: 7043\n",
            "✅ La suma de frecuencias coincide con el total de filas.\n",
            "\n",
            "📂 Columna: Dependents\n",
            "Valores únicos: ['Yes' 'No']\n",
            "Cantidad de únicos: 2\n",
            "\n",
            "📊 Frecuencia de cada valor:\n",
            "Dependents\n",
            "No     4933\n",
            "Yes    2110\n",
            "Name: count, dtype: int64\n",
            "\n",
            "🧾 Suma total de valores: 7043\n",
            "✅ La suma de frecuencias coincide con el total de filas.\n",
            "\n",
            "📂 Columna: PhoneService\n",
            "Valores únicos: ['Yes' 'No']\n",
            "Cantidad de únicos: 2\n",
            "\n",
            "📊 Frecuencia de cada valor:\n",
            "PhoneService\n",
            "Yes    6361\n",
            "No      682\n",
            "Name: count, dtype: int64\n",
            "\n",
            "🧾 Suma total de valores: 7043\n",
            "✅ La suma de frecuencias coincide con el total de filas.\n",
            "\n",
            "📂 Columna: MultipleLines\n",
            "Valores únicos: ['No' 'Yes' 'No phone service']\n",
            "Cantidad de únicos: 3\n",
            "\n",
            "📊 Frecuencia de cada valor:\n",
            "MultipleLines\n",
            "No                  3390\n",
            "Yes                 2971\n",
            "No phone service     682\n",
            "Name: count, dtype: int64\n",
            "\n",
            "🧾 Suma total de valores: 7043\n",
            "✅ La suma de frecuencias coincide con el total de filas.\n",
            "\n",
            "📂 Columna: InternetService\n",
            "Valores únicos: ['DSL' 'Fiber optic' 'No']\n",
            "Cantidad de únicos: 3\n",
            "\n",
            "📊 Frecuencia de cada valor:\n",
            "InternetService\n",
            "Fiber optic    3096\n",
            "DSL            2421\n",
            "No             1526\n",
            "Name: count, dtype: int64\n",
            "\n",
            "🧾 Suma total de valores: 7043\n",
            "✅ La suma de frecuencias coincide con el total de filas.\n",
            "\n",
            "📂 Columna: OnlineSecurity\n",
            "Valores únicos: ['No' 'Yes' 'No internet service']\n",
            "Cantidad de únicos: 3\n",
            "\n",
            "📊 Frecuencia de cada valor:\n",
            "OnlineSecurity\n",
            "No                     3498\n",
            "Yes                    2019\n",
            "No internet service    1526\n",
            "Name: count, dtype: int64\n",
            "\n",
            "🧾 Suma total de valores: 7043\n",
            "✅ La suma de frecuencias coincide con el total de filas.\n",
            "\n",
            "📂 Columna: OnlineBackup\n",
            "Valores únicos: ['Yes' 'No' 'No internet service']\n",
            "Cantidad de únicos: 3\n",
            "\n",
            "📊 Frecuencia de cada valor:\n",
            "OnlineBackup\n",
            "No                     3088\n",
            "Yes                    2429\n",
            "No internet service    1526\n",
            "Name: count, dtype: int64\n",
            "\n",
            "🧾 Suma total de valores: 7043\n",
            "✅ La suma de frecuencias coincide con el total de filas.\n",
            "\n",
            "📂 Columna: DeviceProtection\n",
            "Valores únicos: ['No' 'Yes' 'No internet service']\n",
            "Cantidad de únicos: 3\n",
            "\n",
            "📊 Frecuencia de cada valor:\n",
            "DeviceProtection\n",
            "No                     3095\n",
            "Yes                    2422\n",
            "No internet service    1526\n",
            "Name: count, dtype: int64\n",
            "\n",
            "🧾 Suma total de valores: 7043\n",
            "✅ La suma de frecuencias coincide con el total de filas.\n",
            "\n",
            "📂 Columna: TechSupport\n",
            "Valores únicos: ['Yes' 'No' 'No internet service']\n",
            "Cantidad de únicos: 3\n",
            "\n",
            "📊 Frecuencia de cada valor:\n",
            "TechSupport\n",
            "No                     3473\n",
            "Yes                    2044\n",
            "No internet service    1526\n",
            "Name: count, dtype: int64\n",
            "\n",
            "🧾 Suma total de valores: 7043\n",
            "✅ La suma de frecuencias coincide con el total de filas.\n",
            "\n",
            "📂 Columna: StreamingTV\n",
            "Valores únicos: ['Yes' 'No' 'No internet service']\n",
            "Cantidad de únicos: 3\n",
            "\n",
            "📊 Frecuencia de cada valor:\n",
            "StreamingTV\n",
            "No                     2810\n",
            "Yes                    2707\n",
            "No internet service    1526\n",
            "Name: count, dtype: int64\n",
            "\n",
            "🧾 Suma total de valores: 7043\n",
            "✅ La suma de frecuencias coincide con el total de filas.\n",
            "\n",
            "📂 Columna: StreamingMovies\n",
            "Valores únicos: ['No' 'Yes' 'No internet service']\n",
            "Cantidad de únicos: 3\n",
            "\n",
            "📊 Frecuencia de cada valor:\n",
            "StreamingMovies\n",
            "No                     2785\n",
            "Yes                    2732\n",
            "No internet service    1526\n",
            "Name: count, dtype: int64\n",
            "\n",
            "🧾 Suma total de valores: 7043\n",
            "✅ La suma de frecuencias coincide con el total de filas.\n",
            "\n",
            "📂 Columna: Contract\n",
            "Valores únicos: ['One year' 'Month-to-month' 'Two year']\n",
            "Cantidad de únicos: 3\n",
            "\n",
            "📊 Frecuencia de cada valor:\n",
            "Contract\n",
            "Month-to-month    3875\n",
            "Two year          1695\n",
            "One year          1473\n",
            "Name: count, dtype: int64\n",
            "\n",
            "🧾 Suma total de valores: 7043\n",
            "✅ La suma de frecuencias coincide con el total de filas.\n",
            "\n",
            "📂 Columna: PaperlessBilling\n",
            "Valores únicos: ['Yes' 'No']\n",
            "Cantidad de únicos: 2\n",
            "\n",
            "📊 Frecuencia de cada valor:\n",
            "PaperlessBilling\n",
            "Yes    4171\n",
            "No     2872\n",
            "Name: count, dtype: int64\n",
            "\n",
            "🧾 Suma total de valores: 7043\n",
            "✅ La suma de frecuencias coincide con el total de filas.\n",
            "\n",
            "📂 Columna: PaymentMethod\n",
            "Valores únicos: ['Mailed check' 'Electronic check' 'Credit card (automatic)'\n",
            " 'Bank transfer (automatic)']\n",
            "Cantidad de únicos: 4\n",
            "\n",
            "📊 Frecuencia de cada valor:\n",
            "PaymentMethod\n",
            "Electronic check             2365\n",
            "Mailed check                 1612\n",
            "Bank transfer (automatic)    1544\n",
            "Credit card (automatic)      1522\n",
            "Name: count, dtype: int64\n",
            "\n",
            "🧾 Suma total de valores: 7043\n",
            "✅ La suma de frecuencias coincide con el total de filas.\n"
          ]
        }
      ]
    },
    {
      "cell_type": "code",
      "source": [
        "print(type(datos_x2))"
      ],
      "metadata": {
        "colab": {
          "base_uri": "https://localhost:8080/"
        },
        "id": "8xxADH0NEEA2",
        "outputId": "f429fa5b-5564-42f5-cfa9-9694a66259e0"
      },
      "execution_count": 17,
      "outputs": [
        {
          "output_type": "stream",
          "name": "stdout",
          "text": [
            "<class 'pandas.core.frame.DataFrame'>\n"
          ]
        }
      ]
    },
    {
      "cell_type": "code",
      "source": [
        "print(\"Shape:\", datos_x2.shape)\n",
        "print(\"¿Está vacío?:\", datos_x2.empty)"
      ],
      "metadata": {
        "colab": {
          "base_uri": "https://localhost:8080/"
        },
        "id": "j_xW_6G9Evmq",
        "outputId": "d7fd8a60-5847-456d-a4a4-e20f9235051d"
      },
      "execution_count": 18,
      "outputs": [
        {
          "output_type": "stream",
          "name": "stdout",
          "text": [
            "Shape: (7043, 21)\n",
            "¿Está vacío?: False\n"
          ]
        }
      ]
    },
    {
      "cell_type": "code",
      "source": [
        "# Transformación de tipos y renombrado del DataFrame\n",
        "\n",
        "# 1. Convertir columnas object a category en datos_x2\n",
        "object_columns = datos_x2.select_dtypes(include=['object']).columns\n",
        "for col in object_columns:\n",
        "    datos_x2[col] = datos_x2[col].astype('category')\n",
        "\n",
        "# 2. Renombrar el DataFrame a 'datos'\n",
        "datos = datos_x2.copy()\n",
        "\n",
        "# Verificación\n",
        "print(\"\\nTipos de datos después de la conversión:\")\n",
        "print(datos.dtypes)\n",
        "print(\"\\nNombre del DataFrame:\", [name for name in globals() if globals()[name] is datos])\n",
        "\n",
        "# 3. Guardar el DataFrame procesado\n",
        "output_filename = 'datos.csv'\n",
        "datos.to_csv(output_filename, index=False)\n",
        "print(f\"\\nDataFrame guardado como '{output_filename}'\")\n",
        "\n"
      ],
      "metadata": {
        "colab": {
          "base_uri": "https://localhost:8080/"
        },
        "id": "rdr97YOM3f8s",
        "outputId": "3aa97d77-6733-44ba-c448-66bffa2bdc76"
      },
      "execution_count": 20,
      "outputs": [
        {
          "output_type": "stream",
          "name": "stdout",
          "text": [
            "\n",
            "Tipos de datos después de la conversión:\n",
            "Churn                   bool\n",
            "gender              category\n",
            "SeniorCitizen           bool\n",
            "Partner             category\n",
            "Dependents          category\n",
            "tenure                 int64\n",
            "PhoneService        category\n",
            "MultipleLines       category\n",
            "InternetService     category\n",
            "OnlineSecurity      category\n",
            "OnlineBackup        category\n",
            "DeviceProtection    category\n",
            "TechSupport         category\n",
            "StreamingTV         category\n",
            "StreamingMovies     category\n",
            "Contract            category\n",
            "PaperlessBilling    category\n",
            "PaymentMethod       category\n",
            "MonthlyCharges       float64\n",
            "TotalCharges         float64\n",
            "Cuentas_diarias      float64\n",
            "dtype: object\n",
            "\n",
            "Nombre del DataFrame: ['datos']\n",
            "\n",
            "DataFrame guardado como 'datos.csv'\n"
          ]
        }
      ]
    },
    {
      "cell_type": "markdown",
      "source": [
        "###  1.3 Realizar un análisis exploratorio básico (distribuciones, outliers, estadísticas descriptivas)."
      ],
      "metadata": {
        "id": "53ViS3Pj7vVH"
      }
    },
    {
      "cell_type": "code",
      "source": [
        "# Estadísticas descriptivas para variables numéricas\n",
        "print(datos[['tenure', 'MonthlyCharges', 'TotalCharges', 'Cuentas_diarias']].describe())\n",
        "\n",
        "# Estadísticas para variables categóricas\n",
        "print(\"\\nDistribución de categorías:\")\n",
        "for col in datos.select_dtypes(include=['category', 'bool']).columns:\n",
        "    print(f\"\\n{col}:\")\n",
        "    print(datos[col].value_counts(normalize=True))\n",
        ""
      ],
      "metadata": {
        "colab": {
          "base_uri": "https://localhost:8080/"
        },
        "id": "yLbR2fDE71cw",
        "outputId": "5cd10144-5f46-43d5-a77e-359f9000a1b7"
      },
      "execution_count": 23,
      "outputs": [
        {
          "output_type": "stream",
          "name": "stdout",
          "text": [
            "            tenure  MonthlyCharges  TotalCharges  Cuentas_diarias\n",
            "count  7043.000000     7043.000000   7043.000000      7043.000000\n",
            "mean     32.371149       64.761692   2279.734304         2.158723\n",
            "std      24.559481       30.090047   2266.794470         1.003002\n",
            "min       0.000000       18.250000      0.000000         0.608333\n",
            "25%       9.000000       35.500000    398.550000         1.183333\n",
            "50%      29.000000       70.350000   1394.550000         2.345000\n",
            "75%      55.000000       89.850000   3786.600000         2.995000\n",
            "max      72.000000      118.750000   8684.800000         3.958333\n",
            "\n",
            "Distribución de categorías:\n",
            "\n",
            "Churn:\n",
            "Churn\n",
            "False    0.73463\n",
            "True     0.26537\n",
            "Name: proportion, dtype: float64\n",
            "\n",
            "gender:\n",
            "gender\n",
            "Male      0.504756\n",
            "Female    0.495244\n",
            "Name: proportion, dtype: float64\n",
            "\n",
            "SeniorCitizen:\n",
            "SeniorCitizen\n",
            "False    0.837853\n",
            "True     0.162147\n",
            "Name: proportion, dtype: float64\n",
            "\n",
            "Partner:\n",
            "Partner\n",
            "No     0.516967\n",
            "Yes    0.483033\n",
            "Name: proportion, dtype: float64\n",
            "\n",
            "Dependents:\n",
            "Dependents\n",
            "No     0.700412\n",
            "Yes    0.299588\n",
            "Name: proportion, dtype: float64\n",
            "\n",
            "PhoneService:\n",
            "PhoneService\n",
            "Yes    0.903166\n",
            "No     0.096834\n",
            "Name: proportion, dtype: float64\n",
            "\n",
            "MultipleLines:\n",
            "MultipleLines\n",
            "No                  0.481329\n",
            "Yes                 0.421837\n",
            "No phone service    0.096834\n",
            "Name: proportion, dtype: float64\n",
            "\n",
            "InternetService:\n",
            "InternetService\n",
            "Fiber optic    0.439585\n",
            "DSL            0.343746\n",
            "No             0.216669\n",
            "Name: proportion, dtype: float64\n",
            "\n",
            "OnlineSecurity:\n",
            "OnlineSecurity\n",
            "No                     0.496663\n",
            "Yes                    0.286668\n",
            "No internet service    0.216669\n",
            "Name: proportion, dtype: float64\n",
            "\n",
            "OnlineBackup:\n",
            "OnlineBackup\n",
            "No                     0.438450\n",
            "Yes                    0.344881\n",
            "No internet service    0.216669\n",
            "Name: proportion, dtype: float64\n",
            "\n",
            "DeviceProtection:\n",
            "DeviceProtection\n",
            "No                     0.439443\n",
            "Yes                    0.343888\n",
            "No internet service    0.216669\n",
            "Name: proportion, dtype: float64\n",
            "\n",
            "TechSupport:\n",
            "TechSupport\n",
            "No                     0.493114\n",
            "Yes                    0.290217\n",
            "No internet service    0.216669\n",
            "Name: proportion, dtype: float64\n",
            "\n",
            "StreamingTV:\n",
            "StreamingTV\n",
            "No                     0.398978\n",
            "Yes                    0.384353\n",
            "No internet service    0.216669\n",
            "Name: proportion, dtype: float64\n",
            "\n",
            "StreamingMovies:\n",
            "StreamingMovies\n",
            "No                     0.395428\n",
            "Yes                    0.387903\n",
            "No internet service    0.216669\n",
            "Name: proportion, dtype: float64\n",
            "\n",
            "Contract:\n",
            "Contract\n",
            "Month-to-month    0.550192\n",
            "Two year          0.240664\n",
            "One year          0.209144\n",
            "Name: proportion, dtype: float64\n",
            "\n",
            "PaperlessBilling:\n",
            "PaperlessBilling\n",
            "Yes    0.592219\n",
            "No     0.407781\n",
            "Name: proportion, dtype: float64\n",
            "\n",
            "PaymentMethod:\n",
            "PaymentMethod\n",
            "Electronic check             0.335794\n",
            "Mailed check                 0.228880\n",
            "Bank transfer (automatic)    0.219225\n",
            "Credit card (automatic)      0.216101\n",
            "Name: proportion, dtype: float64\n"
          ]
        }
      ]
    },
    {
      "cell_type": "code",
      "source": [
        "import matplotlib.pyplot as plt\n",
        "import seaborn as sns\n",
        "\n",
        "plt.figure(figsize=(6,4))\n",
        "sns.countplot(x='Churn', data=datos)\n",
        "plt.title('Distribución de Churn')\n",
        "plt.show()"
      ],
      "metadata": {
        "id": "12oSQbcqABon",
        "outputId": "0d9a3434-fe47-40a1-b2fd-60e2a23dc1f0",
        "colab": {
          "base_uri": "https://localhost:8080/",
          "height": 410
        }
      },
      "execution_count": 24,
      "outputs": [
        {
          "output_type": "display_data",
          "data": {
            "text/plain": [
              "<Figure size 600x400 with 1 Axes>"
            ],
            "image/png": "[encoded data removed]"
          },
          "metadata": {}
        }
      ]
    },
    {
      "cell_type": "markdown",
      "source": [
        "# PRESENTACIÓN"
      ],
      "metadata": {
        "id": "87TNy0yCf_hk"
      }
    },
    {
      "cell_type": "markdown",
      "source": [
        "## ESTRUCTURA DEL PROYECTO"
      ],
      "metadata": {
        "id": "QkrXwDmCyptX"
      }
    },
    {
      "cell_type": "markdown",
      "source": [
        "1. Carga y Exploración Inicial de Datos\n",
        "\n",
        "    1.1 Importar el dataset desde el repositorio.\n",
        "\n",
        "    1.2 Verificar dimensiones, tipos de datos y valores nulos.\n",
        "\n",
        "    1.3 Realizar un análisis exploratorio básico (distribuciones, outliers, estadísticas descriptivas).\n",
        "\n",
        "2. Preprocesamiento\n",
        "\n",
        "    Tratamiento de valores nulos o inconsistentes.\n",
        "\n",
        "    Codificación de variables categóricas (One-Hot, Label Encoding).\n",
        "\n",
        "    Normalización o estandarización de variables numéricas.\n",
        "\n",
        "    Verificación de balance de clases (¿hay desbalance entre clientes que cancelan y los que no?).\n",
        "\n",
        "3. Análisis de Correlación y Selección de Variables\n",
        "\n",
        "    Matriz de correlación para variables numéricas.\n",
        "\n",
        "    Análisis de importancia con métodos como SelectKBest, RFE, o árboles de decisión.\n",
        "\n",
        "    Eliminación de variables irrelevantes o redundantes.\n",
        "\n",
        "4. Entrenamiento de Modelos\n",
        "\n",
        "    Separación en conjunto de entrenamiento y prueba (train_test_split).\n",
        "\n",
        "    Entrenar al menos dos modelos de clasificación (por ejemplo: Random Forest, XGBoost, Logistic Regression).\n",
        "\n",
        "    Ajuste de hiperparámetros si es necesario (GridSearchCV o RandomizedSearchCV).\n",
        "\n",
        "5. Evaluación de Modelos\n",
        "\n",
        "    Métricas clave: Accuracy, Precision, Recall, F1-Score, ROC-AUC.\n",
        "\n",
        "    Matriz de confusión para visualizar errores.\n",
        "\n",
        "    Comparación entre modelos para elegir el más robusto.\n",
        "\n",
        "6. Interpretación y Conclusiones Estratégicas\n",
        "\n",
        "    Análisis de importancia de variables (feature importance).\n",
        "\n",
        "    Identificación de los factores más influyentes en la cancelación.\n",
        "\n",
        "    Recomendaciones estratégicas para la empresa basadas en los hallazgos."
      ],
      "metadata": {
        "id": "bN_ttqyxyvF3"
      }
    }
  ]
}