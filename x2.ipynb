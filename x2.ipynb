{
  "nbformat": 4,
  "nbformat_minor": 0,
  "metadata": {
    "colab": {
      "provenance": [],
      "toc_visible": true,
      "authorship_tag": "ABX9TyOzQvtYe2oJ1f7hFC8SOw+u",
      "include_colab_link": true
    },
    "kernelspec": {
      "name": "python3",
      "display_name": "Python 3"
    },
    "language_info": {
      "name": "python"
    }
  },
  "cells": [
    {
      "cell_type": "markdown",
      "metadata": {
        "id": "view-in-github",
        "colab_type": "text"
      },
      "source": [
        "<a href=\"https://colab.research.google.com/github/mauloredo/Challenge_Telecom_X2/blob/main/x2.ipynb\" target=\"_parent\"><img src=\"https://colab.research.google.com/assets/colab-badge.svg\" alt=\"Open In Colab\"/></a>"
      ]
    },
    {
      "cell_type": "markdown",
      "source": [
        "# PRODUCCIÓN"
      ],
      "metadata": {
        "id": "96duXZO-f3K8"
      }
    },
    {
      "cell_type": "markdown",
      "source": [
        "## CONTROL DE VERSIONES DEL DATAFRAME"
      ],
      "metadata": {
        "id": "8-FWNZIe0HkZ"
      }
    },
    {
      "cell_type": "markdown",
      "source": [
        "**datos_x2**  Dataframe importado del projecto anterior\n",
        "\n",
        "**datos** Dataframe con columnas object a category, como estaban originalmente\n",
        "\n",
        "**datos_v1** Dataframe sin las columnas TotalCharges, Cuentas_Diarias y PhoneServices"
      ],
      "metadata": {
        "id": "-vhG1u-90fev"
      }
    },
    {
      "cell_type": "markdown",
      "source": [
        "## CONTROL DE OBJETOS"
      ],
      "metadata": {
        "id": "4UR3GJKY0UiW"
      }
    },
    {
      "cell_type": "markdown",
      "source": [
        "FASE O\n",
        "\n",
        "Tipo\t              Nombre del archivo\n",
        "\n",
        "Histograma\t        hist_tenure_churn.png\n",
        "\n",
        "Histograma\t        hist_monthlycharges_churn.png\n",
        "\n",
        "Histograma\t        hist_totalcharges_churn.png\n",
        "\n",
        "Boxplot\t            boxplot_tenure_churn.png\n",
        "\n",
        "Boxplot\t            boxplot_monthlycharges_churn.png\n",
        "\n",
        "Boxplot\t            boxplot_totalcharges_churn.png\n",
        "\n",
        "gender\t            catplot_gender_churn.png\n",
        "\n",
        "SeniorCitizen\t      catplot_seniorcitizen_churn.png\n",
        "\n",
        "Partner\t            catplot_partner_churn.png\n",
        "\n",
        "Dependents\t        catplot_dependents_churn.png\n",
        "\n",
        "Contract\t          catplot_contract_churn.png\n",
        "\n",
        "PaymentMethod\t      catplot_paymentmethod_churn.png\n",
        "\n",
        "InternetService\t    catplot_internetservice_churn.png\n",
        "\n",
        "PhoneService\t      catplot_phoneservice_churn.png\n",
        "\n",
        "MultipleLines\tcatplot_multiplelines_churn.png\n",
        "\n",
        "OnlineSecurity\tcatplot_onlinesecurity_churn.png\n",
        "\n",
        "OnlineBackup\tcatplot_onlinebackup_churn.png\n",
        "\n",
        "\n",
        "DeviceProtection\tcatplot_deviceprotection_churn.png\n",
        "\n",
        "TechSupport\tcatplot_techsupport_churn.png\n",
        "\n",
        "StreamingTV\tcatplot_streamingtv_churn.png\n",
        "\n",
        "StreamingMovies\tcatplot_streamingmovies_churn.png\n",
        "\n",
        "PaperlessBilling\tcatplot_paperlessbilling_churn.png"
      ],
      "metadata": {
        "id": "PFX_Vr71otZw"
      }
    },
    {
      "cell_type": "markdown",
      "source": [
        "## DESCRIPCIÓN DEL DESAFÍO"
      ],
      "metadata": {
        "id": "O8FIUBIjcOQm"
      }
    },
    {
      "cell_type": "markdown",
      "source": [
        "\n",
        "\n",
        "Telecom X – Parte 2: Predicción de Cancelación (Churn)\n",
        "\n",
        "📣 Historia del Desafío\n",
        "\n",
        "¡Felicidades! 🎉 Has sido promovido después de tu excelente desempeño en el análisis exploratorio de la cancelación de clientes en Telecom X. Tu dedicación, claridad al comunicar los datos y visión estratégica marcaron la diferencia.\n",
        "\n",
        "Ahora, ¡has sido invitado oficialmente a formar parte del equipo de Machine Learning de la empresa!\n",
        "\n",
        "🎯 Misión\n",
        "\n",
        "Tu nueva misión es desarrollar modelos predictivos capaces de prever qué clientes tienen mayor probabilidad de cancelar sus servicios.\n",
        "\n",
        "La empresa quiere anticiparse al problema de la cancelación, y te corresponde a ti construir un pipeline robusto para esta etapa inicial de modelado.\n",
        "\n",
        "🧠 Objetivos del Desafío\n",
        "\n",
        "    Preparar los datos para el modelado (tratamiento, codificación, normalización).\n",
        "\n",
        "    Realizar análisis de correlación y selección de variables.\n",
        "\n",
        "    Entrenar dos o más modelos de clasificación.\n",
        "\n",
        "    Evaluar el rendimiento de los modelos con métricas.\n",
        "\n",
        "    Interpretar los resultados, incluyendo la importancia de las variables.\n",
        "\n",
        "    Crear una conclusión estratégica señalando los principales factores que influyen en la cancelación.\n",
        "\n",
        "🧰 Lo que vas a practicar\n",
        "\n",
        "✅ Preprocesamiento de datos para Machine Learning\n",
        "✅ Construcción y evaluación de modelos predictivos\n",
        "✅ Interpretación de resultados y entrega de insights\n",
        "✅ Comunicación técnica con enfoque estratégico\n",
        "\n",
        "🚀 Ahora eres: Analista Junior de Machine Learning\n",
        "\n",
        "Telecom X confía en tu entrega para dar los próximos pasos hacia una solución de inteligencia predictiva eficaz. ¡Buena suerte!\n",
        "Comentarios y Actividad"
      ],
      "metadata": {
        "id": "Uh8IXd4UcEKc"
      }
    },
    {
      "cell_type": "markdown",
      "source": [
        "## 1. CARGA Y EXPLORACIÓN INICIAL DE DATOS"
      ],
      "metadata": {
        "id": "OpKr_G99gKKY"
      }
    },
    {
      "cell_type": "markdown",
      "source": [
        "### Importar el dataset desde el repositorio."
      ],
      "metadata": {
        "id": "UosVfSjuze3e"
      }
    },
    {
      "cell_type": "code",
      "source": [
        "import requests\n",
        "from io import BytesIO\n",
        "import pandas as pd\n",
        "\n",
        "raw_url = 'https://raw.githubusercontent.com/mauloredo/Challenge_Telecom_X2/refs/heads/main/data_x2.csv'\n",
        "\n",
        "print(f\"Attempting to download data from: {raw_url}\")\n",
        "\n",
        "try:\n",
        "    response = requests.get(raw_url)\n",
        "    response.raise_for_status()\n",
        "\n",
        "    datos_x2 = pd.read_csv(BytesIO(response.content))\n",
        "\n",
        "    print(\"File downloaded and loaded successfully!\")\n",
        "    print(\"DataFrame shape:\", datos_x2.shape)\n",
        "    print(\"\\nDataFrame head:\")\n",
        "    print(datos_x2.head())\n",
        "\n",
        "except requests.exceptions.RequestException as e:\n",
        "    print(f\"Error downloading the file: {e}\")\n",
        "    print(\"Please ensure the raw URL is correct and the file exists in the repository.\")"
      ],
      "metadata": {
        "colab": {
          "base_uri": "https://localhost:8080/"
        },
        "id": "aV8DwSQcgSOL",
        "outputId": "2bd3abf4-c4a7-48a6-de21-1d1934f8d00e"
      },
      "execution_count": null,
      "outputs": [
        {
          "output_type": "stream",
          "name": "stdout",
          "text": [
            "Attempting to download data from: https://raw.githubusercontent.com/mauloredo/Challenge_Telecom_X2/refs/heads/main/data_x2.csv\n",
            "File downloaded and loaded successfully!\n",
            "DataFrame shape: (7043, 21)\n",
            "\n",
            "DataFrame head:\n",
            "   Churn  gender  SeniorCitizen Partner Dependents  tenure PhoneService  \\\n",
            "0  False  Female          False     Yes        Yes       9          Yes   \n",
            "1  False    Male          False      No         No       9          Yes   \n",
            "2   True    Male          False      No         No       4          Yes   \n",
            "3   True    Male           True     Yes         No      13          Yes   \n",
            "4   True  Female           True     Yes         No       3          Yes   \n",
            "\n",
            "  MultipleLines InternetService OnlineSecurity  ... DeviceProtection  \\\n",
            "0            No             DSL             No  ...               No   \n",
            "1           Yes             DSL             No  ...               No   \n",
            "2            No     Fiber optic             No  ...              Yes   \n",
            "3            No     Fiber optic             No  ...              Yes   \n",
            "4            No     Fiber optic             No  ...               No   \n",
            "\n",
            "  TechSupport StreamingTV StreamingMovies        Contract PaperlessBilling  \\\n",
            "0         Yes         Yes              No        One year              Yes   \n",
            "1          No          No             Yes  Month-to-month               No   \n",
            "2          No          No              No  Month-to-month              Yes   \n",
            "3          No         Yes             Yes  Month-to-month              Yes   \n",
            "4         Yes         Yes              No  Month-to-month              Yes   \n",
            "\n",
            "      PaymentMethod MonthlyCharges  TotalCharges  Cuentas_diarias  \n",
            "0      Mailed check           65.6        593.30         2.186667  \n",
            "1      Mailed check           59.9        542.40         1.996667  \n",
            "2  Electronic check           73.9        280.85         2.463333  \n",
            "3  Electronic check           98.0       1237.85         3.266667  \n",
            "4      Mailed check           83.9        267.40         2.796667  \n",
            "\n",
            "[5 rows x 21 columns]\n"
          ]
        }
      ]
    },
    {
      "cell_type": "markdown",
      "source": [
        "### Verificar dimensiones, tipos de datos y valores nulos.\n"
      ],
      "metadata": {
        "id": "fs065Woxz2C9"
      }
    },
    {
      "cell_type": "markdown",
      "source": [],
      "metadata": {
        "id": "Rkb6S3Qz2WXR"
      }
    },
    {
      "cell_type": "code",
      "source": [
        "# Verificar dimensiones del DataFrame\n",
        "print(f\"Filas: {datos_x2.shape[0]} | Columnas: {datos_x2.shape[1]}\")\n",
        "\n",
        "# Mostrar nombres de columnas\n",
        "print(\"\\n📋 Lista de columnas:\")\n",
        "print(datos_x2.columns.tolist())\n",
        "\n",
        "# Tipos de datos por columna\n",
        "print(\"\\n🔧 Tipos de datos:\")\n",
        "print(datos_x2.dtypes)\n",
        "\n",
        "# Recuento de valores nulos por columna\n",
        "print(\"\\n🧯 Valores nulos por columna:\")\n",
        "print(datos_x2.isnull().sum())\n",
        "\n",
        "# Verificar valores únicos por columna (ideal para detectar categóricas)\n",
        "print(\"\\n🔎 Valores únicos por columna:\")\n",
        "print(datos_x2.nunique())\n",
        "\n",
        "# Estadísticas descriptivas de columnas numéricas\n",
        "print(\"\\n📊 Estadísticas numéricas:\")\n",
        "print(datos_x2.describe())\n",
        "\n",
        "# Estadísticas para columnas categóricas (si existen)\n",
        "print(\"\\n📊 Estadísticas categóricas:\")\n",
        "print(datos_x2.describe(include='object'))\n",
        "\n"
      ],
      "metadata": {
        "colab": {
          "base_uri": "https://localhost:8080/"
        },
        "id": "pBsLBXzCz8Zm",
        "outputId": "fe213b16-cd18-4849-f733-5c1458293dfb"
      },
      "execution_count": null,
      "outputs": [
        {
          "output_type": "stream",
          "name": "stdout",
          "text": [
            "Filas: 7043 | Columnas: 21\n",
            "\n",
            "📋 Lista de columnas:\n",
            "['Churn', 'gender', 'SeniorCitizen', 'Partner', 'Dependents', 'tenure', 'PhoneService', 'MultipleLines', 'InternetService', 'OnlineSecurity', 'OnlineBackup', 'DeviceProtection', 'TechSupport', 'StreamingTV', 'StreamingMovies', 'Contract', 'PaperlessBilling', 'PaymentMethod', 'MonthlyCharges', 'TotalCharges', 'Cuentas_diarias']\n",
            "\n",
            "🔧 Tipos de datos:\n",
            "Churn                  bool\n",
            "gender               object\n",
            "SeniorCitizen          bool\n",
            "Partner              object\n",
            "Dependents           object\n",
            "tenure                int64\n",
            "PhoneService         object\n",
            "MultipleLines        object\n",
            "InternetService      object\n",
            "OnlineSecurity       object\n",
            "OnlineBackup         object\n",
            "DeviceProtection     object\n",
            "TechSupport          object\n",
            "StreamingTV          object\n",
            "StreamingMovies      object\n",
            "Contract             object\n",
            "PaperlessBilling     object\n",
            "PaymentMethod        object\n",
            "MonthlyCharges      float64\n",
            "TotalCharges        float64\n",
            "Cuentas_diarias     float64\n",
            "dtype: object\n",
            "\n",
            "🧯 Valores nulos por columna:\n",
            "Churn               0\n",
            "gender              0\n",
            "SeniorCitizen       0\n",
            "Partner             0\n",
            "Dependents          0\n",
            "tenure              0\n",
            "PhoneService        0\n",
            "MultipleLines       0\n",
            "InternetService     0\n",
            "OnlineSecurity      0\n",
            "OnlineBackup        0\n",
            "DeviceProtection    0\n",
            "TechSupport         0\n",
            "StreamingTV         0\n",
            "StreamingMovies     0\n",
            "Contract            0\n",
            "PaperlessBilling    0\n",
            "PaymentMethod       0\n",
            "MonthlyCharges      0\n",
            "TotalCharges        0\n",
            "Cuentas_diarias     0\n",
            "dtype: int64\n",
            "\n",
            "🔎 Valores únicos por columna:\n",
            "Churn                  2\n",
            "gender                 2\n",
            "SeniorCitizen          2\n",
            "Partner                2\n",
            "Dependents             2\n",
            "tenure                73\n",
            "PhoneService           2\n",
            "MultipleLines          3\n",
            "InternetService        3\n",
            "OnlineSecurity         3\n",
            "OnlineBackup           3\n",
            "DeviceProtection       3\n",
            "TechSupport            3\n",
            "StreamingTV            3\n",
            "StreamingMovies        3\n",
            "Contract               3\n",
            "PaperlessBilling       2\n",
            "PaymentMethod          4\n",
            "MonthlyCharges      1585\n",
            "TotalCharges        6531\n",
            "Cuentas_diarias     1585\n",
            "dtype: int64\n",
            "\n",
            "📊 Estadísticas numéricas:\n",
            "            tenure  MonthlyCharges  TotalCharges  Cuentas_diarias\n",
            "count  7043.000000     7043.000000   7043.000000      7043.000000\n",
            "mean     32.371149       64.761692   2279.734304         2.158723\n",
            "std      24.559481       30.090047   2266.794470         1.003002\n",
            "min       0.000000       18.250000      0.000000         0.608333\n",
            "25%       9.000000       35.500000    398.550000         1.183333\n",
            "50%      29.000000       70.350000   1394.550000         2.345000\n",
            "75%      55.000000       89.850000   3786.600000         2.995000\n",
            "max      72.000000      118.750000   8684.800000         3.958333\n",
            "\n",
            "📊 Estadísticas categóricas:\n",
            "       gender Partner Dependents PhoneService MultipleLines InternetService  \\\n",
            "count    7043    7043       7043         7043          7043            7043   \n",
            "unique      2       2          2            2             3               3   \n",
            "top      Male      No         No          Yes            No     Fiber optic   \n",
            "freq     3555    3641       4933         6361          3390            3096   \n",
            "\n",
            "       OnlineSecurity OnlineBackup DeviceProtection TechSupport StreamingTV  \\\n",
            "count            7043         7043             7043        7043        7043   \n",
            "unique              3            3                3           3           3   \n",
            "top                No           No               No          No          No   \n",
            "freq             3498         3088             3095        3473        2810   \n",
            "\n",
            "       StreamingMovies        Contract PaperlessBilling     PaymentMethod  \n",
            "count             7043            7043             7043              7043  \n",
            "unique               3               3                2                 4  \n",
            "top                 No  Month-to-month              Yes  Electronic check  \n",
            "freq              2785            3875             4171              2365  \n"
          ]
        }
      ]
    },
    {
      "cell_type": "markdown",
      "source": [
        "Después del análisis exploratiorio se encuentra que los tipos de variables del dataframe difieren con el archivo original, Puede ser que en la importación\n",
        "\n",
        "Data columns (total 20 columns):\n",
        " ind   Column            Non-Null Count  Dtype   \n",
        "---  ------            --------------  -----   \n",
        " 0   Churn             7043 non-null   bool    \n",
        " 1   gender            7043 non-null   category\n",
        " 2   SeniorCitizen     7043 non-null   bool    \n",
        " 3   Partner           7043 non-null   category\n",
        " 4   Dependents        7043 non-null   category\n",
        " 5   tenure            7043 non-null   int64   \n",
        " 6   PhoneService      7043 non-null   category\n",
        " 7   MultipleLines     7043 non-null   category\n",
        " 8   InternetService   7043 non-null   category\n",
        " 9   OnlineSecurity    7043 non-null   category\n",
        " 10  OnlineBackup      7043 non-null   category\n",
        " 11  DeviceProtection  7043 non-null   category\n",
        " 12  TechSupport       7043 non-null   category\n",
        " 13  StreamingTV       7043 non-null   category\n",
        " 14  StreamingMovies   7043 non-null   category\n",
        " 15  Contract          7043 non-null   category\n",
        " 16  PaperlessBilling  7043 non-null   category\n",
        " 17  PaymentMethod     7043 non-null   category\n",
        " 18  MonthlyCharges    7043 non-null   float64\n",
        " 19  TotalCharges      7043 non-null   object  \n",
        "\n",
        "Churn                  bool\n",
        "gender               object\n",
        "SeniorCitizen          bool\n",
        "Partner              object\n",
        "Dependents           object\n",
        "tenure                int64\n",
        "PhoneService         object\n",
        "MultipleLines        object\n",
        "InternetService      object\n",
        "OnlineSecurity       object\n",
        "OnlineBackup         object\n",
        "DeviceProtection     object\n",
        "TechSupport          object\n",
        "StreamingTV          object\n",
        "StreamingMovies      object\n",
        "Contract             object\n",
        "PaperlessBilling     object\n",
        "PaymentMethod        object\n",
        "MonthlyCharges      float64\n",
        "TotalCharges        float64\n",
        "Cuentas_diarias     float64"
      ],
      "metadata": {
        "id": "DgFRrfG82a2d"
      }
    },
    {
      "cell_type": "markdown",
      "source": [
        "Por el momento, las columnas se quedarán así ya qeu mas adelante, si decidimos incluirlas para el análisis, se convertirán con alguno de los métodos One-Hot o Label Encoder. Sin embargo se revisan los datos de estas columnas a continuación."
      ],
      "metadata": {
        "id": "lXthK1MK4c8U"
      }
    },
    {
      "cell_type": "code",
      "source": [
        "# Obtener columnas categóricas\n",
        "cat_cols = datos_x2.select_dtypes(include='object').columns\n",
        "\n",
        "# Obtener número total de filas\n",
        "total_filas = datos_x2.shape[0]\n",
        "\n",
        "for col in cat_cols:\n",
        "    print(f\"\\n📂 Columna: {col}\")\n",
        "\n",
        "    # Mostrar valores únicos\n",
        "    uniques = datos_x2[col].unique()\n",
        "    print(\"Valores únicos:\", uniques)\n",
        "    print(\"Cantidad de únicos:\", datos_x2[col].nunique())\n",
        "\n",
        "    # Mostrar frecuencia de cada valor\n",
        "    value_counts = datos_x2[col].value_counts(dropna=False)\n",
        "    print(\"\\n📊 Frecuencia de cada valor:\")\n",
        "    print(value_counts)\n",
        "\n",
        "    # Sumar total de frecuencias\n",
        "    suma_total = value_counts.sum()\n",
        "    print(f\"\\n🧾 Suma total de valores: {suma_total}\")\n",
        "\n",
        "    # Validar coincidencia con número de filas\n",
        "    if suma_total == total_filas:\n",
        "        print(\"✅ La suma de frecuencias coincide con el total de filas.\")\n",
        "    else:\n",
        "        print(\"⚠️ La suma NO coincide con el total de filas. Revisar posibles errores o valores perdidos.\")\n",
        "\n",
        "\n"
      ],
      "metadata": {
        "id": "_0lzScnDcAdd",
        "colab": {
          "base_uri": "https://localhost:8080/"
        },
        "outputId": "835d9b7c-d309-4c9f-cda2-c9f9b585e637"
      },
      "execution_count": null,
      "outputs": [
        {
          "output_type": "stream",
          "name": "stdout",
          "text": [
            "\n",
            "📂 Columna: gender\n",
            "Valores únicos: ['Female' 'Male']\n",
            "Cantidad de únicos: 2\n",
            "\n",
            "📊 Frecuencia de cada valor:\n",
            "gender\n",
            "Male      3555\n",
            "Female    3488\n",
            "Name: count, dtype: int64\n",
            "\n",
            "🧾 Suma total de valores: 7043\n",
            "✅ La suma de frecuencias coincide con el total de filas.\n",
            "\n",
            "📂 Columna: Partner\n",
            "Valores únicos: ['Yes' 'No']\n",
            "Cantidad de únicos: 2\n",
            "\n",
            "📊 Frecuencia de cada valor:\n",
            "Partner\n",
            "No     3641\n",
            "Yes    3402\n",
            "Name: count, dtype: int64\n",
            "\n",
            "🧾 Suma total de valores: 7043\n",
            "✅ La suma de frecuencias coincide con el total de filas.\n",
            "\n",
            "📂 Columna: Dependents\n",
            "Valores únicos: ['Yes' 'No']\n",
            "Cantidad de únicos: 2\n",
            "\n",
            "📊 Frecuencia de cada valor:\n",
            "Dependents\n",
            "No     4933\n",
            "Yes    2110\n",
            "Name: count, dtype: int64\n",
            "\n",
            "🧾 Suma total de valores: 7043\n",
            "✅ La suma de frecuencias coincide con el total de filas.\n",
            "\n",
            "📂 Columna: PhoneService\n",
            "Valores únicos: ['Yes' 'No']\n",
            "Cantidad de únicos: 2\n",
            "\n",
            "📊 Frecuencia de cada valor:\n",
            "PhoneService\n",
            "Yes    6361\n",
            "No      682\n",
            "Name: count, dtype: int64\n",
            "\n",
            "🧾 Suma total de valores: 7043\n",
            "✅ La suma de frecuencias coincide con el total de filas.\n",
            "\n",
            "📂 Columna: MultipleLines\n",
            "Valores únicos: ['No' 'Yes' 'No phone service']\n",
            "Cantidad de únicos: 3\n",
            "\n",
            "📊 Frecuencia de cada valor:\n",
            "MultipleLines\n",
            "No                  3390\n",
            "Yes                 2971\n",
            "No phone service     682\n",
            "Name: count, dtype: int64\n",
            "\n",
            "🧾 Suma total de valores: 7043\n",
            "✅ La suma de frecuencias coincide con el total de filas.\n",
            "\n",
            "📂 Columna: InternetService\n",
            "Valores únicos: ['DSL' 'Fiber optic' 'No']\n",
            "Cantidad de únicos: 3\n",
            "\n",
            "📊 Frecuencia de cada valor:\n",
            "InternetService\n",
            "Fiber optic    3096\n",
            "DSL            2421\n",
            "No             1526\n",
            "Name: count, dtype: int64\n",
            "\n",
            "🧾 Suma total de valores: 7043\n",
            "✅ La suma de frecuencias coincide con el total de filas.\n",
            "\n",
            "📂 Columna: OnlineSecurity\n",
            "Valores únicos: ['No' 'Yes' 'No internet service']\n",
            "Cantidad de únicos: 3\n",
            "\n",
            "📊 Frecuencia de cada valor:\n",
            "OnlineSecurity\n",
            "No                     3498\n",
            "Yes                    2019\n",
            "No internet service    1526\n",
            "Name: count, dtype: int64\n",
            "\n",
            "🧾 Suma total de valores: 7043\n",
            "✅ La suma de frecuencias coincide con el total de filas.\n",
            "\n",
            "📂 Columna: OnlineBackup\n",
            "Valores únicos: ['Yes' 'No' 'No internet service']\n",
            "Cantidad de únicos: 3\n",
            "\n",
            "📊 Frecuencia de cada valor:\n",
            "OnlineBackup\n",
            "No                     3088\n",
            "Yes                    2429\n",
            "No internet service    1526\n",
            "Name: count, dtype: int64\n",
            "\n",
            "🧾 Suma total de valores: 7043\n",
            "✅ La suma de frecuencias coincide con el total de filas.\n",
            "\n",
            "📂 Columna: DeviceProtection\n",
            "Valores únicos: ['No' 'Yes' 'No internet service']\n",
            "Cantidad de únicos: 3\n",
            "\n",
            "📊 Frecuencia de cada valor:\n",
            "DeviceProtection\n",
            "No                     3095\n",
            "Yes                    2422\n",
            "No internet service    1526\n",
            "Name: count, dtype: int64\n",
            "\n",
            "🧾 Suma total de valores: 7043\n",
            "✅ La suma de frecuencias coincide con el total de filas.\n",
            "\n",
            "📂 Columna: TechSupport\n",
            "Valores únicos: ['Yes' 'No' 'No internet service']\n",
            "Cantidad de únicos: 3\n",
            "\n",
            "📊 Frecuencia de cada valor:\n",
            "TechSupport\n",
            "No                     3473\n",
            "Yes                    2044\n",
            "No internet service    1526\n",
            "Name: count, dtype: int64\n",
            "\n",
            "🧾 Suma total de valores: 7043\n",
            "✅ La suma de frecuencias coincide con el total de filas.\n",
            "\n",
            "📂 Columna: StreamingTV\n",
            "Valores únicos: ['Yes' 'No' 'No internet service']\n",
            "Cantidad de únicos: 3\n",
            "\n",
            "📊 Frecuencia de cada valor:\n",
            "StreamingTV\n",
            "No                     2810\n",
            "Yes                    2707\n",
            "No internet service    1526\n",
            "Name: count, dtype: int64\n",
            "\n",
            "🧾 Suma total de valores: 7043\n",
            "✅ La suma de frecuencias coincide con el total de filas.\n",
            "\n",
            "📂 Columna: StreamingMovies\n",
            "Valores únicos: ['No' 'Yes' 'No internet service']\n",
            "Cantidad de únicos: 3\n",
            "\n",
            "📊 Frecuencia de cada valor:\n",
            "StreamingMovies\n",
            "No                     2785\n",
            "Yes                    2732\n",
            "No internet service    1526\n",
            "Name: count, dtype: int64\n",
            "\n",
            "🧾 Suma total de valores: 7043\n",
            "✅ La suma de frecuencias coincide con el total de filas.\n",
            "\n",
            "📂 Columna: Contract\n",
            "Valores únicos: ['One year' 'Month-to-month' 'Two year']\n",
            "Cantidad de únicos: 3\n",
            "\n",
            "📊 Frecuencia de cada valor:\n",
            "Contract\n",
            "Month-to-month    3875\n",
            "Two year          1695\n",
            "One year          1473\n",
            "Name: count, dtype: int64\n",
            "\n",
            "🧾 Suma total de valores: 7043\n",
            "✅ La suma de frecuencias coincide con el total de filas.\n",
            "\n",
            "📂 Columna: PaperlessBilling\n",
            "Valores únicos: ['Yes' 'No']\n",
            "Cantidad de únicos: 2\n",
            "\n",
            "📊 Frecuencia de cada valor:\n",
            "PaperlessBilling\n",
            "Yes    4171\n",
            "No     2872\n",
            "Name: count, dtype: int64\n",
            "\n",
            "🧾 Suma total de valores: 7043\n",
            "✅ La suma de frecuencias coincide con el total de filas.\n",
            "\n",
            "📂 Columna: PaymentMethod\n",
            "Valores únicos: ['Mailed check' 'Electronic check' 'Credit card (automatic)'\n",
            " 'Bank transfer (automatic)']\n",
            "Cantidad de únicos: 4\n",
            "\n",
            "📊 Frecuencia de cada valor:\n",
            "PaymentMethod\n",
            "Electronic check             2365\n",
            "Mailed check                 1612\n",
            "Bank transfer (automatic)    1544\n",
            "Credit card (automatic)      1522\n",
            "Name: count, dtype: int64\n",
            "\n",
            "🧾 Suma total de valores: 7043\n",
            "✅ La suma de frecuencias coincide con el total de filas.\n"
          ]
        }
      ]
    },
    {
      "cell_type": "code",
      "source": [
        "print(type(datos_x2))"
      ],
      "metadata": {
        "colab": {
          "base_uri": "https://localhost:8080/"
        },
        "id": "8xxADH0NEEA2",
        "outputId": "10b1b3bd-63a0-480b-c3ff-7ffcd605d320"
      },
      "execution_count": null,
      "outputs": [
        {
          "output_type": "stream",
          "name": "stdout",
          "text": [
            "<class 'pandas.core.frame.DataFrame'>\n"
          ]
        }
      ]
    },
    {
      "cell_type": "code",
      "source": [
        "print(\"Shape:\", datos_x2.shape)\n",
        "print(\"¿Está vacío?:\", datos_x2.empty)"
      ],
      "metadata": {
        "colab": {
          "base_uri": "https://localhost:8080/"
        },
        "id": "j_xW_6G9Evmq",
        "outputId": "24d18e2d-6cba-49bc-e036-a5be9630d51e"
      },
      "execution_count": null,
      "outputs": [
        {
          "output_type": "stream",
          "name": "stdout",
          "text": [
            "Shape: (7043, 21)\n",
            "¿Está vacío?: False\n"
          ]
        }
      ]
    },
    {
      "cell_type": "code",
      "source": [
        "# Transformación de tipos y renombrado del DataFrame\n",
        "\n",
        "# 1. Convertir columnas object a category en datos_x2\n",
        "object_columns = datos_x2.select_dtypes(include=['object']).columns\n",
        "for col in object_columns:\n",
        "    datos_x2[col] = datos_x2[col].astype('category')\n",
        "\n",
        "# 2. Renombrar el DataFrame a 'datos'\n",
        "datos = datos_x2.copy()\n",
        "\n",
        "# Verificación\n",
        "print(\"\\nTipos de datos después de la conversión:\")\n",
        "print(datos.dtypes)\n",
        "print(\"\\nNombre del DataFrame:\", [name for name in globals() if globals()[name] is datos])\n",
        "\n",
        "# 3. Guardar el DataFrame procesado\n",
        "output_filename = 'datos.csv'\n",
        "datos.to_csv(output_filename, index=False)\n",
        "print(f\"\\nDataFrame guardado como '{output_filename}'\")\n",
        "\n"
      ],
      "metadata": {
        "colab": {
          "base_uri": "https://localhost:8080/"
        },
        "id": "rdr97YOM3f8s",
        "outputId": "93eef9ca-afd0-4e84-d887-1564bf58c090"
      },
      "execution_count": null,
      "outputs": [
        {
          "output_type": "stream",
          "name": "stdout",
          "text": [
            "\n",
            "Tipos de datos después de la conversión:\n",
            "Churn                   bool\n",
            "gender              category\n",
            "SeniorCitizen           bool\n",
            "Partner             category\n",
            "Dependents          category\n",
            "tenure                 int64\n",
            "PhoneService        category\n",
            "MultipleLines       category\n",
            "InternetService     category\n",
            "OnlineSecurity      category\n",
            "OnlineBackup        category\n",
            "DeviceProtection    category\n",
            "TechSupport         category\n",
            "StreamingTV         category\n",
            "StreamingMovies     category\n",
            "Contract            category\n",
            "PaperlessBilling    category\n",
            "PaymentMethod       category\n",
            "MonthlyCharges       float64\n",
            "TotalCharges         float64\n",
            "Cuentas_diarias      float64\n",
            "dtype: object\n",
            "\n",
            "Nombre del DataFrame: ['datos']\n",
            "\n",
            "DataFrame guardado como 'datos.csv'\n"
          ]
        }
      ]
    },
    {
      "cell_type": "markdown",
      "source": [
        "###  Estadísticas descriptivas"
      ],
      "metadata": {
        "id": "53ViS3Pj7vVH"
      }
    },
    {
      "cell_type": "code",
      "source": [
        "# Estadísticas descriptivas para variables numéricas\n",
        "print(datos[['tenure', 'MonthlyCharges', 'TotalCharges', 'Cuentas_diarias']].describe())\n",
        "\n",
        "# Estadísticas para variables categóricas\n",
        "print(\"\\nDistribución de categorías:\")\n",
        "for col in datos.select_dtypes(include=['category', 'bool']).columns:\n",
        "    print(f\"\\n{col}:\")\n",
        "    print(datos[col].value_counts(normalize=True))\n"
      ],
      "metadata": {
        "colab": {
          "base_uri": "https://localhost:8080/"
        },
        "id": "yLbR2fDE71cw",
        "outputId": "e392dd6d-1fee-49fc-d612-095620899db9"
      },
      "execution_count": null,
      "outputs": [
        {
          "output_type": "stream",
          "name": "stdout",
          "text": [
            "            tenure  MonthlyCharges  TotalCharges  Cuentas_diarias\n",
            "count  7043.000000     7043.000000   7043.000000      7043.000000\n",
            "mean     32.371149       64.761692   2279.734304         2.158723\n",
            "std      24.559481       30.090047   2266.794470         1.003002\n",
            "min       0.000000       18.250000      0.000000         0.608333\n",
            "25%       9.000000       35.500000    398.550000         1.183333\n",
            "50%      29.000000       70.350000   1394.550000         2.345000\n",
            "75%      55.000000       89.850000   3786.600000         2.995000\n",
            "max      72.000000      118.750000   8684.800000         3.958333\n",
            "\n",
            "Distribución de categorías:\n",
            "\n",
            "Churn:\n",
            "Churn\n",
            "False    0.73463\n",
            "True     0.26537\n",
            "Name: proportion, dtype: float64\n",
            "\n",
            "gender:\n",
            "gender\n",
            "Male      0.504756\n",
            "Female    0.495244\n",
            "Name: proportion, dtype: float64\n",
            "\n",
            "SeniorCitizen:\n",
            "SeniorCitizen\n",
            "False    0.837853\n",
            "True     0.162147\n",
            "Name: proportion, dtype: float64\n",
            "\n",
            "Partner:\n",
            "Partner\n",
            "No     0.516967\n",
            "Yes    0.483033\n",
            "Name: proportion, dtype: float64\n",
            "\n",
            "Dependents:\n",
            "Dependents\n",
            "No     0.700412\n",
            "Yes    0.299588\n",
            "Name: proportion, dtype: float64\n",
            "\n",
            "PhoneService:\n",
            "PhoneService\n",
            "Yes    0.903166\n",
            "No     0.096834\n",
            "Name: proportion, dtype: float64\n",
            "\n",
            "MultipleLines:\n",
            "MultipleLines\n",
            "No                  0.481329\n",
            "Yes                 0.421837\n",
            "No phone service    0.096834\n",
            "Name: proportion, dtype: float64\n",
            "\n",
            "InternetService:\n",
            "InternetService\n",
            "Fiber optic    0.439585\n",
            "DSL            0.343746\n",
            "No             0.216669\n",
            "Name: proportion, dtype: float64\n",
            "\n",
            "OnlineSecurity:\n",
            "OnlineSecurity\n",
            "No                     0.496663\n",
            "Yes                    0.286668\n",
            "No internet service    0.216669\n",
            "Name: proportion, dtype: float64\n",
            "\n",
            "OnlineBackup:\n",
            "OnlineBackup\n",
            "No                     0.438450\n",
            "Yes                    0.344881\n",
            "No internet service    0.216669\n",
            "Name: proportion, dtype: float64\n",
            "\n",
            "DeviceProtection:\n",
            "DeviceProtection\n",
            "No                     0.439443\n",
            "Yes                    0.343888\n",
            "No internet service    0.216669\n",
            "Name: proportion, dtype: float64\n",
            "\n",
            "TechSupport:\n",
            "TechSupport\n",
            "No                     0.493114\n",
            "Yes                    0.290217\n",
            "No internet service    0.216669\n",
            "Name: proportion, dtype: float64\n",
            "\n",
            "StreamingTV:\n",
            "StreamingTV\n",
            "No                     0.398978\n",
            "Yes                    0.384353\n",
            "No internet service    0.216669\n",
            "Name: proportion, dtype: float64\n",
            "\n",
            "StreamingMovies:\n",
            "StreamingMovies\n",
            "No                     0.395428\n",
            "Yes                    0.387903\n",
            "No internet service    0.216669\n",
            "Name: proportion, dtype: float64\n",
            "\n",
            "Contract:\n",
            "Contract\n",
            "Month-to-month    0.550192\n",
            "Two year          0.240664\n",
            "One year          0.209144\n",
            "Name: proportion, dtype: float64\n",
            "\n",
            "PaperlessBilling:\n",
            "PaperlessBilling\n",
            "Yes    0.592219\n",
            "No     0.407781\n",
            "Name: proportion, dtype: float64\n",
            "\n",
            "PaymentMethod:\n",
            "PaymentMethod\n",
            "Electronic check             0.335794\n",
            "Mailed check                 0.228880\n",
            "Bank transfer (automatic)    0.219225\n",
            "Credit card (automatic)      0.216101\n",
            "Name: proportion, dtype: float64\n"
          ]
        }
      ]
    },
    {
      "cell_type": "markdown",
      "source": [
        "## FASE 0: Análisis Exploratorio Básico (Antes de la Limpieza)"
      ],
      "metadata": {
        "id": "YtizSzw7EsBc"
      }
    },
    {
      "cell_type": "markdown",
      "source": [
        "Objetivo: Realizar un análisis exploratorio para entender las distribuciones, detectar outliers, y obtener estadísticas descriptivas de los datos.\n",
        "\n",
        "🪜 Pasos:\n",
        "\n",
        "**Estadísticas descriptivas iniciales:**\n",
        "\n",
        "Obtener resumen de las estadísticas básicas (mean, std, min, max, etc.) para todas las variables numéricas, con especial atención a las variables como MonthlyCharges, TotalCharges, tenure, etc.\n",
        "\n",
        "Distribuciones de las variables numéricas\n",
        "Graficar distribuciones de las variables numéricas:\n",
        "\n",
        "    - tenure\n",
        "\n",
        "    - MonthlyCharges\n",
        "\n",
        "    - TotalCharges\n",
        "\n",
        "**Buscar outliers y patrones inusuales:**\n",
        "\n",
        "Boxplots para detectar outliers:\n",
        "Crear boxplots para identificar valores atípicos en las variables numéricas.\n",
        "\n",
        "**Distribuciones de variables categóricas:**\n",
        "Graficar la distribución de las variables categóricas:\n",
        "\n",
        "    - gender, SeniorCitizen, Partner, Dependents, etc.\n",
        "    - Contar los valores únicos y sus frecuencias.\n",
        "\n",
        "**Correlación de variables numéricas:**\n",
        "Generar un mapa de calor de correlación para observar qué variables numéricas están más correlacionadas entre sí."
      ],
      "metadata": {
        "id": "4BTxSI3tE6Bu"
      }
    },
    {
      "cell_type": "code",
      "source": [
        "# Estadísticas descriptivas de las variables numéricas\n",
        "print(datos.describe())\n"
      ],
      "metadata": {
        "id": "_tHcwHsyBXbi",
        "outputId": "08f8c3db-5bc8-4133-d31c-d337ea7ebfc2",
        "colab": {
          "base_uri": "https://localhost:8080/"
        }
      },
      "execution_count": null,
      "outputs": [
        {
          "output_type": "stream",
          "name": "stdout",
          "text": [
            "            tenure  MonthlyCharges  TotalCharges  Cuentas_diarias\n",
            "count  7043.000000     7043.000000   7043.000000      7043.000000\n",
            "mean     32.371149       64.761692   2279.734304         2.158723\n",
            "std      24.559481       30.090047   2266.794470         1.003002\n",
            "min       0.000000       18.250000      0.000000         0.608333\n",
            "25%       9.000000       35.500000    398.550000         1.183333\n",
            "50%      29.000000       70.350000   1394.550000         2.345000\n",
            "75%      55.000000       89.850000   3786.600000         2.995000\n",
            "max      72.000000      118.750000   8684.800000         3.958333\n"
          ]
        }
      ]
    },
    {
      "cell_type": "markdown",
      "source": [
        "### Variables Numéricas"
      ],
      "metadata": {
        "id": "YBJ_5WztUAEK"
      }
    },
    {
      "cell_type": "markdown",
      "source": [
        "Customized Histogram for tenure\n",
        "\n",
        "    - Bins: Use ~24 bins to reflect customer lifecycle (every ~3 months)\n",
        "\n",
        "    - Goal: See if churn is more frequent among newer customers"
      ],
      "metadata": {
        "id": "R8ocA3v9h5oz"
      }
    },
    {
      "cell_type": "code",
      "source": [
        "import pandas as pd\n",
        "import seaborn as sns\n",
        "import matplotlib.pyplot as plt\n",
        "\n",
        "# Cargar el DataFrame\n",
        "datos = pd.read_csv('datos.csv')\n",
        "\n",
        "sns.histplot(data=datos, x='tenure', hue='Churn', multiple='stack', bins=24, palette='Set2')\n",
        "plt.title(\"Distribución de Tenure según Churn\")\n",
        "plt.xlabel(\"Meses de permanencia\")\n",
        "plt.ylabel(\"Número de clientes\")\n",
        "plt.savefig(\"hist_tenure_churn.png\")\n",
        "plt.show()\n"
      ],
      "metadata": {
        "colab": {
          "base_uri": "https://localhost:8080/",
          "height": 472
        },
        "id": "YV9iPi3vHXza",
        "outputId": "6a9aead7-61a7-45b8-a472-ea57d09fe92e"
      },
      "execution_count": null,
      "outputs": [
        {
          "output_type": "display_data",
          "data": {
            "text/plain": [
              "<Figure size 640x480 with 1 Axes>"
            ],
            "image/png": "[encoded data removed]"
          },
          "metadata": {}
        }
      ]
    },
    {
      "cell_type": "markdown",
      "source": [
        "Customized Histogram for MonthlyCharges\n",
        "\n",
        "    - Bins: Use ~20 bins to reflect billing brackets (e.g., $5 or $10 increments)\n",
        "\n",
        "    - Goal: Are customers with higher/lower charges more likely to churn?\n",
        "\n"
      ],
      "metadata": {
        "id": "Fzf5y3ujiVPl"
      }
    },
    {
      "cell_type": "code",
      "source": [
        "import seaborn as sns\n",
        "import matplotlib.pyplot as plt\n",
        "\n",
        "sns.histplot(data=datos, x='MonthlyCharges', hue='Churn', multiple='stack', bins=20, palette='Set1')\n",
        "plt.title(\"Distribución de MonthlyCharges según Churn\")\n",
        "plt.xlabel(\"Cargos mensuales ($)\")\n",
        "plt.ylabel(\"Número de clientes\")\n",
        "plt.savefig(\"hist_monthlycharges_churn.png\")\n",
        "plt.show()\n"
      ],
      "metadata": {
        "id": "aBITqmR1imjo"
      },
      "execution_count": null,
      "outputs": []
    },
    {
      "cell_type": "markdown",
      "source": [
        "Customized Histogram for TotalCharges\n",
        "\n",
        "    - Bins: Fewer bins (~30) due to wide range\n",
        "\n",
        "    - Extra: Log scale helps reduce right-skew effect\n",
        "\n",
        "    - Goal: Is churn higher for lower total lifetime value?"
      ],
      "metadata": {
        "id": "x5-lnB-gi5BG"
      }
    },
    {
      "cell_type": "code",
      "source": [
        "sns.histplot(data=datos, x='TotalCharges', hue='Churn', multiple='stack', bins=30, palette='Set3')\n",
        "plt.yscale('log')  # Optional: use log scale to see low-frequency zones\n",
        "plt.title(\"Distribución de TotalCharges según Churn\")\n",
        "plt.xlabel(\"Cargos acumulados ($)\")\n",
        "plt.ylabel(\"Número de clientes (escala log)\")\n",
        "plt.savefig(\"hist_totalcharges_churn.png\")\n",
        "plt.show()\n"
      ],
      "metadata": {
        "id": "25CR43PxjCRZ"
      },
      "execution_count": null,
      "outputs": []
    },
    {
      "cell_type": "markdown",
      "source": [
        "Boxplot Tenure vs Churn"
      ],
      "metadata": {
        "id": "WtkQce9VlS1m"
      }
    },
    {
      "cell_type": "code",
      "source": [
        "sns.boxplot(data=datos, x='Churn', y='tenure', hue='Churn', palette='Set2', legend=False)\n",
        "plt.title(\"Boxplot de Tenure según Churn\")\n",
        "plt.savefig(\"boxplot_tenure_churn.png\")\n",
        "plt.show()\n"
      ],
      "metadata": {
        "id": "I0FipWc-lb9x"
      },
      "execution_count": null,
      "outputs": []
    },
    {
      "cell_type": "markdown",
      "source": [
        "Boxplot MonthlyCharges vs Churn"
      ],
      "metadata": {
        "id": "PJPhbZy-lSbF"
      }
    },
    {
      "cell_type": "code",
      "source": [
        "sns.boxplot(data=datos, x='Churn', y='MonthlyCharges', hue='Churn', palette='Set1', legend=False)\n",
        "plt.title(\"Boxplot de MonthlyCharges según Churn\")\n",
        "plt.savefig(\"boxplot_monthlycharges_churn.png\")\n",
        "plt.show()\n"
      ],
      "metadata": {
        "id": "i6dk-8Qclx4D"
      },
      "execution_count": null,
      "outputs": []
    },
    {
      "cell_type": "markdown",
      "source": [
        "Boxplot TotalCharges vs Churn"
      ],
      "metadata": {
        "id": "xq8CFWIWmZWc"
      }
    },
    {
      "cell_type": "code",
      "source": [
        "sns.boxplot(data=datos, x='Churn', y='TotalCharges', hue='Churn', palette='Set3', legend=False)\n",
        "plt.title(\"Boxplot de TotalCharges según Churn\")\n",
        "plt.savefig(\"boxplot_totalcharges_churn.png\")\n",
        "plt.show()\n"
      ],
      "metadata": {
        "id": "wDCZ5HgRmORI"
      },
      "execution_count": null,
      "outputs": []
    },
    {
      "cell_type": "markdown",
      "source": [
        "Recap Variables Numéricas:\n",
        "\n",
        "    - tenure mostró una alta concentración de clientes con pocos meses de servicio.\n",
        "\n",
        "    - Insight: Muchos clientes que cancelan lo hacen temprano.\n",
        "\n",
        "    - MonthlyCharges presentó una posible relación entre precios altos y mayor churn.\n",
        "\n",
        "    - Clientes con cargos altos tienden a cancelar más.\n",
        "\n",
        "    - TotalCharges estuvo altamente sesgado hacia valores bajos.\n",
        "\n",
        "    - Clientes con poca inversión total tienden a cancelar más.\n",
        "\n",
        "    - Boxplot Tenure vs Churn: Clientes que cancelan tienen menor permanencia.\n",
        "\n",
        "    - MonthlyCharges vs Churn: Distribución más amplia en clientes que cancelan.\n",
        "\n",
        "    - TotalCharges vs Churn: Clientes con mayor gasto tienden a quedarse.\n",
        "\n",
        "💡 Insights generales hasta ahora:\n",
        "\n",
        "    La permanencia (tenure) parece ser uno de los factores más fuertes relacionados con la cancelación.\n",
        "\n",
        "    Clientes con cargos mensuales altos muestran mayor propensión al churn.\n",
        "\n",
        "    TotalCharges también refleja esto: clientes con historial de gasto bajo son más propensos a cancelar.\n",
        "\n",
        "    El comportamiento observado respalda la idea de que churn ocurre temprano en el ciclo del cliente, y es más común en segmentos de alto costo y bajo valor acumulado.\n",
        "\n",
        "\n"
      ],
      "metadata": {
        "id": "o4hBDRyMnNiV"
      }
    },
    {
      "cell_type": "markdown",
      "source": [
        "### Variables Categóricas Principales"
      ],
      "metadata": {
        "id": "fxfpI-v0UTVe"
      }
    },
    {
      "cell_type": "markdown",
      "source": [
        "Como punto de partida se evalúan las siguients categorías\n",
        "   \n",
        "    - gender\n",
        "\n",
        "    - SeniorCitizen\n",
        "\n",
        "    - Partner\n",
        "\n",
        "    - Dependents\n",
        "\n",
        "    - Contract\n",
        "\n",
        "    - PaymentMethod\n",
        "\n",
        "    - InternetService"
      ],
      "metadata": {
        "id": "domOHJtfVWK2"
      }
    },
    {
      "cell_type": "markdown",
      "source": [
        "Distribución de gender según churn"
      ],
      "metadata": {
        "id": "CEO2A6QLV2XB"
      }
    },
    {
      "cell_type": "code",
      "source": [
        "sns.countplot(data=datos, x='gender', hue='Churn', palette='Set2')\n",
        "plt.title(\"Distribución de gender según Churn\")\n",
        "plt.xlabel(\"Género\")\n",
        "plt.ylabel(\"Número de clientes\")\n",
        "plt.savefig(\"catplot_gender_churn.png\")\n",
        "plt.show()\n"
      ],
      "metadata": {
        "id": "qa6ceb5KUa97"
      },
      "execution_count": null,
      "outputs": []
    },
    {
      "cell_type": "markdown",
      "source": [
        "Distribución de SeniorCitizen según Churn"
      ],
      "metadata": {
        "id": "vrdbIvLlWBTa"
      }
    },
    {
      "cell_type": "code",
      "source": [
        "sns.countplot(data=datos, x='SeniorCitizen', hue='Churn', palette='Set1')\n",
        "plt.title(\"Distribución de SeniorCitizen según Churn\")\n",
        "plt.xlabel(\"¿Es ciudadano senior?\")\n",
        "plt.ylabel(\"Número de clientes\")\n",
        "plt.savefig(\"catplot_seniorcitizen_churn.png\")\n",
        "plt.show()\n"
      ],
      "metadata": {
        "id": "qpaFQzzDWGtA"
      },
      "execution_count": null,
      "outputs": []
    },
    {
      "cell_type": "markdown",
      "source": [
        "Distribución de Partner según Churn"
      ],
      "metadata": {
        "id": "G8VMb4jqWM_X"
      }
    },
    {
      "cell_type": "code",
      "source": [
        "sns.countplot(data=datos, x='Partner', hue='Churn', palette='Pastel1')\n",
        "plt.title(\"Distribución de Partner según Churn\")\n",
        "plt.xlabel(\"¿Tiene pareja?\")\n",
        "plt.ylabel(\"Número de clientes\")\n",
        "plt.savefig(\"catplot_partner_churn.png\")\n",
        "plt.show()\n"
      ],
      "metadata": {
        "id": "crwj4cybWRzu"
      },
      "execution_count": null,
      "outputs": []
    },
    {
      "cell_type": "markdown",
      "source": [
        "Distribución de Dependents según Churn"
      ],
      "metadata": {
        "id": "5PsbTlubWYc4"
      }
    },
    {
      "cell_type": "code",
      "source": [
        "sns.countplot(data=datos, x='Dependents', hue='Churn', palette='Pastel2')\n",
        "plt.title(\"Distribución de Dependents según Churn\")\n",
        "plt.xlabel(\"¿Tiene dependientes?\")\n",
        "plt.ylabel(\"Número de clientes\")\n",
        "plt.savefig(\"catplot_dependents_churn.png\")\n",
        "plt.show()\n"
      ],
      "metadata": {
        "id": "0cTyDb9dWeVq"
      },
      "execution_count": null,
      "outputs": []
    },
    {
      "cell_type": "markdown",
      "source": [
        "Distribución de Contract según Churn"
      ],
      "metadata": {
        "id": "YuVsWYOQWoPV"
      }
    },
    {
      "cell_type": "code",
      "source": [
        "sns.countplot(data=datos, x='Contract', hue='Churn', palette='Set3')\n",
        "plt.title(\"Distribución de tipo de contrato según Churn\")\n",
        "plt.xlabel(\"Tipo de contrato\")\n",
        "plt.ylabel(\"Número de clientes\")\n",
        "plt.savefig(\"catplot_contract_churn.png\")\n",
        "plt.show()\n"
      ],
      "metadata": {
        "id": "7E3qujTmWpYC"
      },
      "execution_count": null,
      "outputs": []
    },
    {
      "cell_type": "markdown",
      "source": [
        "Distribución de PaymentMethod según Churn"
      ],
      "metadata": {
        "id": "5bKuz5SkW5xl"
      }
    },
    {
      "cell_type": "code",
      "source": [
        "plt.figure(figsize=(10,5))\n",
        "sns.countplot(data=datos, x='PaymentMethod', hue='Churn', palette='coolwarm')\n",
        "plt.title(\"Distribución de método de pago según Churn\")\n",
        "plt.xlabel(\"Método de pago\")\n",
        "plt.ylabel(\"Número de clientes\")\n",
        "plt.xticks(rotation=15)\n",
        "plt.savefig(\"catplot_paymentmethod_churn.png\")\n",
        "plt.show()\n"
      ],
      "metadata": {
        "id": "cnp1loABXD_1"
      },
      "execution_count": null,
      "outputs": []
    },
    {
      "cell_type": "markdown",
      "source": [
        "Distribución de InternetService según Churn"
      ],
      "metadata": {
        "id": "wGmYk_S4XOhE"
      }
    },
    {
      "cell_type": "code",
      "source": [
        "sns.countplot(data=datos, x='InternetService', hue='Churn', palette='Accent')\n",
        "plt.title(\"Distribución de tipo de internet según Churn\")\n",
        "plt.xlabel(\"Tipo de servicio de internet\")\n",
        "plt.ylabel(\"Número de clientes\")\n",
        "plt.savefig(\"catplot_internetservice_churn.png\")\n",
        "plt.show()\n"
      ],
      "metadata": {
        "id": "eLRrBJ5UXQJ4"
      },
      "execution_count": null,
      "outputs": []
    },
    {
      "cell_type": "markdown",
      "source": [
        "plt.figure(figsize=(10,5))\n",
        "sns.countplot(data=datos, x='PaymentMethod', hue='Churn', palette='coolwarm')\n",
        "plt.title(\"Distribución de método de pago según Churn\")\n",
        "plt.xlabel(\"Método de pago\")\n",
        "plt.ylabel(\"Número de clientes\")\n",
        "plt.xticks(rotation=15)\n",
        "plt.savefig(\"catplot_paymentmethod_churn.png\")\n",
        "plt.show()\n"
      ],
      "metadata": {
        "id": "9jkbNpFkW3rm"
      }
    },
    {
      "cell_type": "markdown",
      "source": [
        " **Variables Categóricas de Perfil Demográfico y Contratación**\n",
        "\n",
        "(antes llamadas “principales”)\n",
        "\n",
        "Estas variables están asociadas al perfil del cliente y forma de contratación:\n",
        "\n",
        "- gender:\tNo hay diferencias relevantes de churn entre hombres y mujeres.\n",
        "\n",
        "- SeniorCitizen:\tLos adultos mayores (SeniorCitizen=1) tienen tasas de cancelación más altas.\n",
        "\n",
        "- Partner:\tTener pareja está ligeramente asociado a menor churn, posiblemente por estabilidad.\n",
        "\n",
        "- Dependents:\tTener dependientes se relaciona con menor probabilidad de cancelar.\n",
        "\n",
        "- Contract:\tLos contratos mensuales tienen mayor churn, mientras que contratos a 1 o 2 años retienen más.\n",
        "\n",
        "- PaymentMethod:\tEl Electronic Check muestra la mayor tasa de cancelación. Otros métodos (tarjeta o transferencia) presentan menos churn.\n",
        "\n",
        "- InternetService:\tClientes con Fiber optic presentan churn significativamente más alto que los de DSL o sin servicio."
      ],
      "metadata": {
        "id": "D9Bo_kyw74OM"
      }
    },
    {
      "cell_type": "markdown",
      "source": [
        "**Interpretación general:**\n",
        "\n",
        "Clientes con mayor estabilidad familiar (pareja, dependientes) y contratos a plazo fijo tienden a permanecer más tiempo.\n",
        "\n",
        "En contraste, los clientes de servicios más rápidos (Fiber) o con pagos menos automáticos son más propensos a cancelar."
      ],
      "metadata": {
        "id": "9yJbYs2Q8Vmq"
      }
    },
    {
      "cell_type": "markdown",
      "source": [
        "### Variables Categóricas Secundarias"
      ],
      "metadata": {
        "id": "qRrXkxVokFyi"
      }
    },
    {
      "cell_type": "markdown",
      "source": [
        "Casi todas estas variables tienen 3 categorías, y están relacionadas con servicios contratados:\n",
        "\n",
        "- PhoneService:\tSi tiene servicio telefónico\n",
        "\n",
        "- MultipleLines:\tSi tiene múltiples líneas telefónicas\n",
        "\n",
        "- OnlineSecurity:\tSi tiene seguridad en línea\n",
        "\n",
        "- OnlineBackup:\tSi tiene respaldo en línea\n",
        "\n",
        "- DeviceProtection:\tSi tiene protección de dispositivos\n",
        "\n",
        "- TechSupport:\tSi tiene soporte técnico\n",
        "\n",
        "- StreamingTV:\tSi tiene TV por streaming\n",
        "\n",
        "- StreamingMovies:\tSi tiene películas por streaming\n",
        "\n",
        "- PaperlessBilling:\tSi utiliza facturación electrónica"
      ],
      "metadata": {
        "id": "QDAR3xgwkKxb"
      }
    },
    {
      "cell_type": "markdown",
      "source": [
        "PhoneService vs. Churn"
      ],
      "metadata": {
        "id": "KBkWwKP4kove"
      }
    },
    {
      "cell_type": "code",
      "source": [
        "sns.countplot(data=datos, x='PhoneService', hue='Churn', palette='Set2')\n",
        "plt.title(\"Distribución de PhoneService según Churn\")\n",
        "plt.xlabel(\"¿Tiene servicio telefónico?\")\n",
        "plt.ylabel(\"Número de clientes\")\n",
        "plt.savefig(\"catplot_phoneservice_churn.png\")\n",
        "plt.show()\n"
      ],
      "metadata": {
        "id": "WbV0wZL-ktj2"
      },
      "execution_count": null,
      "outputs": []
    },
    {
      "cell_type": "markdown",
      "source": [
        "MultipleLines vs. Churn"
      ],
      "metadata": {
        "id": "ZjGOHcU5k457"
      }
    },
    {
      "cell_type": "code",
      "source": [
        "sns.countplot(data=datos, x='MultipleLines', hue='Churn', palette='Set1')\n",
        "plt.title(\"Distribución de MultipleLines según Churn\")\n",
        "plt.xlabel(\"¿Tiene múltiples líneas?\")\n",
        "plt.ylabel(\"Número de clientes\")\n",
        "plt.savefig(\"catplot_multiplelines_churn.png\")\n",
        "plt.show()\n"
      ],
      "metadata": {
        "id": "G7bo1vc6k-t8"
      },
      "execution_count": null,
      "outputs": []
    },
    {
      "cell_type": "markdown",
      "source": [
        "OnlineSecurity vs. Churn"
      ],
      "metadata": {
        "id": "ugwtt1eslESb"
      }
    },
    {
      "cell_type": "code",
      "source": [
        "sns.countplot(data=datos, x='OnlineSecurity', hue='Churn', palette='Pastel1')\n",
        "plt.title(\"Distribución de OnlineSecurity según Churn\")\n",
        "plt.xlabel(\"¿Tiene seguridad en línea?\")\n",
        "plt.ylabel(\"Número de clientes\")\n",
        "plt.savefig(\"catplot_onlinesecurity_churn.png\")\n",
        "plt.show()\n"
      ],
      "metadata": {
        "id": "dDmZYPB7lJsl"
      },
      "execution_count": null,
      "outputs": []
    },
    {
      "cell_type": "markdown",
      "source": [
        "OnlineBackup vs. Churn"
      ],
      "metadata": {
        "id": "8tXv9g60lPEc"
      }
    },
    {
      "cell_type": "code",
      "source": [
        "sns.countplot(data=datos, x='OnlineBackup', hue='Churn', palette='Pastel2')\n",
        "plt.title(\"Distribución de OnlineBackup según Churn\")\n",
        "plt.xlabel(\"¿Tiene respaldo en línea?\")\n",
        "plt.ylabel(\"Número de clientes\")\n",
        "plt.savefig(\"catplot_onlinebackup_churn.png\")\n",
        "plt.show()\n"
      ],
      "metadata": {
        "id": "Hhwdu58BlUdk"
      },
      "execution_count": null,
      "outputs": []
    },
    {
      "cell_type": "markdown",
      "source": [
        "DeviceProtection vs. Churn"
      ],
      "metadata": {
        "id": "XB5-SRnklimD"
      }
    },
    {
      "cell_type": "code",
      "source": [
        "sns.countplot(data=datos, x='DeviceProtection', hue='Churn', palette='Set3')\n",
        "plt.title(\"Distribución de DeviceProtection según Churn\")\n",
        "plt.xlabel(\"¿Tiene protección de dispositivos?\")\n",
        "plt.ylabel(\"Número de clientes\")\n",
        "plt.savefig(\"catplot_deviceprotection_churn.png\")\n",
        "plt.show()\n"
      ],
      "metadata": {
        "id": "LaFP_UiLlmnN"
      },
      "execution_count": null,
      "outputs": []
    },
    {
      "cell_type": "markdown",
      "source": [
        "TechSupport vs. Churn"
      ],
      "metadata": {
        "id": "JJVcZscelsrO"
      }
    },
    {
      "cell_type": "code",
      "source": [
        "sns.countplot(data=datos, x='TechSupport', hue='Churn', palette='Set2')\n",
        "plt.title(\"Distribución de TechSupport según Churn\")\n",
        "plt.xlabel(\"¿Tiene soporte técnico?\")\n",
        "plt.ylabel(\"Número de clientes\")\n",
        "plt.savefig(\"catplot_techsupport_churn.png\")\n",
        "plt.show()\n"
      ],
      "metadata": {
        "id": "aO2ytmsflzIm"
      },
      "execution_count": null,
      "outputs": []
    },
    {
      "cell_type": "markdown",
      "source": [
        "StreamingTV vs. Churn"
      ],
      "metadata": {
        "id": "pbX4gsX7mEsu"
      }
    },
    {
      "cell_type": "code",
      "source": [
        "sns.countplot(data=datos, x='StreamingTV', hue='Churn', palette='Set1')\n",
        "plt.title(\"Distribución de StreamingTV según Churn\")\n",
        "plt.xlabel(\"¿Tiene TV por streaming?\")\n",
        "plt.ylabel(\"Número de clientes\")\n",
        "plt.savefig(\"catplot_streamingtv_churn.png\")\n",
        "plt.show()\n"
      ],
      "metadata": {
        "id": "m2qmPoicmGVI"
      },
      "execution_count": null,
      "outputs": []
    },
    {
      "cell_type": "markdown",
      "source": [
        "StreamingMovies vs. Churn"
      ],
      "metadata": {
        "id": "GqeMhHGTnrA7"
      }
    },
    {
      "cell_type": "code",
      "source": [
        "sns.countplot(data=datos, x='StreamingMovies', hue='Churn', palette='Set3')\n",
        "plt.title(\"Distribución de StreamingMovies según Churn\")\n",
        "plt.xlabel(\"¿Tiene películas por streaming?\")\n",
        "plt.ylabel(\"Número de clientes\")\n",
        "plt.savefig(\"catplot_streamingmovies_churn.png\")\n",
        "plt.show()\n"
      ],
      "metadata": {
        "id": "DW7HjO3lnsRD"
      },
      "execution_count": null,
      "outputs": []
    },
    {
      "cell_type": "markdown",
      "source": [],
      "metadata": {
        "id": "UBADeFkqn1FZ"
      }
    },
    {
      "cell_type": "markdown",
      "source": [
        "PaperlessBilling vs. Churn"
      ],
      "metadata": {
        "id": "U4du89lUn_5W"
      }
    },
    {
      "cell_type": "code",
      "source": [
        "sns.countplot(data=datos, x='PaperlessBilling', hue='Churn', palette='coolwarm')\n",
        "plt.title(\"Distribución de PaperlessBilling según Churn\")\n",
        "plt.xlabel(\"¿Tiene facturación electrónica?\")\n",
        "plt.ylabel(\"Número de clientes\")\n",
        "plt.savefig(\"catplot_paperlessbilling_churn.png\")\n",
        "plt.show()\n"
      ],
      "metadata": {
        "id": "jOhFlNjJoA0x"
      },
      "execution_count": null,
      "outputs": []
    },
    {
      "cell_type": "markdown",
      "source": [
        "**Variables de Servicios Contratados**\n",
        "\n",
        "(antes llamadas “secundarias”, pero tienen insights clave sobre comportamiento)\n",
        "\n",
        "Estas variables reflejan qué servicios adicionales contrata el cliente:\n",
        "\n",
        "- PhoneService\tCasi todos los clientes lo tienen; no muestra variación relevante con churn.\n",
        "\n",
        "- MultipleLines\tClientes con múltiples líneas tienen ligeramente más churn que los que no.\n",
        "\n",
        "- OnlineSecurity\tNo tener seguridad en línea está fuertemente asociado con mayor churn.\n",
        "\n",
        "- OnlineBackup\tTendencia similar: no contratarlo se asocia a mayor churn.\n",
        "\n",
        "- DeviceProtection\tClientes sin protección de dispositivos tienen más churn, aunque con menos diferencia.\n",
        "\n",
        "- TechSupport\tNo tener soporte técnico es un gran predictor de churn.\n",
        "\n",
        "- StreamingTV\tTener o no TV por streaming no marca una gran diferencia, aunque los que no lo tienen cancelan más.\n",
        "\n",
        "- StreamingMovies\tTendencia similar a StreamingTV, pero más neutral.\n",
        "\n",
        "- PaperlessBilling\tClientes con facturación electrónica tienen más churn. Puede estar asociado a usuarios más activos/digital"
      ],
      "metadata": {
        "id": "IjBePKmE9NGH"
      }
    },
    {
      "cell_type": "markdown",
      "source": [
        "**Interpretación general:**\n",
        "\n",
        "Las variables de servicios adicionales son excelentes predictores de churn.\n",
        "Especialmente:\n",
        "\n",
        "    Falta de OnlineSecurity\n",
        "\n",
        "    Falta de TechSupport\n",
        "\n",
        "    No tener OnlineBackup\n",
        "\n",
        "Estas variables podrían reflejar un menor compromiso con los servicios o descontento por la falta de valor agregado."
      ],
      "metadata": {
        "id": "Np3jcMtj9gr-"
      }
    },
    {
      "cell_type": "markdown",
      "source": [
        "**Clasificación de variables propuesta**"
      ],
      "metadata": {
        "id": "tSw6tPPU98GG"
      }
    },
    {
      "cell_type": "markdown",
      "source": [
        "| Grupo                               | Contenido                                                   |\n",
        "| ----------------------------------- | ----------------------------------------------------------- |\n",
        "| 🧑‍💼 **Perfil del cliente**        | gender, SeniorCitizen, Partner, Dependents                  |\n",
        "| 📄 **Modelo de contrato**           | Contract, PaymentMethod, PaperlessBilling                   |\n",
        "| 🌐 **Tipo de servicio base**        | InternetService, PhoneService, MultipleLines                |\n",
        "| 🛡️ **Servicios adicionales**       | OnlineSecurity, OnlineBackup, DeviceProtection, TechSupport |\n",
        "| 📺 **Servicios de entretenimiento** | StreamingTV, StreamingMovies                                |\n"
      ],
      "metadata": {
        "id": "5mTpTzkIoIcS"
      }
    },
    {
      "cell_type": "markdown",
      "source": [
        "### Conclusión Fase 0"
      ],
      "metadata": {
        "id": "9Wwjy24O-YW5"
      }
    },
    {
      "cell_type": "markdown",
      "source": [
        "\n",
        "\n",
        "Durante esta etapa inicial se exploraron las características principales del conjunto de datos, incluyendo la distribución y relación de variables numéricas y categóricas con la variable objetivo Churn. Este análisis permitió identificar patrones clave, así como variables con bajo o nulo aporte informativo.\n",
        "\n",
        "Como resultado, se decidió eliminar las siguientes tres columnas:\n",
        "\n",
        "    TotalCharges: Esta variable representa el acumulado total pagado por el cliente y está directamente derivada de MonthlyCharges × tenure. Dado que ambas variables base ya están presentes y activas, TotalCharges se considera redundante.\n",
        "\n",
        "    Cuentas_diarias: Se trata de una variable artificial generada para resolver un proyecto anterior, sin conexión real con la lógica del negocio o el comportamiento del cliente. Por lo tanto, se elimina por no aportar valor al análisis actual.\n",
        "\n",
        "    PhoneService: El análisis gráfico reveló que esta variable presenta una distribución altamente sesgada, con la mayoría de los clientes teniendo el mismo valor (“Yes”). Su baja variabilidad y escasa relación con el Churn justifican su exclusión en esta etapa.\n",
        "\n",
        "Estas eliminaciones no solo simplifican el modelo de datos, sino que refuerzan el principio de parsimony, manteniendo únicamente aquellas variables con potencial valor predictivo o estratégico.\n",
        "\n",
        "El conjunto de datos limpio se almacena como datos_v1 y servirá como base para la siguiente fase del proyecto."
      ],
      "metadata": {
        "id": "eGhRp8t8-een"
      }
    },
    {
      "cell_type": "code",
      "source": [
        "# Eliminamos columnas irrelevantes\n",
        "columnas_a_eliminar = ['TotalCharges', 'Cuentas_diarias', 'PhoneService']\n",
        "datos_v1 = datos.drop(columns=columnas_a_eliminar)\n",
        "\n",
        "# Verificamos las columnas resultantes\n",
        "print(\"Columnas restantes:\", datos_v1.columns.tolist())\n",
        "print(\"Shape del nuevo dataframe:\", datos_v1.shape)\n"
      ],
      "metadata": {
        "id": "d1oy2bsg_MW0"
      },
      "execution_count": null,
      "outputs": []
    },
    {
      "cell_type": "markdown",
      "source": [
        "## FASE 1: Preparación de los Datos (Limpieza y Codificación)"
      ],
      "metadata": {
        "id": "G6FMSWeJBQnk"
      }
    },
    {
      "cell_type": "markdown",
      "source": [
        "### 1.1 Verificación de tipos de datos"
      ],
      "metadata": {
        "id": "CTbLVBTfX0hq"
      }
    },
    {
      "cell_type": "code",
      "source": [
        "datos_v1.dtypes"
      ],
      "metadata": {
        "id": "1fWYDfitYskE"
      },
      "execution_count": null,
      "outputs": []
    },
    {
      "cell_type": "markdown",
      "source": [
        "### 1.2 Confirmación de valores nulos"
      ],
      "metadata": {
        "id": "XU2978lWYuVn"
      }
    },
    {
      "cell_type": "code",
      "source": [
        "datos_v1.isnull().sum()"
      ],
      "metadata": {
        "id": "WoFQfLg0Y9X2"
      },
      "execution_count": null,
      "outputs": []
    },
    {
      "cell_type": "markdown",
      "source": [
        "### 1.3 Codificación de variables categóricas"
      ],
      "metadata": {
        "id": "C2atdkrAZBsx"
      }
    },
    {
      "cell_type": "markdown",
      "source": [
        "Variables booleanas:\n",
        "\n",
        "Churn\n",
        "\n",
        "SeniorCitizen"
      ],
      "metadata": {
        "id": "LPa3_iaedrzn"
      }
    },
    {
      "cell_type": "markdown",
      "source": [
        "Tenemos múltiples variables categóricas (tipo category o object) que necesitan transformarse para alimentar los modelos.\n",
        "Estrategia:\n",
        "\n",
        "    Si la variable tiene 2 categorías → LabelEncoder\n",
        "\n",
        "    Si tiene 3 o más → One-hot encoding (sin crear columna dummy para evitar multicolinealidad)\n",
        "\n",
        "Variables con 2 categorías (label encoding):\n",
        "\n",
        "    gender\n",
        "\n",
        "    Partner\n",
        "\n",
        "    Dependents\n",
        "\n",
        "    OnlineSecurity\n",
        "\n",
        "    OnlineBackup\n",
        "\n",
        "    DeviceProtection\n",
        "\n",
        "    TechSupport\n",
        "\n",
        "    StreamingTV\n",
        "\n",
        "    StreamingMovies\n",
        "\n",
        "    PaperlessBilling\n",
        "\n",
        "\n",
        "Variables con 3 o más categorías (one-hot encoding):\n",
        "\n",
        "    MultipleLines\n",
        "\n",
        "    InternetService\n",
        "\n",
        "    Contract\n",
        "\n",
        "    PaymentMethod"
      ],
      "metadata": {
        "id": "nHCfC87TZuZv"
      }
    },
    {
      "cell_type": "code",
      "source": [],
      "metadata": {
        "id": "toCpAK05ZkA8"
      },
      "execution_count": null,
      "outputs": []
    },
    {
      "cell_type": "markdown",
      "source": [
        "# PRESENTACIÓN"
      ],
      "metadata": {
        "id": "87TNy0yCf_hk"
      }
    },
    {
      "cell_type": "markdown",
      "source": [
        "## ESTRUCTURA DEL PROYECTO"
      ],
      "metadata": {
        "id": "QkrXwDmCyptX"
      }
    },
    {
      "cell_type": "markdown",
      "source": [
        "**Carga y Exploración Inicial de Datos**\n",
        "\n",
        "    - Importar el dataset desde el repositorio.\n",
        "\n",
        "    - Verificar dimensiones, tipos de datos y valores nulos.\n",
        "\n",
        "**Fase 0: Análisis Exploratorio Básico (Antes de la Limpieza)**\n",
        "\n",
        "Objetivo: Realizar un análisis exploratorio para entender las distribuciones, detectar outliers, y obtener estadísticas descriptivas de los datos.\n",
        "\n",
        "🪜 Pasos:\n",
        "\n",
        "    Estadísticas descriptivas iniciales\n",
        "    Obtener resumen de las estadísticas básicas (mean, std, min, max, etc.) para todas las variables numéricas, con especial atención a las variables como MonthlyCharges, TotalCharges, tenure, etc.\n",
        "\n",
        "    Distribuciones de las variables numéricas\n",
        "    Graficar distribuciones de las variables numéricas:\n",
        "\n",
        "        - tenure\n",
        "\n",
        "        - MonthlyCharges\n",
        "\n",
        "        - TotalCharges\n",
        "        \n",
        "    Buscar outliers y patrones inusuales.\n",
        "\n",
        "    Boxplots para detectar outliers\n",
        "    Crear boxplots para identificar valores atípicos en las variables numéricas.\n",
        "\n",
        "    Distribuciones de variables categóricas\n",
        "    Graficar la distribución de las variables categóricas:\n",
        "\n",
        "        - gender, SeniorCitizen, Partner, Dependents, etc.\n",
        "        - Contar los valores únicos y sus frecuencias.\n",
        "\n",
        "    Correlación de variables numéricas\n",
        "    Generar un mapa de calor de correlación para observar qué variables numéricas están más correlacionadas entre sí.\n",
        "\n",
        "**Fase 1: Preparación de los Datos (Limpieza y Codificación)**\n",
        "\n",
        "Objetivo: Limpiar y transformar los datos para el análisis y modelado.\n",
        "🪜 Pasos:\n",
        "\n",
        "    Eliminar columnas innecesarias\n",
        "\n",
        "        - Eliminar Cuentas_diarias\n",
        "\n",
        "        - Eliminar TotalCharges por redundancia\n",
        "\n",
        "    Conversión de variables categóricas\n",
        "\n",
        "        - Convertir las variables tipo category en variables dummy (One-Hot Encoding)\n",
        "\n",
        "    Separar variable objetivo y variables predictoras\n",
        "\n",
        "        - Separar X (features) y y (target: Churn)\n",
        "\n",
        "    Normalización de variables numéricas\n",
        "\n",
        "        - Normalizar tenure y MonthlyCharges con StandardScaler\n",
        "\n",
        "📁 Resultado:\n",
        "\n",
        "    DataFrame resultante: datos_v3\n",
        "\n",
        "    X e y preparados para el modelo\n",
        "\n",
        "📊 Fase 2: Análisis Exploratorio y Correlación\n",
        "\n",
        "Objetivo: Comprender el comportamiento de las variables y su relación con la cancelación.\n",
        "\n",
        "\n",
        "🪜 Pasos:\n",
        "\n",
        "    Gráfico de correlación numérica\n",
        "    Generar un mapa de calor para ver la correlación entre las variables numéricas y la variable Churn.\n",
        "\n",
        "    Distribuciones por Churn\n",
        "    Graficar distribuciones de variables como MonthlyCharges, tenure, y Contract separadas por Churn.\n",
        "\n",
        "    Correlación con variable objetivo\n",
        "    Crear una tabla que muestre la correlación de cada variable con Churn.\n",
        "\n",
        "🤖 Fase 3: Modelado\n",
        "\n",
        "Objetivo: Entrenar y comparar al menos dos modelos de clasificación.\n",
        "\n",
        "\n",
        "🪜 Pasos:\n",
        "\n",
        "    División de datos\n",
        "    Dividir los datos en conjunto de entrenamiento y prueba (80% entrenamiento, 20% prueba).\n",
        "\n",
        "    Entrenamiento de modelos\n",
        "    Entrenar al menos dos modelos de clasificación:\n",
        "\n",
        "        - RandomForestClassifier\n",
        "\n",
        "        - LogisticRegression\n",
        "\n",
        "📐 Fase 4: Evaluación de Modelos\n",
        "\n",
        "Objetivo: Evaluar el desempeño de los modelos mediante métricas de clasificación.\n",
        "\n",
        "🪜 Pasos:\n",
        "\n",
        "    Evaluación métrica\n",
        "    Evaluar los modelos utilizando métricas como Accuracy, Precision, Recall, F1, ROC-AUC.\n",
        "\n",
        "    Gráficos de evaluación\n",
        "    Crear gráficos de evaluación como:\n",
        "\n",
        "        - Matrices de confusión para ambos modelos.\n",
        "\n",
        "        - Curvas ROC para ambos modelos.\n",
        "\n",
        "🧠 Fase 5: Interpretación y Conclusiones Estratégicas\n",
        "\n",
        "Objetivo: Identificar las variables clave que impactan en la cancelación de clientes y proponer acciones estratégicas.\n",
        "\n",
        "🪜 Pasos:\n",
        "\n",
        "    Importancia de variables\n",
        "    Visualizar las características más influyentes para la predicción de churn, usando la importancia de las variables en el modelo Random Forest.\n",
        "\n",
        "    Redacción de insights estratégicos\n",
        "    Analizar qué variables son más relevantes y qué estrategias se pueden proponer para reducir el churn.\n",
        "\n"
      ],
      "metadata": {
        "id": "bN_ttqyxyvF3"
      }
    },
    {
      "cell_type": "markdown",
      "source": [
        "📊 VARIABLES NUMÉRICAS\n",
        "────────────────────────────────────\n",
        "1. tenure               ✅ → Numérica → 🧑‍💼 Perfil del cliente\n",
        "2. MonthlyCharges       ✅ → Numérica → 📄 Modelo de contrato\n",
        "3. TotalCharges         ❌ → Eliminada (duplicada de MonthlyCharges)\n",
        "4. Cuentas_diarias      ❌ → Eliminada (generada artificialmente)\n",
        "\n",
        "🧩 VARIABLES CATEGÓRICAS (INICIALES)\n",
        "────────────────────────────────────\n",
        "┌─ Categóricas de Perfil y Contratación ┐\n",
        "│                                        │\n",
        "5. gender              ✅ → 🧑‍💼 Perfil del cliente\n",
        "6. SeniorCitizen       ✅ → 🧑‍💼 Perfil del cliente\n",
        "7. Partner             ✅ → 🧑‍💼 Perfil del cliente\n",
        "8. Dependents          ✅ → 🧑‍💼 Perfil del cliente\n",
        "9. Contract            ✅ → 📄 Modelo de contrato\n",
        "10. PaymentMethod      ✅ → 📄 Modelo de contrato\n",
        "11. PaperlessBilling   ✅ → 📄 Modelo de contrato\n",
        "\n",
        "┌─ Categóricas de Servicios Contratados ┐\n",
        "│                                        │\n",
        "12. PhoneService       ❌ → Eliminada\n",
        "13. MultipleLines      ✅ → 🌐 Tipo de servicio base\n",
        "14. InternetService    ✅ → 🌐 Tipo de servicio base\n",
        "15. OnlineSecurity     ✅ → 🛡️ Servicios adicionales\n",
        "16. OnlineBackup       ✅ → 🛡️ Servicios adicionales\n",
        "17. DeviceProtection   ✅ → 🛡️ Servicios adicionales\n",
        "18. TechSupport        ✅ → 🛡️ Servicios adicionales\n",
        "19. StreamingTV        ✅ → 📺 Entretenimiento\n",
        "20. StreamingMovies    ✅ → 📺 Entretenimiento\n",
        "\n",
        "🎯 VARIABLE OBJETIVO\n",
        "────────────────────────────────────\n",
        "21. Churn              ✅ → Variable de salida (objetivo)\n",
        "\n"
      ],
      "metadata": {
        "id": "_s8xPptl6Kq3"
      }
    },
    {
      "cell_type": "code",
      "metadata": {
        "id": "4cbefbde"
      },
      "source": [
        "from sklearn.preprocessing import LabelEncoder, OneHotEncoder\n",
        "import numpy as np\n",
        "\n",
        "# Separate features and target\n",
        "X = datos_v1.drop('Churn', axis=1)\n",
        "y = datos_v1['Churn']\n",
        "\n",
        "# Label Encoding for binary columns (excluding Churn as it's already boolean)\n",
        "label_encode_cols = [\n",
        "    'gender', 'Partner', 'Dependents', 'SeniorCitizen',\n",
        "    'OnlineSecurity', 'OnlineBackup', 'DeviceProtection',\n",
        "    'TechSupport', 'StreamingTV', 'StreamingMovies',\n",
        "    'PaperlessBilling'\n",
        "]\n",
        "\n",
        "# SeniorCitizen is already boolean, so we don't need to encode it.\n",
        "label_encode_cols.remove('SeniorCitizen')\n",
        "\n",
        "for col in label_encode_cols:\n",
        "    le = LabelEncoder()\n",
        "    X[col] = le.fit_transform(X[col])\n",
        "\n",
        "# One-Hot Encoding for columns with 3 or more categories\n",
        "one_hot_encode_cols = [\n",
        "    'MultipleLines', 'InternetService', 'Contract', 'PaymentMethod'\n",
        "]\n",
        "\n",
        "# Apply One-Hot Encoding\n",
        "X = pd.get_dummies(X, columns=one_hot_encode_cols, drop_first=True)\n",
        "\n",
        "# Display the first few rows of the transformed dataframe and its shape\n",
        "print(\"DataFrame after encoding:\")\n",
        "display(X.head())\n",
        "print(\"\\nShape of the transformed DataFrame:\", X.shape)"
      ],
      "execution_count": null,
      "outputs": []
    }
  ]
}