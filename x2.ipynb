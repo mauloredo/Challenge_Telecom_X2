{
  "nbformat": 4,
  "nbformat_minor": 0,
  "metadata": {
    "colab": {
      "provenance": [],
      "authorship_tag": "ABX9TyM+yNb3n9pmgZuIUvbo6url",
      "include_colab_link": true
    },
    "kernelspec": {
      "name": "python3",
      "display_name": "Python 3"
    },
    "language_info": {
      "name": "python"
    }
  },
  "cells": [
    {
      "cell_type": "markdown",
      "metadata": {
        "id": "view-in-github",
        "colab_type": "text"
      },
      "source": [
        "<a href=\"https://colab.research.google.com/github/mauloredo/Challenge_Telecom_X2/blob/main/x2.ipynb\" target=\"_parent\"><img src=\"https://colab.research.google.com/assets/colab-badge.svg\" alt=\"Open In Colab\"/></a>"
      ]
    },
    {
      "cell_type": "markdown",
      "source": [
        "# PRODUCCIÓN"
      ],
      "metadata": {
        "id": "96duXZO-f3K8"
      }
    },
    {
      "cell_type": "markdown",
      "source": [
        "## DESCRIPCIÓN DEL DESAFÍO"
      ],
      "metadata": {
        "id": "O8FIUBIjcOQm"
      }
    },
    {
      "cell_type": "markdown",
      "source": [
        "\n",
        "\n",
        "Telecom X – Parte 2: Predicción de Cancelación (Churn)\n",
        "\n",
        "📣 Historia del Desafío\n",
        "\n",
        "¡Felicidades! 🎉 Has sido promovido después de tu excelente desempeño en el análisis exploratorio de la cancelación de clientes en Telecom X. Tu dedicación, claridad al comunicar los datos y visión estratégica marcaron la diferencia.\n",
        "\n",
        "Ahora, ¡has sido invitado oficialmente a formar parte del equipo de Machine Learning de la empresa!\n",
        "\n",
        "🎯 Misión\n",
        "\n",
        "Tu nueva misión es desarrollar modelos predictivos capaces de prever qué clientes tienen mayor probabilidad de cancelar sus servicios.\n",
        "\n",
        "La empresa quiere anticiparse al problema de la cancelación, y te corresponde a ti construir un pipeline robusto para esta etapa inicial de modelado.\n",
        "\n",
        "🧠 Objetivos del Desafío\n",
        "\n",
        "    Preparar los datos para el modelado (tratamiento, codificación, normalización).\n",
        "\n",
        "    Realizar análisis de correlación y selección de variables.\n",
        "\n",
        "    Entrenar dos o más modelos de clasificación.\n",
        "\n",
        "    Evaluar el rendimiento de los modelos con métricas.\n",
        "\n",
        "    Interpretar los resultados, incluyendo la importancia de las variables.\n",
        "\n",
        "    Crear una conclusión estratégica señalando los principales factores que influyen en la cancelación.\n",
        "\n",
        "🧰 Lo que vas a practicar\n",
        "\n",
        "✅ Preprocesamiento de datos para Machine Learning\n",
        "✅ Construcción y evaluación de modelos predictivos\n",
        "✅ Interpretación de resultados y entrega de insights\n",
        "✅ Comunicación técnica con enfoque estratégico\n",
        "\n",
        "🚀 Ahora eres: Analista Junior de Machine Learning\n",
        "\n",
        "Telecom X confía en tu entrega para dar los próximos pasos hacia una solución de inteligencia predictiva eficaz. ¡Buena suerte!\n",
        "Comentarios y Actividad"
      ],
      "metadata": {
        "id": "Uh8IXd4UcEKc"
      }
    },
    {
      "cell_type": "markdown",
      "source": [
        "### IMPORTANDO EL DATAFRAME"
      ],
      "metadata": {
        "id": "OpKr_G99gKKY"
      }
    },
    {
      "cell_type": "code",
      "source": [
        "import requests\n",
        "from io import BytesIO\n",
        "import pandas as pd\n",
        "\n",
        "raw_url = 'https://raw.githubusercontent.com/mauloredo/Challenge_Telecom_X2/refs/heads/main/data_x2.csv'\n",
        "\n",
        "print(f\"Attempting to download data from: {raw_url}\")\n",
        "\n",
        "try:\n",
        "    response = requests.get(raw_url)\n",
        "    response.raise_for_status()\n",
        "\n",
        "    datos_x2 = pd.read_csv(BytesIO(response.content))\n",
        "\n",
        "    print(\"File downloaded and loaded successfully!\")\n",
        "    print(\"DataFrame shape:\", datos_x2.shape)\n",
        "    print(\"\\nDataFrame head:\")\n",
        "    print(datos_x2.head())\n",
        "\n",
        "except requests.exceptions.RequestException as e:\n",
        "    print(f\"Error downloading the file: {e}\")\n",
        "    print(\"Please ensure the raw URL is correct and the file exists in the repository.\")"
      ],
      "metadata": {
        "colab": {
          "base_uri": "https://localhost:8080/"
        },
        "id": "aV8DwSQcgSOL",
        "outputId": "62f2ed7b-478e-49a5-d6d9-5237ff201a84"
      },
      "execution_count": 1,
      "outputs": [
        {
          "output_type": "stream",
          "name": "stdout",
          "text": [
            "Attempting to download data from: https://raw.githubusercontent.com/mauloredo/Challenge_Telecom_X2/refs/heads/main/data_x2.csv\n",
            "File downloaded and loaded successfully!\n",
            "DataFrame shape: (7043, 21)\n",
            "\n",
            "DataFrame head:\n",
            "   Churn  gender  SeniorCitizen Partner Dependents  tenure PhoneService  \\\n",
            "0  False  Female          False     Yes        Yes       9          Yes   \n",
            "1  False    Male          False      No         No       9          Yes   \n",
            "2   True    Male          False      No         No       4          Yes   \n",
            "3   True    Male           True     Yes         No      13          Yes   \n",
            "4   True  Female           True     Yes         No       3          Yes   \n",
            "\n",
            "  MultipleLines InternetService OnlineSecurity  ... DeviceProtection  \\\n",
            "0            No             DSL             No  ...               No   \n",
            "1           Yes             DSL             No  ...               No   \n",
            "2            No     Fiber optic             No  ...              Yes   \n",
            "3            No     Fiber optic             No  ...              Yes   \n",
            "4            No     Fiber optic             No  ...               No   \n",
            "\n",
            "  TechSupport StreamingTV StreamingMovies        Contract PaperlessBilling  \\\n",
            "0         Yes         Yes              No        One year              Yes   \n",
            "1          No          No             Yes  Month-to-month               No   \n",
            "2          No          No              No  Month-to-month              Yes   \n",
            "3          No         Yes             Yes  Month-to-month              Yes   \n",
            "4         Yes         Yes              No  Month-to-month              Yes   \n",
            "\n",
            "      PaymentMethod MonthlyCharges  TotalCharges  Cuentas_diarias  \n",
            "0      Mailed check           65.6        593.30         2.186667  \n",
            "1      Mailed check           59.9        542.40         1.996667  \n",
            "2  Electronic check           73.9        280.85         2.463333  \n",
            "3  Electronic check           98.0       1237.85         3.266667  \n",
            "4      Mailed check           83.9        267.40         2.796667  \n",
            "\n",
            "[5 rows x 21 columns]\n"
          ]
        }
      ]
    },
    {
      "cell_type": "code",
      "source": [
        "\n",
        "\n"
      ],
      "metadata": {
        "id": "_0lzScnDcAdd"
      },
      "execution_count": null,
      "outputs": []
    },
    {
      "cell_type": "code",
      "execution_count": null,
      "metadata": {
        "id": "hx0_DKz3bxyt"
      },
      "outputs": [],
      "source": []
    },
    {
      "cell_type": "markdown",
      "source": [
        "# PRESENTACIÓN"
      ],
      "metadata": {
        "id": "87TNy0yCf_hk"
      }
    }
  ]
}